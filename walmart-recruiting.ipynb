{
 "cells": [
  {
   "cell_type": "markdown",
   "metadata": {},
   "source": [
    "### GOAL\n",
    "#### To predict departmentwide weekly sales of every store provided historical data of 45 Walmart Stores"
   ]
  },
  {
   "cell_type": "markdown",
   "metadata": {},
   "source": [
    "## Strategy\n",
    "### Combine various datasets by Merging to incoporate more features in both training and test datasets\n",
    "#### Develop a transformation pipeline to transform all the data concatenated together\n",
    "### Use the pipeline at two instances. \n",
    "    First concatenation of training dataset with features and stores\n",
    "    Second concatenation of training, features amd stores datasets"
   ]
  },
  {
   "cell_type": "markdown",
   "metadata": {},
   "source": [
    "### Loading modules to work with"
   ]
  },
  {
   "cell_type": "code",
   "execution_count": 1,
   "metadata": {
    "executionInfo": {
     "elapsed": 1387,
     "status": "ok",
     "timestamp": 1606543799201,
     "user": {
      "displayName": "electrical eng500",
      "photoUrl": "https://lh3.googleusercontent.com/a-/AOh14Gg31t8c8rGSFUqxo-7d1o83HPYEpCIpohXJEYlQ=s64",
      "userId": "06113119512919385150"
     },
     "user_tz": -180
    },
    "id": "lkgetnYTjjg0"
   },
   "outputs": [],
   "source": [
    "import pandas as pd\n",
    "import matplotlib.pyplot as plt\n",
    "import numpy as np\n",
    "import seaborn as sns\n",
    "import os\n",
    "import datetime as dt"
   ]
  },
  {
   "cell_type": "code",
   "execution_count": 2,
   "metadata": {
    "colab": {
     "base_uri": "https://localhost:8080/",
     "height": 35
    },
    "executionInfo": {
     "elapsed": 881,
     "status": "ok",
     "timestamp": 1606543805336,
     "user": {
      "displayName": "electrical eng500",
      "photoUrl": "https://lh3.googleusercontent.com/a-/AOh14Gg31t8c8rGSFUqxo-7d1o83HPYEpCIpohXJEYlQ=s64",
      "userId": "06113119512919385150"
     },
     "user_tz": -180
    },
    "id": "mCfNA_vkjjg1",
    "outputId": "594e9f56-a84d-4ca8-c126-6c299f41a248"
   },
   "outputs": [
    {
     "data": {
      "text/plain": [
       "'C:\\\\Users\\\\Boniface\\\\Desktop\\\\pythonpractice\\\\DataScience\\\\notebooks'"
      ]
     },
     "execution_count": 2,
     "metadata": {},
     "output_type": "execute_result"
    }
   ],
   "source": [
    "os.getcwd()\n",
    "#os.chdir(path)"
   ]
  },
  {
   "cell_type": "markdown",
   "metadata": {},
   "source": [
    "### Importing our Data"
   ]
  },
  {
   "cell_type": "code",
   "execution_count": 3,
   "metadata": {
    "executionInfo": {
     "elapsed": 864,
     "status": "ok",
     "timestamp": 1606543809133,
     "user": {
      "displayName": "electrical eng500",
      "photoUrl": "https://lh3.googleusercontent.com/a-/AOh14Gg31t8c8rGSFUqxo-7d1o83HPYEpCIpohXJEYlQ=s64",
      "userId": "06113119512919385150"
     },
     "user_tz": -180
    },
    "id": "sebuVjNyjjg2"
   },
   "outputs": [],
   "source": [
    "features =pd.read_csv('datasets/walmart/features.csv').drop(columns=['IsHoliday'])\n",
    "sampleSubmission =pd.read_csv('datasets/walmart/sampleSubmission.csv')\n",
    "test =pd.read_csv('datasets/walmart/test.csv')\n",
    "train =pd.read_csv('datasets/walmart/train.csv')\n",
    "stores =pd.read_csv('datasets/walmart/stores.csv')"
   ]
  },
  {
   "cell_type": "markdown",
   "metadata": {},
   "source": [
    "#### First Merging"
   ]
  },
  {
   "cell_type": "code",
   "execution_count": 4,
   "metadata": {},
   "outputs": [],
   "source": [
    "# dataset =  pd.concat(objs=[features,stores,train], axis=0).reset_index(drop=True)\n",
    "dataset = train.merge(stores,how='left').merge(features,how='left')"
   ]
  },
  {
   "cell_type": "markdown",
   "metadata": {},
   "source": [
    "#### Data Anaysis through Descriptive Statistics\n",
    "#### Lets examine our data and get to understand it"
   ]
  },
  {
   "cell_type": "code",
   "execution_count": 5,
   "metadata": {
    "colab": {
     "base_uri": "https://localhost:8080/",
     "height": 204
    },
    "executionInfo": {
     "elapsed": 1091,
     "status": "ok",
     "timestamp": 1606543828185,
     "user": {
      "displayName": "electrical eng500",
      "photoUrl": "https://lh3.googleusercontent.com/a-/AOh14Gg31t8c8rGSFUqxo-7d1o83HPYEpCIpohXJEYlQ=s64",
      "userId": "06113119512919385150"
     },
     "user_tz": -180
    },
    "id": "yw6I9Bg9jjg3",
    "outputId": "8f6c332a-3945-4214-a2a8-049c865767eb"
   },
   "outputs": [
    {
     "name": "stdout",
     "output_type": "stream",
     "text": [
      "<class 'pandas.core.frame.DataFrame'>\n",
      "Int64Index: 421570 entries, 0 to 421569\n",
      "Data columns (total 16 columns):\n",
      " #   Column        Non-Null Count   Dtype  \n",
      "---  ------        --------------   -----  \n",
      " 0   Store         421570 non-null  int64  \n",
      " 1   Dept          421570 non-null  int64  \n",
      " 2   Date          421570 non-null  object \n",
      " 3   Weekly_Sales  421570 non-null  float64\n",
      " 4   IsHoliday     421570 non-null  bool   \n",
      " 5   Type          421570 non-null  object \n",
      " 6   Size          421570 non-null  int64  \n",
      " 7   Temperature   421570 non-null  float64\n",
      " 8   Fuel_Price    421570 non-null  float64\n",
      " 9   MarkDown1     150681 non-null  float64\n",
      " 10  MarkDown2     111248 non-null  float64\n",
      " 11  MarkDown3     137091 non-null  float64\n",
      " 12  MarkDown4     134967 non-null  float64\n",
      " 13  MarkDown5     151432 non-null  float64\n",
      " 14  CPI           421570 non-null  float64\n",
      " 15  Unemployment  421570 non-null  float64\n",
      "dtypes: bool(1), float64(10), int64(3), object(2)\n",
      "memory usage: 48.6+ MB\n"
     ]
    }
   ],
   "source": [
    "dataset.info(memory_usage='Deep')"
   ]
  },
  {
   "cell_type": "markdown",
   "metadata": {},
   "source": [
    "###### store is the only feature with complete values"
   ]
  },
  {
   "cell_type": "code",
   "execution_count": 6,
   "metadata": {
    "colab": {
     "base_uri": "https://localhost:8080/",
     "height": 297
    },
    "executionInfo": {
     "elapsed": 879,
     "status": "ok",
     "timestamp": 1606543831846,
     "user": {
      "displayName": "electrical eng500",
      "photoUrl": "https://lh3.googleusercontent.com/a-/AOh14Gg31t8c8rGSFUqxo-7d1o83HPYEpCIpohXJEYlQ=s64",
      "userId": "06113119512919385150"
     },
     "user_tz": -180
    },
    "id": "2jAbYOi5jjg3",
    "outputId": "e0b240da-ca63-49f3-96af-5603cc1682d5"
   },
   "outputs": [
    {
     "name": "stdout",
     "output_type": "stream",
     "text": [
      "Dataset has a shape of  (421570, 16)\n",
      "Dataset has a size of  6745120\n",
      "Dataset has dimensions   2\n"
     ]
    }
   ],
   "source": [
    "print(\"Dataset has a shape of \", dataset.shape)\n",
    "print(\"Dataset has a size of \", dataset.size)\n",
    "print(\"Dataset has dimensions  \", dataset.ndim)"
   ]
  },
  {
   "cell_type": "code",
   "execution_count": 7,
   "metadata": {
    "colab": {
     "base_uri": "https://localhost:8080/"
    },
    "executionInfo": {
     "elapsed": 865,
     "status": "ok",
     "timestamp": 1606543841602,
     "user": {
      "displayName": "electrical eng500",
      "photoUrl": "https://lh3.googleusercontent.com/a-/AOh14Gg31t8c8rGSFUqxo-7d1o83HPYEpCIpohXJEYlQ=s64",
      "userId": "06113119512919385150"
     },
     "user_tz": -180
    },
    "id": "wIjFUXSUjjg3",
    "outputId": "dc5fc75f-50b4-4df5-ec0e-27321411dae3"
   },
   "outputs": [
    {
     "data": {
      "text/html": [
       "<div>\n",
       "<style scoped>\n",
       "    .dataframe tbody tr th:only-of-type {\n",
       "        vertical-align: middle;\n",
       "    }\n",
       "\n",
       "    .dataframe tbody tr th {\n",
       "        vertical-align: top;\n",
       "    }\n",
       "\n",
       "    .dataframe thead th {\n",
       "        text-align: right;\n",
       "    }\n",
       "</style>\n",
       "<table border=\"1\" class=\"dataframe\">\n",
       "  <thead>\n",
       "    <tr style=\"text-align: right;\">\n",
       "      <th></th>\n",
       "      <th>Store</th>\n",
       "      <th>Dept</th>\n",
       "      <th>Date</th>\n",
       "      <th>Weekly_Sales</th>\n",
       "      <th>IsHoliday</th>\n",
       "      <th>Type</th>\n",
       "      <th>Size</th>\n",
       "      <th>Temperature</th>\n",
       "      <th>Fuel_Price</th>\n",
       "      <th>MarkDown1</th>\n",
       "      <th>MarkDown2</th>\n",
       "      <th>MarkDown3</th>\n",
       "      <th>MarkDown4</th>\n",
       "      <th>MarkDown5</th>\n",
       "      <th>CPI</th>\n",
       "      <th>Unemployment</th>\n",
       "    </tr>\n",
       "  </thead>\n",
       "  <tbody>\n",
       "    <tr>\n",
       "      <th>0</th>\n",
       "      <td>1</td>\n",
       "      <td>1</td>\n",
       "      <td>2010-02-05</td>\n",
       "      <td>24924.50</td>\n",
       "      <td>False</td>\n",
       "      <td>A</td>\n",
       "      <td>151315</td>\n",
       "      <td>42.31</td>\n",
       "      <td>2.572</td>\n",
       "      <td>NaN</td>\n",
       "      <td>NaN</td>\n",
       "      <td>NaN</td>\n",
       "      <td>NaN</td>\n",
       "      <td>NaN</td>\n",
       "      <td>211.096358</td>\n",
       "      <td>8.106</td>\n",
       "    </tr>\n",
       "    <tr>\n",
       "      <th>1</th>\n",
       "      <td>1</td>\n",
       "      <td>1</td>\n",
       "      <td>2010-02-12</td>\n",
       "      <td>46039.49</td>\n",
       "      <td>True</td>\n",
       "      <td>A</td>\n",
       "      <td>151315</td>\n",
       "      <td>38.51</td>\n",
       "      <td>2.548</td>\n",
       "      <td>NaN</td>\n",
       "      <td>NaN</td>\n",
       "      <td>NaN</td>\n",
       "      <td>NaN</td>\n",
       "      <td>NaN</td>\n",
       "      <td>211.242170</td>\n",
       "      <td>8.106</td>\n",
       "    </tr>\n",
       "    <tr>\n",
       "      <th>2</th>\n",
       "      <td>1</td>\n",
       "      <td>1</td>\n",
       "      <td>2010-02-19</td>\n",
       "      <td>41595.55</td>\n",
       "      <td>False</td>\n",
       "      <td>A</td>\n",
       "      <td>151315</td>\n",
       "      <td>39.93</td>\n",
       "      <td>2.514</td>\n",
       "      <td>NaN</td>\n",
       "      <td>NaN</td>\n",
       "      <td>NaN</td>\n",
       "      <td>NaN</td>\n",
       "      <td>NaN</td>\n",
       "      <td>211.289143</td>\n",
       "      <td>8.106</td>\n",
       "    </tr>\n",
       "    <tr>\n",
       "      <th>3</th>\n",
       "      <td>1</td>\n",
       "      <td>1</td>\n",
       "      <td>2010-02-26</td>\n",
       "      <td>19403.54</td>\n",
       "      <td>False</td>\n",
       "      <td>A</td>\n",
       "      <td>151315</td>\n",
       "      <td>46.63</td>\n",
       "      <td>2.561</td>\n",
       "      <td>NaN</td>\n",
       "      <td>NaN</td>\n",
       "      <td>NaN</td>\n",
       "      <td>NaN</td>\n",
       "      <td>NaN</td>\n",
       "      <td>211.319643</td>\n",
       "      <td>8.106</td>\n",
       "    </tr>\n",
       "    <tr>\n",
       "      <th>4</th>\n",
       "      <td>1</td>\n",
       "      <td>1</td>\n",
       "      <td>2010-03-05</td>\n",
       "      <td>21827.90</td>\n",
       "      <td>False</td>\n",
       "      <td>A</td>\n",
       "      <td>151315</td>\n",
       "      <td>46.50</td>\n",
       "      <td>2.625</td>\n",
       "      <td>NaN</td>\n",
       "      <td>NaN</td>\n",
       "      <td>NaN</td>\n",
       "      <td>NaN</td>\n",
       "      <td>NaN</td>\n",
       "      <td>211.350143</td>\n",
       "      <td>8.106</td>\n",
       "    </tr>\n",
       "  </tbody>\n",
       "</table>\n",
       "</div>"
      ],
      "text/plain": [
       "   Store  Dept        Date  Weekly_Sales  IsHoliday Type    Size  Temperature  \\\n",
       "0      1     1  2010-02-05      24924.50      False    A  151315        42.31   \n",
       "1      1     1  2010-02-12      46039.49       True    A  151315        38.51   \n",
       "2      1     1  2010-02-19      41595.55      False    A  151315        39.93   \n",
       "3      1     1  2010-02-26      19403.54      False    A  151315        46.63   \n",
       "4      1     1  2010-03-05      21827.90      False    A  151315        46.50   \n",
       "\n",
       "   Fuel_Price  MarkDown1  MarkDown2  MarkDown3  MarkDown4  MarkDown5  \\\n",
       "0       2.572        NaN        NaN        NaN        NaN        NaN   \n",
       "1       2.548        NaN        NaN        NaN        NaN        NaN   \n",
       "2       2.514        NaN        NaN        NaN        NaN        NaN   \n",
       "3       2.561        NaN        NaN        NaN        NaN        NaN   \n",
       "4       2.625        NaN        NaN        NaN        NaN        NaN   \n",
       "\n",
       "          CPI  Unemployment  \n",
       "0  211.096358         8.106  \n",
       "1  211.242170         8.106  \n",
       "2  211.289143         8.106  \n",
       "3  211.319643         8.106  \n",
       "4  211.350143         8.106  "
      ]
     },
     "execution_count": 7,
     "metadata": {},
     "output_type": "execute_result"
    }
   ],
   "source": [
    "dataset.head()"
   ]
  },
  {
   "cell_type": "code",
   "execution_count": 8,
   "metadata": {
    "colab": {
     "base_uri": "https://localhost:8080/"
    },
    "executionInfo": {
     "elapsed": 798,
     "status": "ok",
     "timestamp": 1606543860714,
     "user": {
      "displayName": "electrical eng500",
      "photoUrl": "https://lh3.googleusercontent.com/a-/AOh14Gg31t8c8rGSFUqxo-7d1o83HPYEpCIpohXJEYlQ=s64",
      "userId": "06113119512919385150"
     },
     "user_tz": -180
    },
    "id": "jY5PpN5Bjjg3",
    "outputId": "495332fe-45a2-4127-c756-3dfab49937c6"
   },
   "outputs": [
    {
     "name": "stdout",
     "output_type": "stream",
     "text": [
      "columns present are \n",
      " ['Store', 'Dept', 'Date', 'Weekly_Sales', 'IsHoliday', 'Type', 'Size', 'Temperature', 'Fuel_Price', 'MarkDown1', 'MarkDown2', 'MarkDown3', 'MarkDown4', 'MarkDown5', 'CPI', 'Unemployment'] \n",
      " No of columns is 16\n"
     ]
    },
    {
     "data": {
      "text/plain": [
       "Store           421570\n",
       "Dept            421570\n",
       "Date            421570\n",
       "Weekly_Sales    421570\n",
       "IsHoliday       421570\n",
       "Type            421570\n",
       "Size            421570\n",
       "Temperature     421570\n",
       "Fuel_Price      421570\n",
       "MarkDown1       150681\n",
       "MarkDown2       111248\n",
       "MarkDown3       137091\n",
       "MarkDown4       134967\n",
       "MarkDown5       151432\n",
       "CPI             421570\n",
       "Unemployment    421570\n",
       "dtype: int64"
      ]
     },
     "execution_count": 8,
     "metadata": {},
     "output_type": "execute_result"
    }
   ],
   "source": [
    "# Descriptive Analytics\n",
    "tot_len = len(dataset.columns.tolist())\n",
    "print('columns present are \\n {} \\n No of columns is {}'.format(dataset.columns.tolist(),tot_len))\n",
    "dataset.count() # total number of values per column\n"
   ]
  },
  {
   "cell_type": "code",
   "execution_count": 9,
   "metadata": {},
   "outputs": [
    {
     "name": "stdout",
     "output_type": "stream",
     "text": [
      "No of numeric features is  13\n",
      "Number of non-numeric features are:  3\n"
     ]
    }
   ],
   "source": [
    " #described columns to list. Represents numeric features\n",
    "leng = len(dataset.describe().keys().tolist())\n",
    "print(\"No of numeric features is \", leng)\n",
    "print(\"Number of non-numeric features are: \", tot_len-leng)"
   ]
  },
  {
   "cell_type": "code",
   "execution_count": 10,
   "metadata": {},
   "outputs": [
    {
     "name": "stdout",
     "output_type": "stream",
     "text": [
      "Missing Date values are: \n"
     ]
    },
    {
     "data": {
      "text/plain": [
       "Store                0\n",
       "Dept                 0\n",
       "Date                 0\n",
       "Weekly_Sales         0\n",
       "IsHoliday            0\n",
       "Type                 0\n",
       "Size                 0\n",
       "Temperature          0\n",
       "Fuel_Price           0\n",
       "MarkDown1       270889\n",
       "MarkDown2       310322\n",
       "MarkDown3       284479\n",
       "MarkDown4       286603\n",
       "MarkDown5       270138\n",
       "CPI                  0\n",
       "Unemployment         0\n",
       "dtype: int64"
      ]
     },
     "execution_count": 10,
     "metadata": {},
     "output_type": "execute_result"
    }
   ],
   "source": [
    "print('Missing Date values are: ')\n",
    "dataset.isnull().sum()"
   ]
  },
  {
   "cell_type": "markdown",
   "metadata": {},
   "source": [
    "### Markdown can be seen to have large volumes of missing data.\n",
    "#### We need a strategy to fill missing values\n"
   ]
  },
  {
   "cell_type": "markdown",
   "metadata": {},
   "source": [
    "\n",
    "## Data Exploration"
   ]
  },
  {
   "cell_type": "code",
   "execution_count": 11,
   "metadata": {},
   "outputs": [],
   "source": [
    "# Lets draw a scatter matric against weeklysales\n",
    "def scatter(dataset,column):\n",
    "    plt.figure(column)\n",
    "    plt.scatter(dataset[column],dataset['Weekly_Sales'])\n",
    "    plt.xlabel(column)\n",
    "    plt.ylabel('Weekly_Sales')"
   ]
  },
  {
   "cell_type": "code",
   "execution_count": 12,
   "metadata": {},
   "outputs": [
    {
     "data": {
      "image/png": "[encoded data removed]",
      "text/plain": [
       "<Figure size 432x288 with 1 Axes>"
      ]
     },
     "metadata": {
      "needs_background": "light"
     },
     "output_type": "display_data"
    },
    {
     "data": {
      "image/png": "[encoded data removed]",
      "text/plain": [
       "<Figure size 432x288 with 1 Axes>"
      ]
     },
     "metadata": {
      "needs_background": "light"
     },
     "output_type": "display_data"
    },
    {
     "data": {
      "image/png": "[encoded data removed]",
      "text/plain": [
       "<Figure size 432x288 with 1 Axes>"
      ]
     },
     "metadata": {
      "needs_background": "light"
     },
     "output_type": "display_data"
    },
    {
     "data": {
      "image/png": "[encoded data removed]",
      "text/plain": [
       "<Figure size 432x288 with 1 Axes>"
      ]
     },
     "metadata": {
      "needs_background": "light"
     },
     "output_type": "display_data"
    },
    {
     "data": {
      "image/png": "[encoded data removed]",
      "text/plain": [
       "<Figure size 432x288 with 1 Axes>"
      ]
     },
     "metadata": {
      "needs_background": "light"
     },
     "output_type": "display_data"
    },
    {
     "data": {
      "image/png": "[encoded data removed]",
      "text/plain": [
       "<Figure size 432x288 with 1 Axes>"
      ]
     },
     "metadata": {
      "needs_background": "light"
     },
     "output_type": "display_data"
    },
    {
     "data": {
      "image/png": "[encoded data removed]",
      "text/plain": [
       "<Figure size 432x288 with 1 Axes>"
      ]
     },
     "metadata": {
      "needs_background": "light"
     },
     "output_type": "display_data"
    },
    {
     "data": {
      "image/png": "[encoded data removed]",
      "text/plain": [
       "<Figure size 432x288 with 1 Axes>"
      ]
     },
     "metadata": {
      "needs_background": "light"
     },
     "output_type": "display_data"
    },
    {
     "data": {
      "image/png": "[encoded data removed]",
      "text/plain": [
       "<Figure size 432x288 with 1 Axes>"
      ]
     },
     "metadata": {
      "needs_background": "light"
     },
     "output_type": "display_data"
    }
   ],
   "source": [
    "scatter(dataset,'Store')\n",
    "scatter(dataset,'Dept')\n",
    "scatter(dataset, 'Fuel_Price')\n",
    "scatter(dataset, 'Size')\n",
    "scatter(dataset, 'CPI')\n",
    "scatter(dataset, 'Type')\n",
    "scatter(dataset, 'IsHoliday')\n",
    "scatter(dataset, 'Unemployment')\n",
    "scatter(dataset, 'Temperature')"
   ]
  },
  {
   "cell_type": "markdown",
   "metadata": {},
   "source": [
    "### Correlation Matrix"
   ]
  },
  {
   "cell_type": "code",
   "execution_count": 13,
   "metadata": {},
   "outputs": [
    {
     "data": {
      "text/plain": [
       "<AxesSubplot:>"
      ]
     },
     "execution_count": 13,
     "metadata": {},
     "output_type": "execute_result"
    },
    {
     "data": {
      "image/png": "[encoded data removed]",
      "text/plain": [
       "<Figure size 1296x1008 with 2 Axes>"
      ]
     },
     "metadata": {
      "needs_background": "light"
     },
     "output_type": "display_data"
    }
   ],
   "source": [
    "# Lets get a correlation matrix\n",
    "corr = dataset.corr()\n",
    "fig1 =plt.figure(figsize=(18,14))\n",
    "#plt.yticks(np.arange(0.5, len(corr.index), 1), corr.index)\n",
    "#plt.xticks(np.arange(0.5, len(corr.columns), 1), corr.columns)\n",
    "sns.heatmap(corr,annot =True,fmt=\".2f\",cmap=\"BrBG\",square=True)"
   ]
  },
  {
   "cell_type": "code",
   "execution_count": 14,
   "metadata": {},
   "outputs": [
    {
     "data": {
      "text/html": [
       "<div>\n",
       "<style scoped>\n",
       "    .dataframe tbody tr th:only-of-type {\n",
       "        vertical-align: middle;\n",
       "    }\n",
       "\n",
       "    .dataframe tbody tr th {\n",
       "        vertical-align: top;\n",
       "    }\n",
       "\n",
       "    .dataframe thead th {\n",
       "        text-align: right;\n",
       "    }\n",
       "</style>\n",
       "<table border=\"1\" class=\"dataframe\">\n",
       "  <thead>\n",
       "    <tr style=\"text-align: right;\">\n",
       "      <th></th>\n",
       "      <th></th>\n",
       "      <th>Weekly_Sales</th>\n",
       "      <th>IsHoliday</th>\n",
       "      <th>Size</th>\n",
       "      <th>Temperature</th>\n",
       "      <th>Fuel_Price</th>\n",
       "      <th>MarkDown1</th>\n",
       "      <th>MarkDown2</th>\n",
       "      <th>MarkDown3</th>\n",
       "      <th>MarkDown4</th>\n",
       "      <th>MarkDown5</th>\n",
       "      <th>CPI</th>\n",
       "      <th>Unemployment</th>\n",
       "    </tr>\n",
       "    <tr>\n",
       "      <th>Store</th>\n",
       "      <th>Dept</th>\n",
       "      <th></th>\n",
       "      <th></th>\n",
       "      <th></th>\n",
       "      <th></th>\n",
       "      <th></th>\n",
       "      <th></th>\n",
       "      <th></th>\n",
       "      <th></th>\n",
       "      <th></th>\n",
       "      <th></th>\n",
       "      <th></th>\n",
       "      <th></th>\n",
       "    </tr>\n",
       "  </thead>\n",
       "  <tbody>\n",
       "    <tr>\n",
       "      <th rowspan=\"5\" valign=\"top\">1</th>\n",
       "      <th>1</th>\n",
       "      <td>3219405.18</td>\n",
       "      <td>10</td>\n",
       "      <td>21638045</td>\n",
       "      <td>9767.87</td>\n",
       "      <td>460.417</td>\n",
       "      <td>412629.08</td>\n",
       "      <td>123535.25</td>\n",
       "      <td>61270.02</td>\n",
       "      <td>191050.32</td>\n",
       "      <td>255951.40</td>\n",
       "      <td>30887.555523</td>\n",
       "      <td>1088.290</td>\n",
       "    </tr>\n",
       "    <tr>\n",
       "      <th>2</th>\n",
       "      <td>6592598.93</td>\n",
       "      <td>10</td>\n",
       "      <td>21638045</td>\n",
       "      <td>9767.87</td>\n",
       "      <td>460.417</td>\n",
       "      <td>412629.08</td>\n",
       "      <td>123535.25</td>\n",
       "      <td>61270.02</td>\n",
       "      <td>191050.32</td>\n",
       "      <td>255951.40</td>\n",
       "      <td>30887.555523</td>\n",
       "      <td>1088.290</td>\n",
       "    </tr>\n",
       "    <tr>\n",
       "      <th>3</th>\n",
       "      <td>1880518.36</td>\n",
       "      <td>10</td>\n",
       "      <td>21638045</td>\n",
       "      <td>9767.87</td>\n",
       "      <td>460.417</td>\n",
       "      <td>412629.08</td>\n",
       "      <td>123535.25</td>\n",
       "      <td>61270.02</td>\n",
       "      <td>191050.32</td>\n",
       "      <td>255951.40</td>\n",
       "      <td>30887.555523</td>\n",
       "      <td>1088.290</td>\n",
       "    </tr>\n",
       "    <tr>\n",
       "      <th>4</th>\n",
       "      <td>5285874.09</td>\n",
       "      <td>10</td>\n",
       "      <td>21638045</td>\n",
       "      <td>9767.87</td>\n",
       "      <td>460.417</td>\n",
       "      <td>412629.08</td>\n",
       "      <td>123535.25</td>\n",
       "      <td>61270.02</td>\n",
       "      <td>191050.32</td>\n",
       "      <td>255951.40</td>\n",
       "      <td>30887.555523</td>\n",
       "      <td>1088.290</td>\n",
       "    </tr>\n",
       "    <tr>\n",
       "      <th>5</th>\n",
       "      <td>3468885.58</td>\n",
       "      <td>10</td>\n",
       "      <td>21638045</td>\n",
       "      <td>9767.87</td>\n",
       "      <td>460.417</td>\n",
       "      <td>412629.08</td>\n",
       "      <td>123535.25</td>\n",
       "      <td>61270.02</td>\n",
       "      <td>191050.32</td>\n",
       "      <td>255951.40</td>\n",
       "      <td>30887.555523</td>\n",
       "      <td>1088.290</td>\n",
       "    </tr>\n",
       "    <tr>\n",
       "      <th>...</th>\n",
       "      <th>...</th>\n",
       "      <td>...</td>\n",
       "      <td>...</td>\n",
       "      <td>...</td>\n",
       "      <td>...</td>\n",
       "      <td>...</td>\n",
       "      <td>...</td>\n",
       "      <td>...</td>\n",
       "      <td>...</td>\n",
       "      <td>...</td>\n",
       "      <td>...</td>\n",
       "      <td>...</td>\n",
       "      <td>...</td>\n",
       "    </tr>\n",
       "    <tr>\n",
       "      <th rowspan=\"5\" valign=\"top\">45</th>\n",
       "      <th>94</th>\n",
       "      <td>494496.46</td>\n",
       "      <td>10</td>\n",
       "      <td>15841614</td>\n",
       "      <td>7647.63</td>\n",
       "      <td>463.503</td>\n",
       "      <td>440982.94</td>\n",
       "      <td>139828.54</td>\n",
       "      <td>33024.14</td>\n",
       "      <td>171703.26</td>\n",
       "      <td>205566.89</td>\n",
       "      <td>24998.806294</td>\n",
       "      <td>1157.523</td>\n",
       "    </tr>\n",
       "    <tr>\n",
       "      <th>95</th>\n",
       "      <td>7564151.83</td>\n",
       "      <td>10</td>\n",
       "      <td>16905603</td>\n",
       "      <td>8264.11</td>\n",
       "      <td>488.718</td>\n",
       "      <td>440982.94</td>\n",
       "      <td>139828.54</td>\n",
       "      <td>33024.14</td>\n",
       "      <td>171703.26</td>\n",
       "      <td>205566.89</td>\n",
       "      <td>26638.851959</td>\n",
       "      <td>1236.771</td>\n",
       "    </tr>\n",
       "    <tr>\n",
       "      <th>96</th>\n",
       "      <td>5.94</td>\n",
       "      <td>0</td>\n",
       "      <td>236442</td>\n",
       "      <td>118.43</td>\n",
       "      <td>7.810</td>\n",
       "      <td>17219.39</td>\n",
       "      <td>375.70</td>\n",
       "      <td>7.99</td>\n",
       "      <td>6865.77</td>\n",
       "      <td>7975.39</td>\n",
       "      <td>382.161746</td>\n",
       "      <td>17.108</td>\n",
       "    </tr>\n",
       "    <tr>\n",
       "      <th>97</th>\n",
       "      <td>924775.55</td>\n",
       "      <td>10</td>\n",
       "      <td>16905603</td>\n",
       "      <td>8264.11</td>\n",
       "      <td>488.718</td>\n",
       "      <td>440982.94</td>\n",
       "      <td>139828.54</td>\n",
       "      <td>33024.14</td>\n",
       "      <td>171703.26</td>\n",
       "      <td>205566.89</td>\n",
       "      <td>26638.851959</td>\n",
       "      <td>1236.771</td>\n",
       "    </tr>\n",
       "    <tr>\n",
       "      <th>98</th>\n",
       "      <td>75767.27</td>\n",
       "      <td>10</td>\n",
       "      <td>15959835</td>\n",
       "      <td>7705.07</td>\n",
       "      <td>465.937</td>\n",
       "      <td>440982.94</td>\n",
       "      <td>139828.54</td>\n",
       "      <td>33024.14</td>\n",
       "      <td>171703.26</td>\n",
       "      <td>205566.89</td>\n",
       "      <td>25181.332887</td>\n",
       "      <td>1166.203</td>\n",
       "    </tr>\n",
       "  </tbody>\n",
       "</table>\n",
       "<p>3331 rows × 12 columns</p>\n",
       "</div>"
      ],
      "text/plain": [
       "            Weekly_Sales  IsHoliday      Size  Temperature  Fuel_Price  \\\n",
       "Store Dept                                                               \n",
       "1     1       3219405.18         10  21638045      9767.87     460.417   \n",
       "      2       6592598.93         10  21638045      9767.87     460.417   \n",
       "      3       1880518.36         10  21638045      9767.87     460.417   \n",
       "      4       5285874.09         10  21638045      9767.87     460.417   \n",
       "      5       3468885.58         10  21638045      9767.87     460.417   \n",
       "...                  ...        ...       ...          ...         ...   \n",
       "45    94       494496.46         10  15841614      7647.63     463.503   \n",
       "      95      7564151.83         10  16905603      8264.11     488.718   \n",
       "      96            5.94          0    236442       118.43       7.810   \n",
       "      97       924775.55         10  16905603      8264.11     488.718   \n",
       "      98        75767.27         10  15959835      7705.07     465.937   \n",
       "\n",
       "            MarkDown1  MarkDown2  MarkDown3  MarkDown4  MarkDown5  \\\n",
       "Store Dept                                                          \n",
       "1     1     412629.08  123535.25   61270.02  191050.32  255951.40   \n",
       "      2     412629.08  123535.25   61270.02  191050.32  255951.40   \n",
       "      3     412629.08  123535.25   61270.02  191050.32  255951.40   \n",
       "      4     412629.08  123535.25   61270.02  191050.32  255951.40   \n",
       "      5     412629.08  123535.25   61270.02  191050.32  255951.40   \n",
       "...               ...        ...        ...        ...        ...   \n",
       "45    94    440982.94  139828.54   33024.14  171703.26  205566.89   \n",
       "      95    440982.94  139828.54   33024.14  171703.26  205566.89   \n",
       "      96     17219.39     375.70       7.99    6865.77    7975.39   \n",
       "      97    440982.94  139828.54   33024.14  171703.26  205566.89   \n",
       "      98    440982.94  139828.54   33024.14  171703.26  205566.89   \n",
       "\n",
       "                     CPI  Unemployment  \n",
       "Store Dept                              \n",
       "1     1     30887.555523      1088.290  \n",
       "      2     30887.555523      1088.290  \n",
       "      3     30887.555523      1088.290  \n",
       "      4     30887.555523      1088.290  \n",
       "      5     30887.555523      1088.290  \n",
       "...                  ...           ...  \n",
       "45    94    24998.806294      1157.523  \n",
       "      95    26638.851959      1236.771  \n",
       "      96      382.161746        17.108  \n",
       "      97    26638.851959      1236.771  \n",
       "      98    25181.332887      1166.203  \n",
       "\n",
       "[3331 rows x 12 columns]"
      ]
     },
     "execution_count": 14,
     "metadata": {},
     "output_type": "execute_result"
    }
   ],
   "source": [
    "dataset.groupby(['Store','Dept']).sum()"
   ]
  },
  {
   "cell_type": "code",
   "execution_count": 15,
   "metadata": {},
   "outputs": [
    {
     "data": {
      "image/png": "[encoded data removed]",
      "text/plain": [
       "<Figure size 432x288 with 1 Axes>"
      ]
     },
     "metadata": {
      "needs_background": "light"
     },
     "output_type": "display_data"
    },
    {
     "data": {
      "image/png": "[encoded data removed]",
      "text/plain": [
       "<Figure size 432x288 with 1 Axes>"
      ]
     },
     "metadata": {
      "needs_background": "light"
     },
     "output_type": "display_data"
    },
    {
     "data": {
      "image/png": "[encoded data removed]",
      "text/plain": [
       "<Figure size 432x288 with 1 Axes>"
      ]
     },
     "metadata": {
      "needs_background": "light"
     },
     "output_type": "display_data"
    },
    {
     "data": {
      "image/png": "[encoded data removed]",
      "text/plain": [
       "<Figure size 432x288 with 1 Axes>"
      ]
     },
     "metadata": {
      "needs_background": "light"
     },
     "output_type": "display_data"
    }
   ],
   "source": [
    "i = 0\n",
    "for name, group in dataset.groupby(['Store','Dept']):\n",
    "    plt.title(name)\n",
    "    plt.scatter(range(len(group)), group[\"Weekly_Sales\"])\n",
    "    plt.ylabel('Weekly_Sales')\n",
    "    plt.show()\n",
    "    i += 1\n",
    "    if i == 4:\n",
    "        break"
   ]
  },
  {
   "cell_type": "markdown",
   "metadata": {},
   "source": [
    "### Data manipulation"
   ]
  },
  {
   "cell_type": "markdown",
   "metadata": {},
   "source": [
    "### I,ll explore two ways to manipulate the date column, then later see their impact on model perfomance\n",
    "    * One is transform holidays to an assigned prefix, then later get dummies\n",
    "    * Two is obtain month from the dates column then drop it later\n",
    "    *Three is have both the date and in oneHot encoding and month columns"
   ]
  },
  {
   "cell_type": "code",
   "execution_count": 16,
   "metadata": {},
   "outputs": [],
   "source": [
    "# Lets define the transformer that will handle this task\n",
    "'''This returns either one of the datasets , dataset A if prefix=True,\n",
    "    datasetB if month=True and datasetC if both are true'''\n",
    "datasetA = dataset.copy()\n",
    "datasetB = dataset.copy()\n",
    "datasetC = dataset.copy()\n",
    "def custom_date_transform(dataset,prefix=True,month=False):\n",
    "    def date_transform(dataset):\n",
    "        # Replace the SuperBowl holidays with an S.Dates defined in Kaggle \n",
    "        dataset.Date.replace(['2010-02-12','2011-02-11','2012-02-10','2013-2-08'],'S',inplace = True)\n",
    "        # Replace the Labour holidays with an L .Dates defined in Kaggle \n",
    "        dataset.Date.replace(['2010-09-10','2011-09-09','2012-09-07','2013-09-06'], 'L' ,inplace = True)\n",
    "        # Replace the Thanksgiving holidays with a T .Dates defined in Kaggle \n",
    "        dataset.Date.replace(['2010-11-26','2011-11-25','2012-11-23','2013-11-29'],'T',inplace = True)\n",
    "        # Replace the Christmass holidays with a C .Dates defined in Kaggle \n",
    "        dataset.Date.replace(['2010-12-31','2011-12-30','2012-12-28','2013-12-27'],'C',inplace = True)\n",
    "        # Replace the other date values with N for normal day\n",
    "        dataset.loc[dataset.Date.str.len() > 1,'Date'] = 'N'\n",
    "    if prefix == True and month == False:\n",
    "        date_transform(dataset)\n",
    "    elif month == True and prefix == False:\n",
    "        #B\n",
    "        dataset['Month'] = pd.to_datetime(dataset['Date']).dt.month\n",
    "        dataset.drop(columns=['Date'],inplace=True)\n",
    "    elif prefix == True and month == True:\n",
    "        #C\n",
    "        dataset['Month'] = pd.to_datetime(dataset['Date']).dt.month\n",
    "        date_transform(dataset)"
   ]
  },
  {
   "cell_type": "code",
   "execution_count": 17,
   "metadata": {},
   "outputs": [],
   "source": [
    "custom_date_transform(datasetC,prefix=True,month=True)"
   ]
  },
  {
   "cell_type": "code",
   "execution_count": 18,
   "metadata": {},
   "outputs": [],
   "source": [
    "custom_date_transform(datasetA)"
   ]
  },
  {
   "cell_type": "code",
   "execution_count": 19,
   "metadata": {},
   "outputs": [],
   "source": [
    "custom_date_transform(datasetB,prefix=False,month=True)"
   ]
  },
  {
   "cell_type": "code",
   "execution_count": 20,
   "metadata": {},
   "outputs": [],
   "source": [
    "# Getting Dummies\n",
    "def getdummies(dataset,col,pref):\n",
    "    dataset = pd.get_dummies(dataset, columns = col, prefix=pref)\n",
    "    return dataset\n",
    "\n"
   ]
  },
  {
   "cell_type": "code",
   "execution_count": 21,
   "metadata": {},
   "outputs": [],
   "source": [
    "datasetA = getdummies(datasetA,[\"Date\",\"Type\"],[\"D\",\"T\"])\n",
    "datasetB = getdummies(datasetB,[\"Type\"],[\"T\"])\n",
    "datasetC = getdummies(datasetC,[\"Date\",\"Type\"],[\"D\",\"T\"])"
   ]
  },
  {
   "cell_type": "code",
   "execution_count": 22,
   "metadata": {},
   "outputs": [
    {
     "data": {
      "text/html": [
       "<div>\n",
       "<style scoped>\n",
       "    .dataframe tbody tr th:only-of-type {\n",
       "        vertical-align: middle;\n",
       "    }\n",
       "\n",
       "    .dataframe tbody tr th {\n",
       "        vertical-align: top;\n",
       "    }\n",
       "\n",
       "    .dataframe thead th {\n",
       "        text-align: right;\n",
       "    }\n",
       "</style>\n",
       "<table border=\"1\" class=\"dataframe\">\n",
       "  <thead>\n",
       "    <tr style=\"text-align: right;\">\n",
       "      <th></th>\n",
       "      <th>Store</th>\n",
       "      <th>Dept</th>\n",
       "      <th>Weekly_Sales</th>\n",
       "      <th>IsHoliday</th>\n",
       "      <th>Size</th>\n",
       "      <th>Temperature</th>\n",
       "      <th>Fuel_Price</th>\n",
       "      <th>MarkDown1</th>\n",
       "      <th>MarkDown2</th>\n",
       "      <th>MarkDown3</th>\n",
       "      <th>...</th>\n",
       "      <th>CPI</th>\n",
       "      <th>Unemployment</th>\n",
       "      <th>D_C</th>\n",
       "      <th>D_L</th>\n",
       "      <th>D_N</th>\n",
       "      <th>D_S</th>\n",
       "      <th>D_T</th>\n",
       "      <th>T_A</th>\n",
       "      <th>T_B</th>\n",
       "      <th>T_C</th>\n",
       "    </tr>\n",
       "  </thead>\n",
       "  <tbody>\n",
       "    <tr>\n",
       "      <th>0</th>\n",
       "      <td>1</td>\n",
       "      <td>1</td>\n",
       "      <td>24924.50</td>\n",
       "      <td>False</td>\n",
       "      <td>151315</td>\n",
       "      <td>42.31</td>\n",
       "      <td>2.572</td>\n",
       "      <td>NaN</td>\n",
       "      <td>NaN</td>\n",
       "      <td>NaN</td>\n",
       "      <td>...</td>\n",
       "      <td>211.096358</td>\n",
       "      <td>8.106</td>\n",
       "      <td>0</td>\n",
       "      <td>0</td>\n",
       "      <td>1</td>\n",
       "      <td>0</td>\n",
       "      <td>0</td>\n",
       "      <td>1</td>\n",
       "      <td>0</td>\n",
       "      <td>0</td>\n",
       "    </tr>\n",
       "    <tr>\n",
       "      <th>1</th>\n",
       "      <td>1</td>\n",
       "      <td>1</td>\n",
       "      <td>46039.49</td>\n",
       "      <td>True</td>\n",
       "      <td>151315</td>\n",
       "      <td>38.51</td>\n",
       "      <td>2.548</td>\n",
       "      <td>NaN</td>\n",
       "      <td>NaN</td>\n",
       "      <td>NaN</td>\n",
       "      <td>...</td>\n",
       "      <td>211.242170</td>\n",
       "      <td>8.106</td>\n",
       "      <td>0</td>\n",
       "      <td>0</td>\n",
       "      <td>0</td>\n",
       "      <td>1</td>\n",
       "      <td>0</td>\n",
       "      <td>1</td>\n",
       "      <td>0</td>\n",
       "      <td>0</td>\n",
       "    </tr>\n",
       "    <tr>\n",
       "      <th>2</th>\n",
       "      <td>1</td>\n",
       "      <td>1</td>\n",
       "      <td>41595.55</td>\n",
       "      <td>False</td>\n",
       "      <td>151315</td>\n",
       "      <td>39.93</td>\n",
       "      <td>2.514</td>\n",
       "      <td>NaN</td>\n",
       "      <td>NaN</td>\n",
       "      <td>NaN</td>\n",
       "      <td>...</td>\n",
       "      <td>211.289143</td>\n",
       "      <td>8.106</td>\n",
       "      <td>0</td>\n",
       "      <td>0</td>\n",
       "      <td>1</td>\n",
       "      <td>0</td>\n",
       "      <td>0</td>\n",
       "      <td>1</td>\n",
       "      <td>0</td>\n",
       "      <td>0</td>\n",
       "    </tr>\n",
       "    <tr>\n",
       "      <th>3</th>\n",
       "      <td>1</td>\n",
       "      <td>1</td>\n",
       "      <td>19403.54</td>\n",
       "      <td>False</td>\n",
       "      <td>151315</td>\n",
       "      <td>46.63</td>\n",
       "      <td>2.561</td>\n",
       "      <td>NaN</td>\n",
       "      <td>NaN</td>\n",
       "      <td>NaN</td>\n",
       "      <td>...</td>\n",
       "      <td>211.319643</td>\n",
       "      <td>8.106</td>\n",
       "      <td>0</td>\n",
       "      <td>0</td>\n",
       "      <td>1</td>\n",
       "      <td>0</td>\n",
       "      <td>0</td>\n",
       "      <td>1</td>\n",
       "      <td>0</td>\n",
       "      <td>0</td>\n",
       "    </tr>\n",
       "    <tr>\n",
       "      <th>4</th>\n",
       "      <td>1</td>\n",
       "      <td>1</td>\n",
       "      <td>21827.90</td>\n",
       "      <td>False</td>\n",
       "      <td>151315</td>\n",
       "      <td>46.50</td>\n",
       "      <td>2.625</td>\n",
       "      <td>NaN</td>\n",
       "      <td>NaN</td>\n",
       "      <td>NaN</td>\n",
       "      <td>...</td>\n",
       "      <td>211.350143</td>\n",
       "      <td>8.106</td>\n",
       "      <td>0</td>\n",
       "      <td>0</td>\n",
       "      <td>1</td>\n",
       "      <td>0</td>\n",
       "      <td>0</td>\n",
       "      <td>1</td>\n",
       "      <td>0</td>\n",
       "      <td>0</td>\n",
       "    </tr>\n",
       "  </tbody>\n",
       "</table>\n",
       "<p>5 rows × 22 columns</p>\n",
       "</div>"
      ],
      "text/plain": [
       "   Store  Dept  Weekly_Sales  IsHoliday    Size  Temperature  Fuel_Price  \\\n",
       "0      1     1      24924.50      False  151315        42.31       2.572   \n",
       "1      1     1      46039.49       True  151315        38.51       2.548   \n",
       "2      1     1      41595.55      False  151315        39.93       2.514   \n",
       "3      1     1      19403.54      False  151315        46.63       2.561   \n",
       "4      1     1      21827.90      False  151315        46.50       2.625   \n",
       "\n",
       "   MarkDown1  MarkDown2  MarkDown3  ...         CPI  Unemployment  D_C  D_L  \\\n",
       "0        NaN        NaN        NaN  ...  211.096358         8.106    0    0   \n",
       "1        NaN        NaN        NaN  ...  211.242170         8.106    0    0   \n",
       "2        NaN        NaN        NaN  ...  211.289143         8.106    0    0   \n",
       "3        NaN        NaN        NaN  ...  211.319643         8.106    0    0   \n",
       "4        NaN        NaN        NaN  ...  211.350143         8.106    0    0   \n",
       "\n",
       "   D_N  D_S  D_T  T_A  T_B  T_C  \n",
       "0    1    0    0    1    0    0  \n",
       "1    0    1    0    1    0    0  \n",
       "2    1    0    0    1    0    0  \n",
       "3    1    0    0    1    0    0  \n",
       "4    1    0    0    1    0    0  \n",
       "\n",
       "[5 rows x 22 columns]"
      ]
     },
     "execution_count": 22,
     "metadata": {},
     "output_type": "execute_result"
    }
   ],
   "source": [
    "datasetA.head()"
   ]
  },
  {
   "cell_type": "code",
   "execution_count": 23,
   "metadata": {},
   "outputs": [
    {
     "data": {
      "text/html": [
       "<div>\n",
       "<style scoped>\n",
       "    .dataframe tbody tr th:only-of-type {\n",
       "        vertical-align: middle;\n",
       "    }\n",
       "\n",
       "    .dataframe tbody tr th {\n",
       "        vertical-align: top;\n",
       "    }\n",
       "\n",
       "    .dataframe thead th {\n",
       "        text-align: right;\n",
       "    }\n",
       "</style>\n",
       "<table border=\"1\" class=\"dataframe\">\n",
       "  <thead>\n",
       "    <tr style=\"text-align: right;\">\n",
       "      <th></th>\n",
       "      <th>Store</th>\n",
       "      <th>Dept</th>\n",
       "      <th>Weekly_Sales</th>\n",
       "      <th>IsHoliday</th>\n",
       "      <th>Size</th>\n",
       "      <th>Temperature</th>\n",
       "      <th>Fuel_Price</th>\n",
       "      <th>MarkDown1</th>\n",
       "      <th>MarkDown2</th>\n",
       "      <th>MarkDown3</th>\n",
       "      <th>MarkDown4</th>\n",
       "      <th>MarkDown5</th>\n",
       "      <th>CPI</th>\n",
       "      <th>Unemployment</th>\n",
       "      <th>Month</th>\n",
       "      <th>T_A</th>\n",
       "      <th>T_B</th>\n",
       "      <th>T_C</th>\n",
       "    </tr>\n",
       "  </thead>\n",
       "  <tbody>\n",
       "    <tr>\n",
       "      <th>0</th>\n",
       "      <td>1</td>\n",
       "      <td>1</td>\n",
       "      <td>24924.50</td>\n",
       "      <td>False</td>\n",
       "      <td>151315</td>\n",
       "      <td>42.31</td>\n",
       "      <td>2.572</td>\n",
       "      <td>NaN</td>\n",
       "      <td>NaN</td>\n",
       "      <td>NaN</td>\n",
       "      <td>NaN</td>\n",
       "      <td>NaN</td>\n",
       "      <td>211.096358</td>\n",
       "      <td>8.106</td>\n",
       "      <td>2</td>\n",
       "      <td>1</td>\n",
       "      <td>0</td>\n",
       "      <td>0</td>\n",
       "    </tr>\n",
       "    <tr>\n",
       "      <th>1</th>\n",
       "      <td>1</td>\n",
       "      <td>1</td>\n",
       "      <td>46039.49</td>\n",
       "      <td>True</td>\n",
       "      <td>151315</td>\n",
       "      <td>38.51</td>\n",
       "      <td>2.548</td>\n",
       "      <td>NaN</td>\n",
       "      <td>NaN</td>\n",
       "      <td>NaN</td>\n",
       "      <td>NaN</td>\n",
       "      <td>NaN</td>\n",
       "      <td>211.242170</td>\n",
       "      <td>8.106</td>\n",
       "      <td>2</td>\n",
       "      <td>1</td>\n",
       "      <td>0</td>\n",
       "      <td>0</td>\n",
       "    </tr>\n",
       "    <tr>\n",
       "      <th>2</th>\n",
       "      <td>1</td>\n",
       "      <td>1</td>\n",
       "      <td>41595.55</td>\n",
       "      <td>False</td>\n",
       "      <td>151315</td>\n",
       "      <td>39.93</td>\n",
       "      <td>2.514</td>\n",
       "      <td>NaN</td>\n",
       "      <td>NaN</td>\n",
       "      <td>NaN</td>\n",
       "      <td>NaN</td>\n",
       "      <td>NaN</td>\n",
       "      <td>211.289143</td>\n",
       "      <td>8.106</td>\n",
       "      <td>2</td>\n",
       "      <td>1</td>\n",
       "      <td>0</td>\n",
       "      <td>0</td>\n",
       "    </tr>\n",
       "    <tr>\n",
       "      <th>3</th>\n",
       "      <td>1</td>\n",
       "      <td>1</td>\n",
       "      <td>19403.54</td>\n",
       "      <td>False</td>\n",
       "      <td>151315</td>\n",
       "      <td>46.63</td>\n",
       "      <td>2.561</td>\n",
       "      <td>NaN</td>\n",
       "      <td>NaN</td>\n",
       "      <td>NaN</td>\n",
       "      <td>NaN</td>\n",
       "      <td>NaN</td>\n",
       "      <td>211.319643</td>\n",
       "      <td>8.106</td>\n",
       "      <td>2</td>\n",
       "      <td>1</td>\n",
       "      <td>0</td>\n",
       "      <td>0</td>\n",
       "    </tr>\n",
       "    <tr>\n",
       "      <th>4</th>\n",
       "      <td>1</td>\n",
       "      <td>1</td>\n",
       "      <td>21827.90</td>\n",
       "      <td>False</td>\n",
       "      <td>151315</td>\n",
       "      <td>46.50</td>\n",
       "      <td>2.625</td>\n",
       "      <td>NaN</td>\n",
       "      <td>NaN</td>\n",
       "      <td>NaN</td>\n",
       "      <td>NaN</td>\n",
       "      <td>NaN</td>\n",
       "      <td>211.350143</td>\n",
       "      <td>8.106</td>\n",
       "      <td>3</td>\n",
       "      <td>1</td>\n",
       "      <td>0</td>\n",
       "      <td>0</td>\n",
       "    </tr>\n",
       "  </tbody>\n",
       "</table>\n",
       "</div>"
      ],
      "text/plain": [
       "   Store  Dept  Weekly_Sales  IsHoliday    Size  Temperature  Fuel_Price  \\\n",
       "0      1     1      24924.50      False  151315        42.31       2.572   \n",
       "1      1     1      46039.49       True  151315        38.51       2.548   \n",
       "2      1     1      41595.55      False  151315        39.93       2.514   \n",
       "3      1     1      19403.54      False  151315        46.63       2.561   \n",
       "4      1     1      21827.90      False  151315        46.50       2.625   \n",
       "\n",
       "   MarkDown1  MarkDown2  MarkDown3  MarkDown4  MarkDown5         CPI  \\\n",
       "0        NaN        NaN        NaN        NaN        NaN  211.096358   \n",
       "1        NaN        NaN        NaN        NaN        NaN  211.242170   \n",
       "2        NaN        NaN        NaN        NaN        NaN  211.289143   \n",
       "3        NaN        NaN        NaN        NaN        NaN  211.319643   \n",
       "4        NaN        NaN        NaN        NaN        NaN  211.350143   \n",
       "\n",
       "   Unemployment  Month  T_A  T_B  T_C  \n",
       "0         8.106      2    1    0    0  \n",
       "1         8.106      2    1    0    0  \n",
       "2         8.106      2    1    0    0  \n",
       "3         8.106      2    1    0    0  \n",
       "4         8.106      3    1    0    0  "
      ]
     },
     "execution_count": 23,
     "metadata": {},
     "output_type": "execute_result"
    }
   ],
   "source": [
    "datasetB.head()"
   ]
  },
  {
   "cell_type": "code",
   "execution_count": 24,
   "metadata": {},
   "outputs": [
    {
     "data": {
      "text/html": [
       "<div>\n",
       "<style scoped>\n",
       "    .dataframe tbody tr th:only-of-type {\n",
       "        vertical-align: middle;\n",
       "    }\n",
       "\n",
       "    .dataframe tbody tr th {\n",
       "        vertical-align: top;\n",
       "    }\n",
       "\n",
       "    .dataframe thead th {\n",
       "        text-align: right;\n",
       "    }\n",
       "</style>\n",
       "<table border=\"1\" class=\"dataframe\">\n",
       "  <thead>\n",
       "    <tr style=\"text-align: right;\">\n",
       "      <th></th>\n",
       "      <th>Store</th>\n",
       "      <th>Dept</th>\n",
       "      <th>Weekly_Sales</th>\n",
       "      <th>IsHoliday</th>\n",
       "      <th>Size</th>\n",
       "      <th>Temperature</th>\n",
       "      <th>Fuel_Price</th>\n",
       "      <th>MarkDown1</th>\n",
       "      <th>MarkDown2</th>\n",
       "      <th>MarkDown3</th>\n",
       "      <th>...</th>\n",
       "      <th>Unemployment</th>\n",
       "      <th>Month</th>\n",
       "      <th>D_C</th>\n",
       "      <th>D_L</th>\n",
       "      <th>D_N</th>\n",
       "      <th>D_S</th>\n",
       "      <th>D_T</th>\n",
       "      <th>T_A</th>\n",
       "      <th>T_B</th>\n",
       "      <th>T_C</th>\n",
       "    </tr>\n",
       "  </thead>\n",
       "  <tbody>\n",
       "    <tr>\n",
       "      <th>0</th>\n",
       "      <td>1</td>\n",
       "      <td>1</td>\n",
       "      <td>24924.50</td>\n",
       "      <td>False</td>\n",
       "      <td>151315</td>\n",
       "      <td>42.31</td>\n",
       "      <td>2.572</td>\n",
       "      <td>NaN</td>\n",
       "      <td>NaN</td>\n",
       "      <td>NaN</td>\n",
       "      <td>...</td>\n",
       "      <td>8.106</td>\n",
       "      <td>2</td>\n",
       "      <td>0</td>\n",
       "      <td>0</td>\n",
       "      <td>1</td>\n",
       "      <td>0</td>\n",
       "      <td>0</td>\n",
       "      <td>1</td>\n",
       "      <td>0</td>\n",
       "      <td>0</td>\n",
       "    </tr>\n",
       "    <tr>\n",
       "      <th>1</th>\n",
       "      <td>1</td>\n",
       "      <td>1</td>\n",
       "      <td>46039.49</td>\n",
       "      <td>True</td>\n",
       "      <td>151315</td>\n",
       "      <td>38.51</td>\n",
       "      <td>2.548</td>\n",
       "      <td>NaN</td>\n",
       "      <td>NaN</td>\n",
       "      <td>NaN</td>\n",
       "      <td>...</td>\n",
       "      <td>8.106</td>\n",
       "      <td>2</td>\n",
       "      <td>0</td>\n",
       "      <td>0</td>\n",
       "      <td>0</td>\n",
       "      <td>1</td>\n",
       "      <td>0</td>\n",
       "      <td>1</td>\n",
       "      <td>0</td>\n",
       "      <td>0</td>\n",
       "    </tr>\n",
       "    <tr>\n",
       "      <th>2</th>\n",
       "      <td>1</td>\n",
       "      <td>1</td>\n",
       "      <td>41595.55</td>\n",
       "      <td>False</td>\n",
       "      <td>151315</td>\n",
       "      <td>39.93</td>\n",
       "      <td>2.514</td>\n",
       "      <td>NaN</td>\n",
       "      <td>NaN</td>\n",
       "      <td>NaN</td>\n",
       "      <td>...</td>\n",
       "      <td>8.106</td>\n",
       "      <td>2</td>\n",
       "      <td>0</td>\n",
       "      <td>0</td>\n",
       "      <td>1</td>\n",
       "      <td>0</td>\n",
       "      <td>0</td>\n",
       "      <td>1</td>\n",
       "      <td>0</td>\n",
       "      <td>0</td>\n",
       "    </tr>\n",
       "    <tr>\n",
       "      <th>3</th>\n",
       "      <td>1</td>\n",
       "      <td>1</td>\n",
       "      <td>19403.54</td>\n",
       "      <td>False</td>\n",
       "      <td>151315</td>\n",
       "      <td>46.63</td>\n",
       "      <td>2.561</td>\n",
       "      <td>NaN</td>\n",
       "      <td>NaN</td>\n",
       "      <td>NaN</td>\n",
       "      <td>...</td>\n",
       "      <td>8.106</td>\n",
       "      <td>2</td>\n",
       "      <td>0</td>\n",
       "      <td>0</td>\n",
       "      <td>1</td>\n",
       "      <td>0</td>\n",
       "      <td>0</td>\n",
       "      <td>1</td>\n",
       "      <td>0</td>\n",
       "      <td>0</td>\n",
       "    </tr>\n",
       "    <tr>\n",
       "      <th>4</th>\n",
       "      <td>1</td>\n",
       "      <td>1</td>\n",
       "      <td>21827.90</td>\n",
       "      <td>False</td>\n",
       "      <td>151315</td>\n",
       "      <td>46.50</td>\n",
       "      <td>2.625</td>\n",
       "      <td>NaN</td>\n",
       "      <td>NaN</td>\n",
       "      <td>NaN</td>\n",
       "      <td>...</td>\n",
       "      <td>8.106</td>\n",
       "      <td>3</td>\n",
       "      <td>0</td>\n",
       "      <td>0</td>\n",
       "      <td>1</td>\n",
       "      <td>0</td>\n",
       "      <td>0</td>\n",
       "      <td>1</td>\n",
       "      <td>0</td>\n",
       "      <td>0</td>\n",
       "    </tr>\n",
       "  </tbody>\n",
       "</table>\n",
       "<p>5 rows × 23 columns</p>\n",
       "</div>"
      ],
      "text/plain": [
       "   Store  Dept  Weekly_Sales  IsHoliday    Size  Temperature  Fuel_Price  \\\n",
       "0      1     1      24924.50      False  151315        42.31       2.572   \n",
       "1      1     1      46039.49       True  151315        38.51       2.548   \n",
       "2      1     1      41595.55      False  151315        39.93       2.514   \n",
       "3      1     1      19403.54      False  151315        46.63       2.561   \n",
       "4      1     1      21827.90      False  151315        46.50       2.625   \n",
       "\n",
       "   MarkDown1  MarkDown2  MarkDown3  ...  Unemployment  Month  D_C  D_L  D_N  \\\n",
       "0        NaN        NaN        NaN  ...         8.106      2    0    0    1   \n",
       "1        NaN        NaN        NaN  ...         8.106      2    0    0    0   \n",
       "2        NaN        NaN        NaN  ...         8.106      2    0    0    1   \n",
       "3        NaN        NaN        NaN  ...         8.106      2    0    0    1   \n",
       "4        NaN        NaN        NaN  ...         8.106      3    0    0    1   \n",
       "\n",
       "   D_S  D_T  T_A  T_B  T_C  \n",
       "0    0    0    1    0    0  \n",
       "1    1    0    1    0    0  \n",
       "2    0    0    1    0    0  \n",
       "3    0    0    1    0    0  \n",
       "4    0    0    1    0    0  \n",
       "\n",
       "[5 rows x 23 columns]"
      ]
     },
     "execution_count": 24,
     "metadata": {},
     "output_type": "execute_result"
    }
   ],
   "source": [
    "datasetC.head()"
   ]
  },
  {
   "cell_type": "code",
   "execution_count": 25,
   "metadata": {},
   "outputs": [],
   "source": [
    "# Lets drop all the unnecessary columns after filling MarkDown Information of missing values with a Zero\n",
    "def engineer(dataset):\n",
    "    dataset[['MarkDown1','MarkDown2','MarkDown3','MarkDown4', 'MarkDown5']] = dataset[['MarkDown1','MarkDown2','MarkDown3','MarkDown4','MarkDown5']].fillna(0)\n",
    "    dataset = dataset.drop(columns=[\"CPI\", \"Fuel_Price\", 'Unemployment','MarkDown3'])\n",
    "    return dataset"
   ]
  },
  {
   "cell_type": "code",
   "execution_count": 26,
   "metadata": {
    "executionInfo": {
     "elapsed": 871,
     "status": "ok",
     "timestamp": 1606543915663,
     "user": {
      "displayName": "electrical eng500",
      "photoUrl": "https://lh3.googleusercontent.com/a-/AOh14Gg31t8c8rGSFUqxo-7d1o83HPYEpCIpohXJEYlQ=s64",
      "userId": "06113119512919385150"
     },
     "user_tz": -180
    },
    "id": "ph0BDgVEjjg4"
   },
   "outputs": [],
   "source": [
    "datasetA = engineer(datasetA)"
   ]
  },
  {
   "cell_type": "code",
   "execution_count": 27,
   "metadata": {},
   "outputs": [],
   "source": [
    "datasetB = engineer(datasetB)"
   ]
  },
  {
   "cell_type": "code",
   "execution_count": 28,
   "metadata": {
    "colab": {
     "base_uri": "https://localhost:8080/"
    },
    "executionInfo": {
     "elapsed": 618,
     "status": "ok",
     "timestamp": 1606543917193,
     "user": {
      "displayName": "electrical eng500",
      "photoUrl": "https://lh3.googleusercontent.com/a-/AOh14Gg31t8c8rGSFUqxo-7d1o83HPYEpCIpohXJEYlQ=s64",
      "userId": "06113119512919385150"
     },
     "user_tz": -180
    },
    "id": "KczJJt0Njjg4",
    "outputId": "5b83e5e4-cea6-4445-d9be-ec6526e21109"
   },
   "outputs": [],
   "source": [
    "datasetC = engineer(datasetC)"
   ]
  },
  {
   "cell_type": "code",
   "execution_count": 29,
   "metadata": {
    "executionInfo": {
     "elapsed": 1100,
     "status": "ok",
     "timestamp": 1606543919725,
     "user": {
      "displayName": "electrical eng500",
      "photoUrl": "https://lh3.googleusercontent.com/a-/AOh14Gg31t8c8rGSFUqxo-7d1o83HPYEpCIpohXJEYlQ=s64",
      "userId": "06113119512919385150"
     },
     "user_tz": -180
    },
    "id": "edxSDNKr8bfr"
   },
   "outputs": [
    {
     "data": {
      "text/html": [
       "<div>\n",
       "<style scoped>\n",
       "    .dataframe tbody tr th:only-of-type {\n",
       "        vertical-align: middle;\n",
       "    }\n",
       "\n",
       "    .dataframe tbody tr th {\n",
       "        vertical-align: top;\n",
       "    }\n",
       "\n",
       "    .dataframe thead th {\n",
       "        text-align: right;\n",
       "    }\n",
       "</style>\n",
       "<table border=\"1\" class=\"dataframe\">\n",
       "  <thead>\n",
       "    <tr style=\"text-align: right;\">\n",
       "      <th></th>\n",
       "      <th>Store</th>\n",
       "      <th>Dept</th>\n",
       "      <th>Weekly_Sales</th>\n",
       "      <th>IsHoliday</th>\n",
       "      <th>Size</th>\n",
       "      <th>Temperature</th>\n",
       "      <th>MarkDown1</th>\n",
       "      <th>MarkDown2</th>\n",
       "      <th>MarkDown4</th>\n",
       "      <th>MarkDown5</th>\n",
       "      <th>D_C</th>\n",
       "      <th>D_L</th>\n",
       "      <th>D_N</th>\n",
       "      <th>D_S</th>\n",
       "      <th>D_T</th>\n",
       "      <th>T_A</th>\n",
       "      <th>T_B</th>\n",
       "      <th>T_C</th>\n",
       "    </tr>\n",
       "  </thead>\n",
       "  <tbody>\n",
       "    <tr>\n",
       "      <th>0</th>\n",
       "      <td>1</td>\n",
       "      <td>1</td>\n",
       "      <td>24924.50</td>\n",
       "      <td>False</td>\n",
       "      <td>151315</td>\n",
       "      <td>42.31</td>\n",
       "      <td>0.0</td>\n",
       "      <td>0.0</td>\n",
       "      <td>0.0</td>\n",
       "      <td>0.0</td>\n",
       "      <td>0</td>\n",
       "      <td>0</td>\n",
       "      <td>1</td>\n",
       "      <td>0</td>\n",
       "      <td>0</td>\n",
       "      <td>1</td>\n",
       "      <td>0</td>\n",
       "      <td>0</td>\n",
       "    </tr>\n",
       "    <tr>\n",
       "      <th>1</th>\n",
       "      <td>1</td>\n",
       "      <td>1</td>\n",
       "      <td>46039.49</td>\n",
       "      <td>True</td>\n",
       "      <td>151315</td>\n",
       "      <td>38.51</td>\n",
       "      <td>0.0</td>\n",
       "      <td>0.0</td>\n",
       "      <td>0.0</td>\n",
       "      <td>0.0</td>\n",
       "      <td>0</td>\n",
       "      <td>0</td>\n",
       "      <td>0</td>\n",
       "      <td>1</td>\n",
       "      <td>0</td>\n",
       "      <td>1</td>\n",
       "      <td>0</td>\n",
       "      <td>0</td>\n",
       "    </tr>\n",
       "    <tr>\n",
       "      <th>2</th>\n",
       "      <td>1</td>\n",
       "      <td>1</td>\n",
       "      <td>41595.55</td>\n",
       "      <td>False</td>\n",
       "      <td>151315</td>\n",
       "      <td>39.93</td>\n",
       "      <td>0.0</td>\n",
       "      <td>0.0</td>\n",
       "      <td>0.0</td>\n",
       "      <td>0.0</td>\n",
       "      <td>0</td>\n",
       "      <td>0</td>\n",
       "      <td>1</td>\n",
       "      <td>0</td>\n",
       "      <td>0</td>\n",
       "      <td>1</td>\n",
       "      <td>0</td>\n",
       "      <td>0</td>\n",
       "    </tr>\n",
       "    <tr>\n",
       "      <th>3</th>\n",
       "      <td>1</td>\n",
       "      <td>1</td>\n",
       "      <td>19403.54</td>\n",
       "      <td>False</td>\n",
       "      <td>151315</td>\n",
       "      <td>46.63</td>\n",
       "      <td>0.0</td>\n",
       "      <td>0.0</td>\n",
       "      <td>0.0</td>\n",
       "      <td>0.0</td>\n",
       "      <td>0</td>\n",
       "      <td>0</td>\n",
       "      <td>1</td>\n",
       "      <td>0</td>\n",
       "      <td>0</td>\n",
       "      <td>1</td>\n",
       "      <td>0</td>\n",
       "      <td>0</td>\n",
       "    </tr>\n",
       "    <tr>\n",
       "      <th>4</th>\n",
       "      <td>1</td>\n",
       "      <td>1</td>\n",
       "      <td>21827.90</td>\n",
       "      <td>False</td>\n",
       "      <td>151315</td>\n",
       "      <td>46.50</td>\n",
       "      <td>0.0</td>\n",
       "      <td>0.0</td>\n",
       "      <td>0.0</td>\n",
       "      <td>0.0</td>\n",
       "      <td>0</td>\n",
       "      <td>0</td>\n",
       "      <td>1</td>\n",
       "      <td>0</td>\n",
       "      <td>0</td>\n",
       "      <td>1</td>\n",
       "      <td>0</td>\n",
       "      <td>0</td>\n",
       "    </tr>\n",
       "  </tbody>\n",
       "</table>\n",
       "</div>"
      ],
      "text/plain": [
       "   Store  Dept  Weekly_Sales  IsHoliday    Size  Temperature  MarkDown1  \\\n",
       "0      1     1      24924.50      False  151315        42.31        0.0   \n",
       "1      1     1      46039.49       True  151315        38.51        0.0   \n",
       "2      1     1      41595.55      False  151315        39.93        0.0   \n",
       "3      1     1      19403.54      False  151315        46.63        0.0   \n",
       "4      1     1      21827.90      False  151315        46.50        0.0   \n",
       "\n",
       "   MarkDown2  MarkDown4  MarkDown5  D_C  D_L  D_N  D_S  D_T  T_A  T_B  T_C  \n",
       "0        0.0        0.0        0.0    0    0    1    0    0    1    0    0  \n",
       "1        0.0        0.0        0.0    0    0    0    1    0    1    0    0  \n",
       "2        0.0        0.0        0.0    0    0    1    0    0    1    0    0  \n",
       "3        0.0        0.0        0.0    0    0    1    0    0    1    0    0  \n",
       "4        0.0        0.0        0.0    0    0    1    0    0    1    0    0  "
      ]
     },
     "execution_count": 29,
     "metadata": {},
     "output_type": "execute_result"
    }
   ],
   "source": [
    "datasetA.head()"
   ]
  },
  {
   "cell_type": "code",
   "execution_count": 30,
   "metadata": {
    "colab": {
     "base_uri": "https://localhost:8080/"
    },
    "executionInfo": {
     "elapsed": 837,
     "status": "ok",
     "timestamp": 1606543930072,
     "user": {
      "displayName": "electrical eng500",
      "photoUrl": "https://lh3.googleusercontent.com/a-/AOh14Gg31t8c8rGSFUqxo-7d1o83HPYEpCIpohXJEYlQ=s64",
      "userId": "06113119512919385150"
     },
     "user_tz": -180
    },
    "id": "4QCTOW0s9inC",
    "outputId": "8e648cac-9c55-449a-c406-5bb6c85bb6fa"
   },
   "outputs": [
    {
     "data": {
      "text/html": [
       "<div>\n",
       "<style scoped>\n",
       "    .dataframe tbody tr th:only-of-type {\n",
       "        vertical-align: middle;\n",
       "    }\n",
       "\n",
       "    .dataframe tbody tr th {\n",
       "        vertical-align: top;\n",
       "    }\n",
       "\n",
       "    .dataframe thead th {\n",
       "        text-align: right;\n",
       "    }\n",
       "</style>\n",
       "<table border=\"1\" class=\"dataframe\">\n",
       "  <thead>\n",
       "    <tr style=\"text-align: right;\">\n",
       "      <th></th>\n",
       "      <th>Store</th>\n",
       "      <th>Dept</th>\n",
       "      <th>Weekly_Sales</th>\n",
       "      <th>IsHoliday</th>\n",
       "      <th>Size</th>\n",
       "      <th>Temperature</th>\n",
       "      <th>MarkDown1</th>\n",
       "      <th>MarkDown2</th>\n",
       "      <th>MarkDown4</th>\n",
       "      <th>MarkDown5</th>\n",
       "      <th>Month</th>\n",
       "      <th>T_A</th>\n",
       "      <th>T_B</th>\n",
       "      <th>T_C</th>\n",
       "    </tr>\n",
       "  </thead>\n",
       "  <tbody>\n",
       "    <tr>\n",
       "      <th>0</th>\n",
       "      <td>1</td>\n",
       "      <td>1</td>\n",
       "      <td>24924.50</td>\n",
       "      <td>False</td>\n",
       "      <td>151315</td>\n",
       "      <td>42.31</td>\n",
       "      <td>0.0</td>\n",
       "      <td>0.0</td>\n",
       "      <td>0.0</td>\n",
       "      <td>0.0</td>\n",
       "      <td>2</td>\n",
       "      <td>1</td>\n",
       "      <td>0</td>\n",
       "      <td>0</td>\n",
       "    </tr>\n",
       "    <tr>\n",
       "      <th>1</th>\n",
       "      <td>1</td>\n",
       "      <td>1</td>\n",
       "      <td>46039.49</td>\n",
       "      <td>True</td>\n",
       "      <td>151315</td>\n",
       "      <td>38.51</td>\n",
       "      <td>0.0</td>\n",
       "      <td>0.0</td>\n",
       "      <td>0.0</td>\n",
       "      <td>0.0</td>\n",
       "      <td>2</td>\n",
       "      <td>1</td>\n",
       "      <td>0</td>\n",
       "      <td>0</td>\n",
       "    </tr>\n",
       "    <tr>\n",
       "      <th>2</th>\n",
       "      <td>1</td>\n",
       "      <td>1</td>\n",
       "      <td>41595.55</td>\n",
       "      <td>False</td>\n",
       "      <td>151315</td>\n",
       "      <td>39.93</td>\n",
       "      <td>0.0</td>\n",
       "      <td>0.0</td>\n",
       "      <td>0.0</td>\n",
       "      <td>0.0</td>\n",
       "      <td>2</td>\n",
       "      <td>1</td>\n",
       "      <td>0</td>\n",
       "      <td>0</td>\n",
       "    </tr>\n",
       "    <tr>\n",
       "      <th>3</th>\n",
       "      <td>1</td>\n",
       "      <td>1</td>\n",
       "      <td>19403.54</td>\n",
       "      <td>False</td>\n",
       "      <td>151315</td>\n",
       "      <td>46.63</td>\n",
       "      <td>0.0</td>\n",
       "      <td>0.0</td>\n",
       "      <td>0.0</td>\n",
       "      <td>0.0</td>\n",
       "      <td>2</td>\n",
       "      <td>1</td>\n",
       "      <td>0</td>\n",
       "      <td>0</td>\n",
       "    </tr>\n",
       "    <tr>\n",
       "      <th>4</th>\n",
       "      <td>1</td>\n",
       "      <td>1</td>\n",
       "      <td>21827.90</td>\n",
       "      <td>False</td>\n",
       "      <td>151315</td>\n",
       "      <td>46.50</td>\n",
       "      <td>0.0</td>\n",
       "      <td>0.0</td>\n",
       "      <td>0.0</td>\n",
       "      <td>0.0</td>\n",
       "      <td>3</td>\n",
       "      <td>1</td>\n",
       "      <td>0</td>\n",
       "      <td>0</td>\n",
       "    </tr>\n",
       "  </tbody>\n",
       "</table>\n",
       "</div>"
      ],
      "text/plain": [
       "   Store  Dept  Weekly_Sales  IsHoliday    Size  Temperature  MarkDown1  \\\n",
       "0      1     1      24924.50      False  151315        42.31        0.0   \n",
       "1      1     1      46039.49       True  151315        38.51        0.0   \n",
       "2      1     1      41595.55      False  151315        39.93        0.0   \n",
       "3      1     1      19403.54      False  151315        46.63        0.0   \n",
       "4      1     1      21827.90      False  151315        46.50        0.0   \n",
       "\n",
       "   MarkDown2  MarkDown4  MarkDown5  Month  T_A  T_B  T_C  \n",
       "0        0.0        0.0        0.0      2    1    0    0  \n",
       "1        0.0        0.0        0.0      2    1    0    0  \n",
       "2        0.0        0.0        0.0      2    1    0    0  \n",
       "3        0.0        0.0        0.0      2    1    0    0  \n",
       "4        0.0        0.0        0.0      3    1    0    0  "
      ]
     },
     "execution_count": 30,
     "metadata": {},
     "output_type": "execute_result"
    }
   ],
   "source": [
    "datasetB.head()"
   ]
  },
  {
   "cell_type": "code",
   "execution_count": 31,
   "metadata": {
    "executionInfo": {
     "elapsed": 912,
     "status": "ok",
     "timestamp": 1606543933281,
     "user": {
      "displayName": "electrical eng500",
      "photoUrl": "https://lh3.googleusercontent.com/a-/AOh14Gg31t8c8rGSFUqxo-7d1o83HPYEpCIpohXJEYlQ=s64",
      "userId": "06113119512919385150"
     },
     "user_tz": -180
    },
    "id": "WByxZhbo9tXy"
   },
   "outputs": [
    {
     "data": {
      "text/html": [
       "<div>\n",
       "<style scoped>\n",
       "    .dataframe tbody tr th:only-of-type {\n",
       "        vertical-align: middle;\n",
       "    }\n",
       "\n",
       "    .dataframe tbody tr th {\n",
       "        vertical-align: top;\n",
       "    }\n",
       "\n",
       "    .dataframe thead th {\n",
       "        text-align: right;\n",
       "    }\n",
       "</style>\n",
       "<table border=\"1\" class=\"dataframe\">\n",
       "  <thead>\n",
       "    <tr style=\"text-align: right;\">\n",
       "      <th></th>\n",
       "      <th>Store</th>\n",
       "      <th>Dept</th>\n",
       "      <th>Weekly_Sales</th>\n",
       "      <th>IsHoliday</th>\n",
       "      <th>Size</th>\n",
       "      <th>Temperature</th>\n",
       "      <th>MarkDown1</th>\n",
       "      <th>MarkDown2</th>\n",
       "      <th>MarkDown4</th>\n",
       "      <th>MarkDown5</th>\n",
       "      <th>Month</th>\n",
       "      <th>D_C</th>\n",
       "      <th>D_L</th>\n",
       "      <th>D_N</th>\n",
       "      <th>D_S</th>\n",
       "      <th>D_T</th>\n",
       "      <th>T_A</th>\n",
       "      <th>T_B</th>\n",
       "      <th>T_C</th>\n",
       "    </tr>\n",
       "  </thead>\n",
       "  <tbody>\n",
       "    <tr>\n",
       "      <th>0</th>\n",
       "      <td>1</td>\n",
       "      <td>1</td>\n",
       "      <td>24924.50</td>\n",
       "      <td>False</td>\n",
       "      <td>151315</td>\n",
       "      <td>42.31</td>\n",
       "      <td>0.0</td>\n",
       "      <td>0.0</td>\n",
       "      <td>0.0</td>\n",
       "      <td>0.0</td>\n",
       "      <td>2</td>\n",
       "      <td>0</td>\n",
       "      <td>0</td>\n",
       "      <td>1</td>\n",
       "      <td>0</td>\n",
       "      <td>0</td>\n",
       "      <td>1</td>\n",
       "      <td>0</td>\n",
       "      <td>0</td>\n",
       "    </tr>\n",
       "    <tr>\n",
       "      <th>1</th>\n",
       "      <td>1</td>\n",
       "      <td>1</td>\n",
       "      <td>46039.49</td>\n",
       "      <td>True</td>\n",
       "      <td>151315</td>\n",
       "      <td>38.51</td>\n",
       "      <td>0.0</td>\n",
       "      <td>0.0</td>\n",
       "      <td>0.0</td>\n",
       "      <td>0.0</td>\n",
       "      <td>2</td>\n",
       "      <td>0</td>\n",
       "      <td>0</td>\n",
       "      <td>0</td>\n",
       "      <td>1</td>\n",
       "      <td>0</td>\n",
       "      <td>1</td>\n",
       "      <td>0</td>\n",
       "      <td>0</td>\n",
       "    </tr>\n",
       "    <tr>\n",
       "      <th>2</th>\n",
       "      <td>1</td>\n",
       "      <td>1</td>\n",
       "      <td>41595.55</td>\n",
       "      <td>False</td>\n",
       "      <td>151315</td>\n",
       "      <td>39.93</td>\n",
       "      <td>0.0</td>\n",
       "      <td>0.0</td>\n",
       "      <td>0.0</td>\n",
       "      <td>0.0</td>\n",
       "      <td>2</td>\n",
       "      <td>0</td>\n",
       "      <td>0</td>\n",
       "      <td>1</td>\n",
       "      <td>0</td>\n",
       "      <td>0</td>\n",
       "      <td>1</td>\n",
       "      <td>0</td>\n",
       "      <td>0</td>\n",
       "    </tr>\n",
       "    <tr>\n",
       "      <th>3</th>\n",
       "      <td>1</td>\n",
       "      <td>1</td>\n",
       "      <td>19403.54</td>\n",
       "      <td>False</td>\n",
       "      <td>151315</td>\n",
       "      <td>46.63</td>\n",
       "      <td>0.0</td>\n",
       "      <td>0.0</td>\n",
       "      <td>0.0</td>\n",
       "      <td>0.0</td>\n",
       "      <td>2</td>\n",
       "      <td>0</td>\n",
       "      <td>0</td>\n",
       "      <td>1</td>\n",
       "      <td>0</td>\n",
       "      <td>0</td>\n",
       "      <td>1</td>\n",
       "      <td>0</td>\n",
       "      <td>0</td>\n",
       "    </tr>\n",
       "    <tr>\n",
       "      <th>4</th>\n",
       "      <td>1</td>\n",
       "      <td>1</td>\n",
       "      <td>21827.90</td>\n",
       "      <td>False</td>\n",
       "      <td>151315</td>\n",
       "      <td>46.50</td>\n",
       "      <td>0.0</td>\n",
       "      <td>0.0</td>\n",
       "      <td>0.0</td>\n",
       "      <td>0.0</td>\n",
       "      <td>3</td>\n",
       "      <td>0</td>\n",
       "      <td>0</td>\n",
       "      <td>1</td>\n",
       "      <td>0</td>\n",
       "      <td>0</td>\n",
       "      <td>1</td>\n",
       "      <td>0</td>\n",
       "      <td>0</td>\n",
       "    </tr>\n",
       "  </tbody>\n",
       "</table>\n",
       "</div>"
      ],
      "text/plain": [
       "   Store  Dept  Weekly_Sales  IsHoliday    Size  Temperature  MarkDown1  \\\n",
       "0      1     1      24924.50      False  151315        42.31        0.0   \n",
       "1      1     1      46039.49       True  151315        38.51        0.0   \n",
       "2      1     1      41595.55      False  151315        39.93        0.0   \n",
       "3      1     1      19403.54      False  151315        46.63        0.0   \n",
       "4      1     1      21827.90      False  151315        46.50        0.0   \n",
       "\n",
       "   MarkDown2  MarkDown4  MarkDown5  Month  D_C  D_L  D_N  D_S  D_T  T_A  T_B  \\\n",
       "0        0.0        0.0        0.0      2    0    0    1    0    0    1    0   \n",
       "1        0.0        0.0        0.0      2    0    0    0    1    0    1    0   \n",
       "2        0.0        0.0        0.0      2    0    0    1    0    0    1    0   \n",
       "3        0.0        0.0        0.0      2    0    0    1    0    0    1    0   \n",
       "4        0.0        0.0        0.0      3    0    0    1    0    0    1    0   \n",
       "\n",
       "   T_C  \n",
       "0    0  \n",
       "1    0  \n",
       "2    0  \n",
       "3    0  \n",
       "4    0  "
      ]
     },
     "execution_count": 31,
     "metadata": {},
     "output_type": "execute_result"
    }
   ],
   "source": [
    "datasetC.head()"
   ]
  },
  {
   "cell_type": "markdown",
   "metadata": {
    "colab": {
     "base_uri": "https://localhost:8080/"
    },
    "executionInfo": {
     "elapsed": 827,
     "status": "ok",
     "timestamp": 1606543936882,
     "user": {
      "displayName": "electrical eng500",
      "photoUrl": "https://lh3.googleusercontent.com/a-/AOh14Gg31t8c8rGSFUqxo-7d1o83HPYEpCIpohXJEYlQ=s64",
      "userId": "06113119512919385150"
     },
     "user_tz": -180
    },
    "id": "fEcAkngf-T-h",
    "outputId": "372e7d24-fa7e-45fe-929e-17462b76aa9b"
   },
   "source": [
    "# ALgorithms\n",
    "#### The below model definations have been adopted from a Kaggle notebook\n",
    "#### However, In my case i,ll only test four Models\n",
    "    * LinearRegression()\n",
    "    * Decision Tree Regressor\n",
    "    * RandomForestRegressor()\n",
    "    * KNearest Kneighbours"
   ]
  },
  {
   "cell_type": "code",
   "execution_count": 32,
   "metadata": {},
   "outputs": [],
   "source": [
    "## Import the required model modules\n",
    "from sklearn.linear_model import LinearRegression\n",
    "from sklearn.metrics import mean_squared_error, mean_absolute_error\n",
    "from sklearn.tree import DecisionTreeRegressor\n",
    "from sklearn.model_selection import cross_val_score, GridSearchCV, train_test_split, KFold\n",
    "from sklearn.ensemble import ExtraTreesRegressor, RandomForestRegressor\n",
    "from sklearn.neighbors import KNeighborsRegressor\n",
    "from sklearn.feature_selection import RFE\n",
    "#from sklearn.svm import SVR"
   ]
  },
  {
   "cell_type": "code",
   "execution_count": 33,
   "metadata": {
    "executionInfo": {
     "elapsed": 899,
     "status": "ok",
     "timestamp": 1606543940112,
     "user": {
      "displayName": "electrical eng500",
      "photoUrl": "https://lh3.googleusercontent.com/a-/AOh14Gg31t8c8rGSFUqxo-7d1o83HPYEpCIpohXJEYlQ=s64",
      "userId": "06113119512919385150"
     },
     "user_tz": -180
    },
    "id": "-4kitxah-id7"
   },
   "outputs": [],
   "source": [
    "# method definations\n",
    "def knn():\n",
    "    knn = KNeighborsRegressor(n_neighbors=10)\n",
    "    return knn\n",
    "\n",
    "def decisionTreeRegressor():\n",
    "    clf = DecisionTreeRegressor()\n",
    "    return clf\n",
    "\n",
    "def linearregression():\n",
    "    clf = LinearRegression()\n",
    "    return clf\n",
    "\n",
    "def randomForestRegressor():\n",
    "    clf = RandomForestRegressor(n_estimators=100,max_features='log2',max_depth=6,min_samples_leaf=2 , verbose=1)\n",
    "    return clf\n",
    "\n",
    "def extraTreesRegressor():\n",
    "    clf = ExtraTreesRegressor(n_estimators=100,max_features='auto', verbose=1, n_jobs=1)\n",
    "    return clf\n",
    "\n",
    "def svm():\n",
    "    clf = SVR(kernel='rbf', gamma='auto')\n",
    "    return clf\n",
    "\n",
    "def nn():\n",
    "    clf = MLPRegressor(hidden_layer_sizes=(10,),  activation='relu', verbose=3)\n",
    "    return clf\n",
    "\n",
    "def predict_(m, test_x):\n",
    "    return pd.Series(m.predict(test_x))\n",
    "\n",
    "def model_(select):\n",
    "    if select == 0:\n",
    "        return knn()\n",
    "    elif select == 1:\n",
    "        return decisionTreeRegressor()\n",
    "    elif select == 2:\n",
    "        return linearregression()\n",
    "    elif select == 3:\n",
    "        return randomForestRegressor()\n",
    "#   return extraTreesRegressor()\n",
    "#     return svm()\n",
    "#     return nn()\n",
    "         \n",
    "\n",
    "def train_(train_x, train_y,select):\n",
    "    m = model_(select)\n",
    "    m.fit(train_x, train_y)\n",
    "    return m\n",
    "\n",
    "def train_and_predict(train_x, train_y, test_x,select):\n",
    "    m = train_(train_x, train_y,select)\n",
    "    return predict_(m, test_x), m"
   ]
  },
  {
   "cell_type": "markdown",
   "metadata": {},
   "source": [
    "## To distinguish between the various model perfomances we are going to use\n",
    "    * Mean Absolute Error\n",
    "    * RMSE"
   ]
  },
  {
   "cell_type": "code",
   "execution_count": 34,
   "metadata": {
    "colab": {
     "base_uri": "https://localhost:8080/"
    },
    "executionInfo": {
     "elapsed": 853,
     "status": "ok",
     "timestamp": 1606543943248,
     "user": {
      "displayName": "electrical eng500",
      "photoUrl": "https://lh3.googleusercontent.com/a-/AOh14Gg31t8c8rGSFUqxo-7d1o83HPYEpCIpohXJEYlQ=s64",
      "userId": "06113119512919385150"
     },
     "user_tz": -180
    },
    "id": "hpR-ENjM_HUQ",
    "outputId": "4c0b2f2f-822b-4bad-cd1c-f8701a950d67"
   },
   "outputs": [],
   "source": [
    "def calculate_error(test_y, predicted, weights):\n",
    "    mse = mean_squared_error(test_y,predicted)\n",
    "    rmse = np.sqrt(mse)\n",
    "    return mean_absolute_error(test_y, predicted, sample_weight=weights),rmse"
   ]
  },
  {
   "cell_type": "markdown",
   "metadata": {},
   "source": [
    "## KFold "
   ]
  },
  {
   "cell_type": "code",
   "execution_count": 35,
   "metadata": {
    "executionInfo": {
     "elapsed": 854,
     "status": "ok",
     "timestamp": 1606543945768,
     "user": {
      "displayName": "electrical eng500",
      "photoUrl": "https://lh3.googleusercontent.com/a-/AOh14Gg31t8c8rGSFUqxo-7d1o83HPYEpCIpohXJEYlQ=s64",
      "userId": "06113119512919385150"
     },
     "user_tz": -180
    },
    "id": "EyKsALB-_Qcy"
   },
   "outputs": [],
   "source": [
    "# We Test With datasetA\n",
    "# We Test With datasetB\n",
    "kf = KFold(n_splits=5)\n",
    "splited = []\n",
    "# dataset2 = dataset.copy()\n",
    "for name, group in datasetB.groupby([\"Store\", \"Dept\"]):\n",
    "    group = group.reset_index(drop=True)\n",
    "    trains_x = []\n",
    "    trains_y = []\n",
    "    tests_x = []\n",
    "    tests_y = []\n",
    "    if group.shape[0] <= 5:\n",
    "        f = np.array(range(5))\n",
    "        np.random.shuffle(f)\n",
    "        group['fold'] = f[:group.shape[0]]\n",
    "        continue\n",
    "    fold = 0\n",
    "    for train_index, test_index in kf.split(group):\n",
    "        group.loc[test_index, 'fold'] = fold\n",
    "        fold += 1\n",
    "    splited.append(group)\n",
    "\n",
    "splited = pd.concat(splited).reset_index(drop=True)"
   ]
  },
  {
   "cell_type": "code",
   "execution_count": 36,
   "metadata": {
    "colab": {
     "base_uri": "https://localhost:8080/"
    },
    "executionInfo": {
     "elapsed": 877,
     "status": "ok",
     "timestamp": 1606543948452,
     "user": {
      "displayName": "electrical eng500",
      "photoUrl": "https://lh3.googleusercontent.com/a-/AOh14Gg31t8c8rGSFUqxo-7d1o83HPYEpCIpohXJEYlQ=s64",
      "userId": "06113119512919385150"
     },
     "user_tz": -180
    },
    "id": "sBSKWySgMnFE",
    "outputId": "d62babee-82f3-4aba-dc4b-15cccb44e50f"
   },
   "outputs": [
    {
     "data": {
      "text/html": [
       "<div>\n",
       "<style scoped>\n",
       "    .dataframe tbody tr th:only-of-type {\n",
       "        vertical-align: middle;\n",
       "    }\n",
       "\n",
       "    .dataframe tbody tr th {\n",
       "        vertical-align: top;\n",
       "    }\n",
       "\n",
       "    .dataframe thead th {\n",
       "        text-align: right;\n",
       "    }\n",
       "</style>\n",
       "<table border=\"1\" class=\"dataframe\">\n",
       "  <thead>\n",
       "    <tr style=\"text-align: right;\">\n",
       "      <th></th>\n",
       "      <th>Store</th>\n",
       "      <th>Dept</th>\n",
       "      <th>Weekly_Sales</th>\n",
       "      <th>IsHoliday</th>\n",
       "      <th>Size</th>\n",
       "      <th>Temperature</th>\n",
       "      <th>MarkDown1</th>\n",
       "      <th>MarkDown2</th>\n",
       "      <th>MarkDown4</th>\n",
       "      <th>MarkDown5</th>\n",
       "      <th>Month</th>\n",
       "      <th>T_A</th>\n",
       "      <th>T_B</th>\n",
       "      <th>T_C</th>\n",
       "      <th>fold</th>\n",
       "    </tr>\n",
       "  </thead>\n",
       "  <tbody>\n",
       "    <tr>\n",
       "      <th>0</th>\n",
       "      <td>1</td>\n",
       "      <td>1</td>\n",
       "      <td>24924.50</td>\n",
       "      <td>False</td>\n",
       "      <td>151315</td>\n",
       "      <td>42.31</td>\n",
       "      <td>0.00</td>\n",
       "      <td>0.00</td>\n",
       "      <td>0.00</td>\n",
       "      <td>0.00</td>\n",
       "      <td>2</td>\n",
       "      <td>1</td>\n",
       "      <td>0</td>\n",
       "      <td>0</td>\n",
       "      <td>0.0</td>\n",
       "    </tr>\n",
       "    <tr>\n",
       "      <th>1</th>\n",
       "      <td>1</td>\n",
       "      <td>1</td>\n",
       "      <td>46039.49</td>\n",
       "      <td>True</td>\n",
       "      <td>151315</td>\n",
       "      <td>38.51</td>\n",
       "      <td>0.00</td>\n",
       "      <td>0.00</td>\n",
       "      <td>0.00</td>\n",
       "      <td>0.00</td>\n",
       "      <td>2</td>\n",
       "      <td>1</td>\n",
       "      <td>0</td>\n",
       "      <td>0</td>\n",
       "      <td>0.0</td>\n",
       "    </tr>\n",
       "    <tr>\n",
       "      <th>2</th>\n",
       "      <td>1</td>\n",
       "      <td>1</td>\n",
       "      <td>41595.55</td>\n",
       "      <td>False</td>\n",
       "      <td>151315</td>\n",
       "      <td>39.93</td>\n",
       "      <td>0.00</td>\n",
       "      <td>0.00</td>\n",
       "      <td>0.00</td>\n",
       "      <td>0.00</td>\n",
       "      <td>2</td>\n",
       "      <td>1</td>\n",
       "      <td>0</td>\n",
       "      <td>0</td>\n",
       "      <td>0.0</td>\n",
       "    </tr>\n",
       "    <tr>\n",
       "      <th>3</th>\n",
       "      <td>1</td>\n",
       "      <td>1</td>\n",
       "      <td>19403.54</td>\n",
       "      <td>False</td>\n",
       "      <td>151315</td>\n",
       "      <td>46.63</td>\n",
       "      <td>0.00</td>\n",
       "      <td>0.00</td>\n",
       "      <td>0.00</td>\n",
       "      <td>0.00</td>\n",
       "      <td>2</td>\n",
       "      <td>1</td>\n",
       "      <td>0</td>\n",
       "      <td>0</td>\n",
       "      <td>0.0</td>\n",
       "    </tr>\n",
       "    <tr>\n",
       "      <th>4</th>\n",
       "      <td>1</td>\n",
       "      <td>1</td>\n",
       "      <td>21827.90</td>\n",
       "      <td>False</td>\n",
       "      <td>151315</td>\n",
       "      <td>46.50</td>\n",
       "      <td>0.00</td>\n",
       "      <td>0.00</td>\n",
       "      <td>0.00</td>\n",
       "      <td>0.00</td>\n",
       "      <td>3</td>\n",
       "      <td>1</td>\n",
       "      <td>0</td>\n",
       "      <td>0</td>\n",
       "      <td>0.0</td>\n",
       "    </tr>\n",
       "    <tr>\n",
       "      <th>...</th>\n",
       "      <td>...</td>\n",
       "      <td>...</td>\n",
       "      <td>...</td>\n",
       "      <td>...</td>\n",
       "      <td>...</td>\n",
       "      <td>...</td>\n",
       "      <td>...</td>\n",
       "      <td>...</td>\n",
       "      <td>...</td>\n",
       "      <td>...</td>\n",
       "      <td>...</td>\n",
       "      <td>...</td>\n",
       "      <td>...</td>\n",
       "      <td>...</td>\n",
       "      <td>...</td>\n",
       "    </tr>\n",
       "    <tr>\n",
       "      <th>421269</th>\n",
       "      <td>45</td>\n",
       "      <td>98</td>\n",
       "      <td>508.37</td>\n",
       "      <td>False</td>\n",
       "      <td>118221</td>\n",
       "      <td>64.88</td>\n",
       "      <td>4556.61</td>\n",
       "      <td>20.64</td>\n",
       "      <td>1601.01</td>\n",
       "      <td>3288.25</td>\n",
       "      <td>9</td>\n",
       "      <td>0</td>\n",
       "      <td>1</td>\n",
       "      <td>0</td>\n",
       "      <td>4.0</td>\n",
       "    </tr>\n",
       "    <tr>\n",
       "      <th>421270</th>\n",
       "      <td>45</td>\n",
       "      <td>98</td>\n",
       "      <td>628.10</td>\n",
       "      <td>False</td>\n",
       "      <td>118221</td>\n",
       "      <td>64.89</td>\n",
       "      <td>5046.74</td>\n",
       "      <td>0.00</td>\n",
       "      <td>2253.43</td>\n",
       "      <td>2340.01</td>\n",
       "      <td>10</td>\n",
       "      <td>0</td>\n",
       "      <td>1</td>\n",
       "      <td>0</td>\n",
       "      <td>4.0</td>\n",
       "    </tr>\n",
       "    <tr>\n",
       "      <th>421271</th>\n",
       "      <td>45</td>\n",
       "      <td>98</td>\n",
       "      <td>1061.02</td>\n",
       "      <td>False</td>\n",
       "      <td>118221</td>\n",
       "      <td>54.47</td>\n",
       "      <td>1956.28</td>\n",
       "      <td>0.00</td>\n",
       "      <td>599.32</td>\n",
       "      <td>3990.54</td>\n",
       "      <td>10</td>\n",
       "      <td>0</td>\n",
       "      <td>1</td>\n",
       "      <td>0</td>\n",
       "      <td>4.0</td>\n",
       "    </tr>\n",
       "    <tr>\n",
       "      <th>421272</th>\n",
       "      <td>45</td>\n",
       "      <td>98</td>\n",
       "      <td>760.01</td>\n",
       "      <td>False</td>\n",
       "      <td>118221</td>\n",
       "      <td>56.47</td>\n",
       "      <td>2004.02</td>\n",
       "      <td>0.00</td>\n",
       "      <td>437.73</td>\n",
       "      <td>1537.49</td>\n",
       "      <td>10</td>\n",
       "      <td>0</td>\n",
       "      <td>1</td>\n",
       "      <td>0</td>\n",
       "      <td>4.0</td>\n",
       "    </tr>\n",
       "    <tr>\n",
       "      <th>421273</th>\n",
       "      <td>45</td>\n",
       "      <td>98</td>\n",
       "      <td>1076.80</td>\n",
       "      <td>False</td>\n",
       "      <td>118221</td>\n",
       "      <td>58.85</td>\n",
       "      <td>4018.91</td>\n",
       "      <td>58.08</td>\n",
       "      <td>211.94</td>\n",
       "      <td>858.33</td>\n",
       "      <td>10</td>\n",
       "      <td>0</td>\n",
       "      <td>1</td>\n",
       "      <td>0</td>\n",
       "      <td>4.0</td>\n",
       "    </tr>\n",
       "  </tbody>\n",
       "</table>\n",
       "<p>421274 rows × 15 columns</p>\n",
       "</div>"
      ],
      "text/plain": [
       "        Store  Dept  Weekly_Sales  IsHoliday    Size  Temperature  MarkDown1  \\\n",
       "0           1     1      24924.50      False  151315        42.31       0.00   \n",
       "1           1     1      46039.49       True  151315        38.51       0.00   \n",
       "2           1     1      41595.55      False  151315        39.93       0.00   \n",
       "3           1     1      19403.54      False  151315        46.63       0.00   \n",
       "4           1     1      21827.90      False  151315        46.50       0.00   \n",
       "...       ...   ...           ...        ...     ...          ...        ...   \n",
       "421269     45    98        508.37      False  118221        64.88    4556.61   \n",
       "421270     45    98        628.10      False  118221        64.89    5046.74   \n",
       "421271     45    98       1061.02      False  118221        54.47    1956.28   \n",
       "421272     45    98        760.01      False  118221        56.47    2004.02   \n",
       "421273     45    98       1076.80      False  118221        58.85    4018.91   \n",
       "\n",
       "        MarkDown2  MarkDown4  MarkDown5  Month  T_A  T_B  T_C  fold  \n",
       "0            0.00       0.00       0.00      2    1    0    0   0.0  \n",
       "1            0.00       0.00       0.00      2    1    0    0   0.0  \n",
       "2            0.00       0.00       0.00      2    1    0    0   0.0  \n",
       "3            0.00       0.00       0.00      2    1    0    0   0.0  \n",
       "4            0.00       0.00       0.00      3    1    0    0   0.0  \n",
       "...           ...        ...        ...    ...  ...  ...  ...   ...  \n",
       "421269      20.64    1601.01    3288.25      9    0    1    0   4.0  \n",
       "421270       0.00    2253.43    2340.01     10    0    1    0   4.0  \n",
       "421271       0.00     599.32    3990.54     10    0    1    0   4.0  \n",
       "421272       0.00     437.73    1537.49     10    0    1    0   4.0  \n",
       "421273      58.08     211.94     858.33     10    0    1    0   4.0  \n",
       "\n",
       "[421274 rows x 15 columns]"
      ]
     },
     "execution_count": 36,
     "metadata": {},
     "output_type": "execute_result"
    }
   ],
   "source": [
    "splited"
   ]
  },
  {
   "cell_type": "markdown",
   "metadata": {},
   "source": [
    "### Modelling\n",
    "#### Each Model out of the four is to be examinedfive times and its average error determined.\n",
    "##### From the results we obtain we can determine the best model to choose from with less bias or in an educated guess\n",
    "### Best Model is determined by using the MAE test\n",
    "\n",
    "#### RandomForestRegress leads to memory error hence wont access it in this notebook\n",
    "#### Will Run a concurrent Thread in colab for this"
   ]
  },
  {
   "cell_type": "code",
   "execution_count": 38,
   "metadata": {
    "id": "0TdEsetoLRn3"
   },
   "outputs": [
    {
     "name": "stdout",
     "output_type": "stream",
     "text": [
      "Train and Test dataset Shapes:  (335722, 15) (85552, 15)\n",
      "Fold 0, MAE 2162.77185645933, RMSE 4689.356577586442\n",
      "Find best model\n",
      "Train and Test dataset Shapes:  (335849, 15) (85425, 15)\n",
      "Fold 1, MAE 4966.887651279391, RMSE 9521.143895248411\n",
      "Train and Test dataset Shapes:  (335970, 15) (85304, 15)\n",
      "Fold 2, MAE 1884.483341853035, RMSE 4605.635254813658\n",
      "Find best model\n",
      "Train and Test dataset Shapes:  (338733, 15) (82541, 15)\n",
      "Fold 3, MAE 3532.4140691701855, RMSE 8296.889060341706\n",
      "Train and Test dataset Shapes:  (338822, 15) (82452, 15)\n",
      "Fold 4, MAE 2201.6715435574697, RMSE 4874.185957754674\n",
      "Average DecisionTreeRegressor() error is: 2949.645692463882\n",
      "Best Error is 1884.483341853035\n",
      " Best Model is DecisionTreeRegressor()\n"
     ]
    }
   ],
   "source": [
    "best_model = None\n",
    "best_error = np.iinfo(np.int32).max\n",
    "for j in range(1,2):# since we already know DecisionTreeRegressor is best than the rest from the other cases\n",
    "    error_cv = 0\n",
    "    for fold in range(5):\n",
    "        dataset_train = splited.loc[splited['fold'] != fold]\n",
    "        dataset_test = splited.loc[splited['fold'] == fold]\n",
    "        train_y = dataset_train['Weekly_Sales']\n",
    "        train_x = dataset_train.drop(columns=['Weekly_Sales', 'fold'])\n",
    "        test_y = dataset_test['Weekly_Sales']\n",
    "        test_x = dataset_test.drop(columns=['Weekly_Sales', 'fold'])\n",
    "        print(\"Train and Test dataset Shapes: \",dataset_train.shape, dataset_test.shape)\n",
    "        predicted, model = train_and_predict(train_x, train_y, test_x,select=j)\n",
    "        # if isholiday, its weight is taken to be 5 times the normal day\n",
    "        weights = test_x['IsHoliday'].replace(True, 5).replace(False, 1)\n",
    "        error = calculate_error(test_y, predicted, weights)\n",
    "        error_cv += error[0]\n",
    "        print(\"Fold {}, MAE {}, RMSE {}\".format(fold, error[0],error[1]))\n",
    "        if error[0] < best_error:\n",
    "            print('Find best model')\n",
    "            best_error = error[0]\n",
    "            best_model = model\n",
    "    error_cv /= 5\n",
    "    print(\"Average {} error is: {}\".format(model,error_cv))\n",
    "print(\"Best Error is {}\\n Best Model is {}\".format(best_error,best_model))\n"
   ]
  },
  {
   "cell_type": "markdown",
   "metadata": {
    "executionInfo": {
     "elapsed": 828,
     "status": "ok",
     "timestamp": 1606543960023,
     "user": {
      "displayName": "electrical eng500",
      "photoUrl": "https://lh3.googleusercontent.com/a-/AOh14Gg31t8c8rGSFUqxo-7d1o83HPYEpCIpohXJEYlQ=s64",
      "userId": "06113119512919385150"
     },
     "user_tz": -180
    },
    "id": "W36u4C-ejjg4"
   },
   "source": [
    "# In this notebook We choose Our Best Model to be the DecisionTreeRegressor since the RandomForest Failed due to memory issues. Its a tough one"
   ]
  },
  {
   "cell_type": "markdown",
   "metadata": {
    "colab": {
     "base_uri": "https://localhost:8080/"
    },
    "executionInfo": {
     "elapsed": 1048,
     "status": "ok",
     "timestamp": 1606543963902,
     "user": {
      "displayName": "electrical eng500",
      "photoUrl": "https://lh3.googleusercontent.com/a-/AOh14Gg31t8c8rGSFUqxo-7d1o83HPYEpCIpohXJEYlQ=s64",
      "userId": "06113119512919385150"
     },
     "user_tz": -180
    },
    "id": "8TskUVD7O_V7",
    "outputId": "126d6c66-79a6-424f-f546-e874178daeb2"
   },
   "source": [
    "### Lets Prepare Our Data for Testing\n",
    "#### Second merging"
   ]
  },
  {
   "cell_type": "code",
   "execution_count": 39,
   "metadata": {
    "executionInfo": {
     "elapsed": 835,
     "status": "ok",
     "timestamp": 1606543985422,
     "user": {
      "displayName": "electrical eng500",
      "photoUrl": "https://lh3.googleusercontent.com/a-/AOh14Gg31t8c8rGSFUqxo-7d1o83HPYEpCIpohXJEYlQ=s64",
      "userId": "06113119512919385150"
     },
     "user_tz": -180
    },
    "id": "n_Yx-_UrOLEl"
   },
   "outputs": [],
   "source": [
    "dataset_test = test.merge(stores,how='left').merge(features,how='left')"
   ]
  },
  {
   "cell_type": "markdown",
   "metadata": {
    "executionInfo": {
     "elapsed": 912,
     "status": "ok",
     "timestamp": 1606543990486,
     "user": {
      "displayName": "electrical eng500",
      "photoUrl": "https://lh3.googleusercontent.com/a-/AOh14Gg31t8c8rGSFUqxo-7d1o83HPYEpCIpohXJEYlQ=s64",
      "userId": "06113119512919385150"
     },
     "user_tz": -180
    },
    "id": "HNU4LyVUjjg4"
   },
   "source": [
    "# Lets Transform Our data In the same fashion we did with the training data  for uniformity purposes"
   ]
  },
  {
   "cell_type": "markdown",
   "metadata": {
    "colab": {
     "base_uri": "https://localhost:8080/"
    },
    "executionInfo": {
     "elapsed": 646,
     "status": "ok",
     "timestamp": 1606543992547,
     "user": {
      "displayName": "electrical eng500",
      "photoUrl": "https://lh3.googleusercontent.com/a-/AOh14Gg31t8c8rGSFUqxo-7d1o83HPYEpCIpohXJEYlQ=s64",
      "userId": "06113119512919385150"
     },
     "user_tz": -180
    },
    "id": "_Tslgsg4jjg4",
    "outputId": "7d4c3ae7-d35b-47a6-d6fb-8ad3c8cf17a2"
   },
   "source": [
    "Since Our model was trained on dataset A with dates engineered to assume prefixes that correspond to holidays or normal days, we will do the same to the test dataset"
   ]
  },
  {
   "cell_type": "code",
   "execution_count": 41,
   "metadata": {
    "colab": {
     "base_uri": "https://localhost:8080/"
    },
    "executionInfo": {
     "elapsed": 880,
     "status": "ok",
     "timestamp": 1606544004671,
     "user": {
      "displayName": "electrical eng500",
      "photoUrl": "https://lh3.googleusercontent.com/a-/AOh14Gg31t8c8rGSFUqxo-7d1o83HPYEpCIpohXJEYlQ=s64",
      "userId": "06113119512919385150"
     },
     "user_tz": -180
    },
    "id": "ZqhZu76o8lKd",
    "outputId": "fca40c2d-fe13-47c5-cfbe-0bd1092007df"
   },
   "outputs": [],
   "source": [
    "#dataset_testA = dataset_test.copy()\n",
    "dataset_testB = dataset_test.copy()\n",
    "#dataset_testC = dataset_test.copy()"
   ]
  },
  {
   "cell_type": "markdown",
   "metadata": {},
   "source": [
    "#### I,ll work with dataset_testA  in the following tests and conversions but will roll back to the other feature engineering notions addressed above to see which leads to better results"
   ]
  },
  {
   "cell_type": "code",
   "execution_count": 42,
   "metadata": {
    "colab": {
     "base_uri": "https://localhost:8080/"
    },
    "executionInfo": {
     "elapsed": 793,
     "status": "ok",
     "timestamp": 1606544006988,
     "user": {
      "displayName": "electrical eng500",
      "photoUrl": "https://lh3.googleusercontent.com/a-/AOh14Gg31t8c8rGSFUqxo-7d1o83HPYEpCIpohXJEYlQ=s64",
      "userId": "06113119512919385150"
     },
     "user_tz": -180
    },
    "id": "jbf6CxxvR-6U",
    "outputId": "ccb70f65-6edd-4768-b2fe-5b1d9f4b46d2"
   },
   "outputs": [],
   "source": [
    "#custom_date_transform(dataset_testA)\n",
    "custom_date_transform(dataset_testB,prefix=False,month=True)"
   ]
  },
  {
   "cell_type": "code",
   "execution_count": 43,
   "metadata": {
    "colab": {
     "base_uri": "https://localhost:8080/",
     "height": 297
    },
    "executionInfo": {
     "elapsed": 925,
     "status": "ok",
     "timestamp": 1606544014316,
     "user": {
      "displayName": "electrical eng500",
      "photoUrl": "https://lh3.googleusercontent.com/a-/AOh14Gg31t8c8rGSFUqxo-7d1o83HPYEpCIpohXJEYlQ=s64",
      "userId": "06113119512919385150"
     },
     "user_tz": -180
    },
    "id": "phdVgFI0UHdg",
    "outputId": "46d1875f-5f2e-4358-ee5d-63e4db41cabe"
   },
   "outputs": [],
   "source": [
    "# OneHot Encoding\n",
    "#dataset_testA = getdummies(dataset_testA,[\"Date\",\"Type\"],[\"D\",\"T\"])\n",
    "dataset_testB = getdummies(dataset_testB,[\"Type\"],[\"T\"])"
   ]
  },
  {
   "cell_type": "code",
   "execution_count": 44,
   "metadata": {
    "executionInfo": {
     "elapsed": 871,
     "status": "ok",
     "timestamp": 1606544021306,
     "user": {
      "displayName": "electrical eng500",
      "photoUrl": "https://lh3.googleusercontent.com/a-/AOh14Gg31t8c8rGSFUqxo-7d1o83HPYEpCIpohXJEYlQ=s64",
      "userId": "06113119512919385150"
     },
     "user_tz": -180
    },
    "id": "BvCg5JgXYjB6"
   },
   "outputs": [],
   "source": [
    "#dropping the unnecesary columns and filling null values\n",
    "#dataset_testA = engineer(dataset_testA)\n",
    "dataset_testB = engineer(dataset_testB)"
   ]
  },
  {
   "cell_type": "code",
   "execution_count": 45,
   "metadata": {
    "id": "DkxHAAPJU0OL"
   },
   "outputs": [
    {
     "name": "stdout",
     "output_type": "stream",
     "text": [
      "<class 'pandas.core.frame.DataFrame'>\n",
      "Int64Index: 115064 entries, 0 to 115063\n",
      "Data columns (total 13 columns):\n",
      " #   Column       Non-Null Count   Dtype  \n",
      "---  ------       --------------   -----  \n",
      " 0   Store        115064 non-null  int64  \n",
      " 1   Dept         115064 non-null  int64  \n",
      " 2   IsHoliday    115064 non-null  bool   \n",
      " 3   Size         115064 non-null  int64  \n",
      " 4   Temperature  115064 non-null  float64\n",
      " 5   MarkDown1    115064 non-null  float64\n",
      " 6   MarkDown2    115064 non-null  float64\n",
      " 7   MarkDown4    115064 non-null  float64\n",
      " 8   MarkDown5    115064 non-null  float64\n",
      " 9   Month        115064 non-null  int64  \n",
      " 10  T_A          115064 non-null  uint8  \n",
      " 11  T_B          115064 non-null  uint8  \n",
      " 12  T_C          115064 non-null  uint8  \n",
      "dtypes: bool(1), float64(5), int64(4), uint8(3)\n",
      "memory usage: 9.2 MB\n"
     ]
    }
   ],
   "source": [
    " dataset_testB.info()"
   ]
  },
  {
   "cell_type": "markdown",
   "metadata": {
    "executionInfo": {
     "elapsed": 999,
     "status": "ok",
     "timestamp": 1606544037256,
     "user": {
      "displayName": "electrical eng500",
      "photoUrl": "https://lh3.googleusercontent.com/a-/AOh14Gg31t8c8rGSFUqxo-7d1o83HPYEpCIpohXJEYlQ=s64",
      "userId": "06113119512919385150"
     },
     "user_tz": -180
    },
    "id": "-3t70L6iUwYE"
   },
   "source": [
    "### Our testing data is missing Labour and Super SuperBowL Holidays making model features and test features inconsistent\n",
    "### It is clear our data is not ready for testing\n",
    "\n",
    "    *We can createthe missing columns and assign them Normal days"
   ]
  },
  {
   "cell_type": "code",
   "execution_count": 46,
   "metadata": {
    "colab": {
     "base_uri": "https://localhost:8080/"
    },
    "executionInfo": {
     "elapsed": 1058,
     "status": "ok",
     "timestamp": 1606544048034,
     "user": {
      "displayName": "electrical eng500",
      "photoUrl": "https://lh3.googleusercontent.com/a-/AOh14Gg31t8c8rGSFUqxo-7d1o83HPYEpCIpohXJEYlQ=s64",
      "userId": "06113119512919385150"
     },
     "user_tz": -180
    },
    "id": "hykCx6EvXZe3",
    "outputId": "b56893da-0fab-4703-8d5b-f97957836851"
   },
   "outputs": [],
   "source": [
    "#dataset_testA['D_S'] = dataset_testA['D_N']\n",
    "#dataset_testA['D_L'] = dataset_testA['D_N']"
   ]
  },
  {
   "cell_type": "code",
   "execution_count": 47,
   "metadata": {
    "colab": {
     "base_uri": "https://localhost:8080/",
     "height": 204
    },
    "executionInfo": {
     "elapsed": 1138,
     "status": "ok",
     "timestamp": 1606544192740,
     "user": {
      "displayName": "electrical eng500",
      "photoUrl": "https://lh3.googleusercontent.com/a-/AOh14Gg31t8c8rGSFUqxo-7d1o83HPYEpCIpohXJEYlQ=s64",
      "userId": "06113119512919385150"
     },
     "user_tz": -180
    },
    "id": "SZRbp48_fsLV",
    "outputId": "44c0a2ca-cdb7-4711-9630-e305f18e679c"
   },
   "outputs": [],
   "source": [
    "#dataset_testA.info()"
   ]
  },
  {
   "cell_type": "markdown",
   "metadata": {
    "id": "njROsytqf5vK"
   },
   "source": [
    "#### Our data is now ready for testing"
   ]
  },
  {
   "cell_type": "code",
   "execution_count": 49,
   "metadata": {
    "colab": {
     "base_uri": "https://localhost:8080/"
    },
    "executionInfo": {
     "elapsed": 849,
     "status": "ok",
     "timestamp": 1606545843708,
     "user": {
      "displayName": "electrical eng500",
      "photoUrl": "https://lh3.googleusercontent.com/a-/AOh14Gg31t8c8rGSFUqxo-7d1o83HPYEpCIpohXJEYlQ=s64",
      "userId": "06113119512919385150"
     },
     "user_tz": -180
    },
    "id": "ylwFe-_aghwr",
    "outputId": "3fef5351-b2ac-4606-9b1d-b5d36edaa04b"
   },
   "outputs": [],
   "source": [
    "predicted_test = best_model.predict( dataset_testB)"
   ]
  },
  {
   "cell_type": "markdown",
   "metadata": {},
   "source": [
    "### Lets now present Our results as per the given guidelines"
   ]
  },
  {
   "cell_type": "code",
   "execution_count": 50,
   "metadata": {},
   "outputs": [],
   "source": [
    "sampleSubmission['Weekly_Sales'] = predicted_test\n",
    "column_date = test.Date\n",
    "sampleSubmission['Date'] = column_date\n",
    "sampleSubmission['Id'] = test['Store'].astype(str) + '_' +  test['Dept'].astype(str) + '_' +  sampleSubmission['Date'].astype(str)\n",
    "sampleSubmission = sampleSubmission[['Id','Weekly_Sales']]"
   ]
  },
  {
   "cell_type": "code",
   "execution_count": 52,
   "metadata": {},
   "outputs": [
    {
     "data": {
      "text/html": [
       "<div>\n",
       "<style scoped>\n",
       "    .dataframe tbody tr th:only-of-type {\n",
       "        vertical-align: middle;\n",
       "    }\n",
       "\n",
       "    .dataframe tbody tr th {\n",
       "        vertical-align: top;\n",
       "    }\n",
       "\n",
       "    .dataframe thead th {\n",
       "        text-align: right;\n",
       "    }\n",
       "</style>\n",
       "<table border=\"1\" class=\"dataframe\">\n",
       "  <thead>\n",
       "    <tr style=\"text-align: right;\">\n",
       "      <th></th>\n",
       "      <th>Id</th>\n",
       "      <th>Weekly_Sales</th>\n",
       "    </tr>\n",
       "  </thead>\n",
       "  <tbody>\n",
       "    <tr>\n",
       "      <th>0</th>\n",
       "      <td>1_1_2012-11-02</td>\n",
       "      <td>12746.15</td>\n",
       "    </tr>\n",
       "    <tr>\n",
       "      <th>1</th>\n",
       "      <td>1_1_2012-11-09</td>\n",
       "      <td>19050.66</td>\n",
       "    </tr>\n",
       "    <tr>\n",
       "      <th>2</th>\n",
       "      <td>1_1_2012-11-16</td>\n",
       "      <td>18689.54</td>\n",
       "    </tr>\n",
       "    <tr>\n",
       "      <th>3</th>\n",
       "      <td>1_1_2012-11-23</td>\n",
       "      <td>24364.54</td>\n",
       "    </tr>\n",
       "    <tr>\n",
       "      <th>4</th>\n",
       "      <td>1_1_2012-11-30</td>\n",
       "      <td>18689.54</td>\n",
       "    </tr>\n",
       "    <tr>\n",
       "      <th>...</th>\n",
       "      <td>...</td>\n",
       "      <td>...</td>\n",
       "    </tr>\n",
       "    <tr>\n",
       "      <th>115059</th>\n",
       "      <td>45_98_2013-06-28</td>\n",
       "      <td>657.63</td>\n",
       "    </tr>\n",
       "    <tr>\n",
       "      <th>115060</th>\n",
       "      <td>45_98_2013-07-05</td>\n",
       "      <td>763.60</td>\n",
       "    </tr>\n",
       "    <tr>\n",
       "      <th>115061</th>\n",
       "      <td>45_98_2013-07-12</td>\n",
       "      <td>550.98</td>\n",
       "    </tr>\n",
       "    <tr>\n",
       "      <th>115062</th>\n",
       "      <td>45_98_2013-07-19</td>\n",
       "      <td>550.98</td>\n",
       "    </tr>\n",
       "    <tr>\n",
       "      <th>115063</th>\n",
       "      <td>45_98_2013-07-26</td>\n",
       "      <td>794.62</td>\n",
       "    </tr>\n",
       "  </tbody>\n",
       "</table>\n",
       "<p>115064 rows × 2 columns</p>\n",
       "</div>"
      ],
      "text/plain": [
       "                      Id  Weekly_Sales\n",
       "0         1_1_2012-11-02      12746.15\n",
       "1         1_1_2012-11-09      19050.66\n",
       "2         1_1_2012-11-16      18689.54\n",
       "3         1_1_2012-11-23      24364.54\n",
       "4         1_1_2012-11-30      18689.54\n",
       "...                  ...           ...\n",
       "115059  45_98_2013-06-28        657.63\n",
       "115060  45_98_2013-07-05        763.60\n",
       "115061  45_98_2013-07-12        550.98\n",
       "115062  45_98_2013-07-19        550.98\n",
       "115063  45_98_2013-07-26        794.62\n",
       "\n",
       "[115064 rows x 2 columns]"
      ]
     },
     "execution_count": 52,
     "metadata": {},
     "output_type": "execute_result"
    }
   ],
   "source": [
    "sampleSubmission"
   ]
  },
  {
   "cell_type": "code",
   "execution_count": 53,
   "metadata": {},
   "outputs": [],
   "source": [
    "# files>> outputA.csv for testA\n",
    "# files>> outputB.csv for testB\n",
    "# files>> outputC.csv for testC\n",
    "sampleSubmission.to_csv('outputB.csv', index=False)"
   ]
  },
  {
   "cell_type": "markdown",
   "metadata": {},
   "source": [
    "### Using The month Model of date conversion is seen to yield better model results as compared to testA"
   ]
  },
  {
   "cell_type": "code",
   "execution_count": null,
   "metadata": {},
   "outputs": [],
   "source": []
  }
 ],
 "metadata": {
  "colab": {
   "collapsed_sections": [],
   "name": "walmart-recruiting.ipynb",
   "provenance": []
  },
  "kernelspec": {
   "display_name": "Python 3",
   "language": "python",
   "name": "python3"
  },
  "language_info": {
   "codemirror_mode": {
    "name": "ipython",
    "version": 3
   },
   "file_extension": ".py",
   "mimetype": "text/x-python",
   "name": "python",
   "nbconvert_exporter": "python",
   "pygments_lexer": "ipython3",
   "version": "3.8.3"
  }
 },
 "nbformat": 4,
 "nbformat_minor": 1
}
