{
 "cells": [
  {
   "cell_type": "markdown",
   "metadata": {},
   "source": [
    "### GOAL\n",
    "#### To predict departmentwide weekly sales of every store provided historical data of 45 Walmart Stores"
   ]
  },
  {
   "cell_type": "markdown",
   "metadata": {},
   "source": [
    "## AIM\n",
    "### Examine different model perfomances with insufficient data and sufficient data fed into them"
   ]
  },
  {
   "cell_type": "markdown",
   "metadata": {},
   "source": [
    "### Loading modules to work with"
   ]
  },
  {
   "cell_type": "code",
   "execution_count": 1,
   "metadata": {
    "executionInfo": {
     "elapsed": 1387,
     "status": "ok",
     "timestamp": 1606543799201,
     "user": {
      "displayName": "electrical eng500",
      "photoUrl": "https://lh3.googleusercontent.com/a-/AOh14Gg31t8c8rGSFUqxo-7d1o83HPYEpCIpohXJEYlQ=s64",
      "userId": "06113119512919385150"
     },
     "user_tz": -180
    },
    "id": "lkgetnYTjjg0"
   },
   "outputs": [],
   "source": [
    "import pandas as pd\n",
    "import matplotlib.pyplot as plt\n",
    "import numpy as np\n",
    "import seaborn as sns\n",
    "import os\n",
    "import datetime as dt"
   ]
  },
  {
   "cell_type": "code",
   "execution_count": 2,
   "metadata": {
    "colab": {
     "base_uri": "https://localhost:8080/",
     "height": 35
    },
    "executionInfo": {
     "elapsed": 881,
     "status": "ok",
     "timestamp": 1606543805336,
     "user": {
      "displayName": "electrical eng500",
      "photoUrl": "https://lh3.googleusercontent.com/a-/AOh14Gg31t8c8rGSFUqxo-7d1o83HPYEpCIpohXJEYlQ=s64",
      "userId": "06113119512919385150"
     },
     "user_tz": -180
    },
    "id": "mCfNA_vkjjg1",
    "outputId": "594e9f56-a84d-4ca8-c126-6c299f41a248"
   },
   "outputs": [
    {
     "data": {
      "text/plain": [
       "'C:\\\\Users\\\\Boniface\\\\Desktop\\\\pythonpractice\\\\DataScience\\\\notebooks'"
      ]
     },
     "execution_count": 2,
     "metadata": {},
     "output_type": "execute_result"
    }
   ],
   "source": [
    "os.getcwd()"
   ]
  },
  {
   "cell_type": "markdown",
   "metadata": {},
   "source": [
    "### Importing our Data"
   ]
  },
  {
   "cell_type": "code",
   "execution_count": 3,
   "metadata": {
    "executionInfo": {
     "elapsed": 864,
     "status": "ok",
     "timestamp": 1606543809133,
     "user": {
      "displayName": "electrical eng500",
      "photoUrl": "https://lh3.googleusercontent.com/a-/AOh14Gg31t8c8rGSFUqxo-7d1o83HPYEpCIpohXJEYlQ=s64",
      "userId": "06113119512919385150"
     },
     "user_tz": -180
    },
    "id": "sebuVjNyjjg2"
   },
   "outputs": [],
   "source": [
    "features =pd.read_csv('datasets/walmart/features.csv')\n",
    "sampleSubmission =pd.read_csv('datasets/walmart/sampleSubmission.csv')\n",
    "test =pd.read_csv('datasets/walmart/test.csv')\n",
    "train =pd.read_csv('datasets/walmart/train.csv')\n",
    "stores =pd.read_csv('datasets/walmart/stores.csv')"
   ]
  },
  {
   "cell_type": "markdown",
   "metadata": {},
   "source": [
    "#### Data Anaysis through Descriptive Statistics"
   ]
  },
  {
   "cell_type": "code",
   "execution_count": 4,
   "metadata": {
    "colab": {
     "base_uri": "https://localhost:8080/",
     "height": 204
    },
    "executionInfo": {
     "elapsed": 1091,
     "status": "ok",
     "timestamp": 1606543828185,
     "user": {
      "displayName": "electrical eng500",
      "photoUrl": "https://lh3.googleusercontent.com/a-/AOh14Gg31t8c8rGSFUqxo-7d1o83HPYEpCIpohXJEYlQ=s64",
      "userId": "06113119512919385150"
     },
     "user_tz": -180
    },
    "id": "yw6I9Bg9jjg3",
    "outputId": "8f6c332a-3945-4214-a2a8-049c865767eb"
   },
   "outputs": [
    {
     "data": {
      "text/html": [
       "<div>\n",
       "<style scoped>\n",
       "    .dataframe tbody tr th:only-of-type {\n",
       "        vertical-align: middle;\n",
       "    }\n",
       "\n",
       "    .dataframe tbody tr th {\n",
       "        vertical-align: top;\n",
       "    }\n",
       "\n",
       "    .dataframe thead th {\n",
       "        text-align: right;\n",
       "    }\n",
       "</style>\n",
       "<table border=\"1\" class=\"dataframe\">\n",
       "  <thead>\n",
       "    <tr style=\"text-align: right;\">\n",
       "      <th></th>\n",
       "      <th>Store</th>\n",
       "      <th>Date</th>\n",
       "      <th>Temperature</th>\n",
       "      <th>Fuel_Price</th>\n",
       "      <th>MarkDown1</th>\n",
       "      <th>MarkDown2</th>\n",
       "      <th>MarkDown3</th>\n",
       "      <th>MarkDown4</th>\n",
       "      <th>MarkDown5</th>\n",
       "      <th>CPI</th>\n",
       "      <th>Unemployment</th>\n",
       "      <th>IsHoliday</th>\n",
       "    </tr>\n",
       "  </thead>\n",
       "  <tbody>\n",
       "    <tr>\n",
       "      <th>0</th>\n",
       "      <td>1</td>\n",
       "      <td>2010-02-05</td>\n",
       "      <td>42.31</td>\n",
       "      <td>2.572</td>\n",
       "      <td>NaN</td>\n",
       "      <td>NaN</td>\n",
       "      <td>NaN</td>\n",
       "      <td>NaN</td>\n",
       "      <td>NaN</td>\n",
       "      <td>211.096358</td>\n",
       "      <td>8.106</td>\n",
       "      <td>False</td>\n",
       "    </tr>\n",
       "    <tr>\n",
       "      <th>1</th>\n",
       "      <td>1</td>\n",
       "      <td>2010-02-12</td>\n",
       "      <td>38.51</td>\n",
       "      <td>2.548</td>\n",
       "      <td>NaN</td>\n",
       "      <td>NaN</td>\n",
       "      <td>NaN</td>\n",
       "      <td>NaN</td>\n",
       "      <td>NaN</td>\n",
       "      <td>211.242170</td>\n",
       "      <td>8.106</td>\n",
       "      <td>True</td>\n",
       "    </tr>\n",
       "    <tr>\n",
       "      <th>2</th>\n",
       "      <td>1</td>\n",
       "      <td>2010-02-19</td>\n",
       "      <td>39.93</td>\n",
       "      <td>2.514</td>\n",
       "      <td>NaN</td>\n",
       "      <td>NaN</td>\n",
       "      <td>NaN</td>\n",
       "      <td>NaN</td>\n",
       "      <td>NaN</td>\n",
       "      <td>211.289143</td>\n",
       "      <td>8.106</td>\n",
       "      <td>False</td>\n",
       "    </tr>\n",
       "    <tr>\n",
       "      <th>3</th>\n",
       "      <td>1</td>\n",
       "      <td>2010-02-26</td>\n",
       "      <td>46.63</td>\n",
       "      <td>2.561</td>\n",
       "      <td>NaN</td>\n",
       "      <td>NaN</td>\n",
       "      <td>NaN</td>\n",
       "      <td>NaN</td>\n",
       "      <td>NaN</td>\n",
       "      <td>211.319643</td>\n",
       "      <td>8.106</td>\n",
       "      <td>False</td>\n",
       "    </tr>\n",
       "    <tr>\n",
       "      <th>4</th>\n",
       "      <td>1</td>\n",
       "      <td>2010-03-05</td>\n",
       "      <td>46.50</td>\n",
       "      <td>2.625</td>\n",
       "      <td>NaN</td>\n",
       "      <td>NaN</td>\n",
       "      <td>NaN</td>\n",
       "      <td>NaN</td>\n",
       "      <td>NaN</td>\n",
       "      <td>211.350143</td>\n",
       "      <td>8.106</td>\n",
       "      <td>False</td>\n",
       "    </tr>\n",
       "  </tbody>\n",
       "</table>\n",
       "</div>"
      ],
      "text/plain": [
       "   Store        Date  Temperature  Fuel_Price  MarkDown1  MarkDown2  \\\n",
       "0      1  2010-02-05        42.31       2.572        NaN        NaN   \n",
       "1      1  2010-02-12        38.51       2.548        NaN        NaN   \n",
       "2      1  2010-02-19        39.93       2.514        NaN        NaN   \n",
       "3      1  2010-02-26        46.63       2.561        NaN        NaN   \n",
       "4      1  2010-03-05        46.50       2.625        NaN        NaN   \n",
       "\n",
       "   MarkDown3  MarkDown4  MarkDown5         CPI  Unemployment  IsHoliday  \n",
       "0        NaN        NaN        NaN  211.096358         8.106      False  \n",
       "1        NaN        NaN        NaN  211.242170         8.106       True  \n",
       "2        NaN        NaN        NaN  211.289143         8.106      False  \n",
       "3        NaN        NaN        NaN  211.319643         8.106      False  \n",
       "4        NaN        NaN        NaN  211.350143         8.106      False  "
      ]
     },
     "execution_count": 4,
     "metadata": {},
     "output_type": "execute_result"
    }
   ],
   "source": [
    "features.head()"
   ]
  },
  {
   "cell_type": "code",
   "execution_count": 5,
   "metadata": {
    "colab": {
     "base_uri": "https://localhost:8080/",
     "height": 297
    },
    "executionInfo": {
     "elapsed": 879,
     "status": "ok",
     "timestamp": 1606543831846,
     "user": {
      "displayName": "electrical eng500",
      "photoUrl": "https://lh3.googleusercontent.com/a-/AOh14Gg31t8c8rGSFUqxo-7d1o83HPYEpCIpohXJEYlQ=s64",
      "userId": "06113119512919385150"
     },
     "user_tz": -180
    },
    "id": "2jAbYOi5jjg3",
    "outputId": "e0b240da-ca63-49f3-96af-5603cc1682d5"
   },
   "outputs": [
    {
     "data": {
      "text/html": [
       "<div>\n",
       "<style scoped>\n",
       "    .dataframe tbody tr th:only-of-type {\n",
       "        vertical-align: middle;\n",
       "    }\n",
       "\n",
       "    .dataframe tbody tr th {\n",
       "        vertical-align: top;\n",
       "    }\n",
       "\n",
       "    .dataframe thead th {\n",
       "        text-align: right;\n",
       "    }\n",
       "</style>\n",
       "<table border=\"1\" class=\"dataframe\">\n",
       "  <thead>\n",
       "    <tr style=\"text-align: right;\">\n",
       "      <th></th>\n",
       "      <th>Store</th>\n",
       "      <th>Temperature</th>\n",
       "      <th>Fuel_Price</th>\n",
       "      <th>MarkDown1</th>\n",
       "      <th>MarkDown2</th>\n",
       "      <th>MarkDown3</th>\n",
       "      <th>MarkDown4</th>\n",
       "      <th>MarkDown5</th>\n",
       "      <th>CPI</th>\n",
       "      <th>Unemployment</th>\n",
       "    </tr>\n",
       "  </thead>\n",
       "  <tbody>\n",
       "    <tr>\n",
       "      <th>count</th>\n",
       "      <td>8190.000000</td>\n",
       "      <td>8190.000000</td>\n",
       "      <td>8190.000000</td>\n",
       "      <td>4032.000000</td>\n",
       "      <td>2921.000000</td>\n",
       "      <td>3613.000000</td>\n",
       "      <td>3464.000000</td>\n",
       "      <td>4050.000000</td>\n",
       "      <td>7605.000000</td>\n",
       "      <td>7605.000000</td>\n",
       "    </tr>\n",
       "    <tr>\n",
       "      <th>mean</th>\n",
       "      <td>23.000000</td>\n",
       "      <td>59.356198</td>\n",
       "      <td>3.405992</td>\n",
       "      <td>7032.371786</td>\n",
       "      <td>3384.176594</td>\n",
       "      <td>1760.100180</td>\n",
       "      <td>3292.935886</td>\n",
       "      <td>4132.216422</td>\n",
       "      <td>172.460809</td>\n",
       "      <td>7.826821</td>\n",
       "    </tr>\n",
       "    <tr>\n",
       "      <th>std</th>\n",
       "      <td>12.987966</td>\n",
       "      <td>18.678607</td>\n",
       "      <td>0.431337</td>\n",
       "      <td>9262.747448</td>\n",
       "      <td>8793.583016</td>\n",
       "      <td>11276.462208</td>\n",
       "      <td>6792.329861</td>\n",
       "      <td>13086.690278</td>\n",
       "      <td>39.738346</td>\n",
       "      <td>1.877259</td>\n",
       "    </tr>\n",
       "    <tr>\n",
       "      <th>min</th>\n",
       "      <td>1.000000</td>\n",
       "      <td>-7.290000</td>\n",
       "      <td>2.472000</td>\n",
       "      <td>-2781.450000</td>\n",
       "      <td>-265.760000</td>\n",
       "      <td>-179.260000</td>\n",
       "      <td>0.220000</td>\n",
       "      <td>-185.170000</td>\n",
       "      <td>126.064000</td>\n",
       "      <td>3.684000</td>\n",
       "    </tr>\n",
       "    <tr>\n",
       "      <th>25%</th>\n",
       "      <td>12.000000</td>\n",
       "      <td>45.902500</td>\n",
       "      <td>3.041000</td>\n",
       "      <td>1577.532500</td>\n",
       "      <td>68.880000</td>\n",
       "      <td>6.600000</td>\n",
       "      <td>304.687500</td>\n",
       "      <td>1440.827500</td>\n",
       "      <td>132.364839</td>\n",
       "      <td>6.634000</td>\n",
       "    </tr>\n",
       "    <tr>\n",
       "      <th>50%</th>\n",
       "      <td>23.000000</td>\n",
       "      <td>60.710000</td>\n",
       "      <td>3.513000</td>\n",
       "      <td>4743.580000</td>\n",
       "      <td>364.570000</td>\n",
       "      <td>36.260000</td>\n",
       "      <td>1176.425000</td>\n",
       "      <td>2727.135000</td>\n",
       "      <td>182.764003</td>\n",
       "      <td>7.806000</td>\n",
       "    </tr>\n",
       "    <tr>\n",
       "      <th>75%</th>\n",
       "      <td>34.000000</td>\n",
       "      <td>73.880000</td>\n",
       "      <td>3.743000</td>\n",
       "      <td>8923.310000</td>\n",
       "      <td>2153.350000</td>\n",
       "      <td>163.150000</td>\n",
       "      <td>3310.007500</td>\n",
       "      <td>4832.555000</td>\n",
       "      <td>213.932412</td>\n",
       "      <td>8.567000</td>\n",
       "    </tr>\n",
       "    <tr>\n",
       "      <th>max</th>\n",
       "      <td>45.000000</td>\n",
       "      <td>101.950000</td>\n",
       "      <td>4.468000</td>\n",
       "      <td>103184.980000</td>\n",
       "      <td>104519.540000</td>\n",
       "      <td>149483.310000</td>\n",
       "      <td>67474.850000</td>\n",
       "      <td>771448.100000</td>\n",
       "      <td>228.976456</td>\n",
       "      <td>14.313000</td>\n",
       "    </tr>\n",
       "  </tbody>\n",
       "</table>\n",
       "</div>"
      ],
      "text/plain": [
       "             Store  Temperature   Fuel_Price      MarkDown1      MarkDown2  \\\n",
       "count  8190.000000  8190.000000  8190.000000    4032.000000    2921.000000   \n",
       "mean     23.000000    59.356198     3.405992    7032.371786    3384.176594   \n",
       "std      12.987966    18.678607     0.431337    9262.747448    8793.583016   \n",
       "min       1.000000    -7.290000     2.472000   -2781.450000    -265.760000   \n",
       "25%      12.000000    45.902500     3.041000    1577.532500      68.880000   \n",
       "50%      23.000000    60.710000     3.513000    4743.580000     364.570000   \n",
       "75%      34.000000    73.880000     3.743000    8923.310000    2153.350000   \n",
       "max      45.000000   101.950000     4.468000  103184.980000  104519.540000   \n",
       "\n",
       "           MarkDown3     MarkDown4      MarkDown5          CPI  Unemployment  \n",
       "count    3613.000000   3464.000000    4050.000000  7605.000000   7605.000000  \n",
       "mean     1760.100180   3292.935886    4132.216422   172.460809      7.826821  \n",
       "std     11276.462208   6792.329861   13086.690278    39.738346      1.877259  \n",
       "min      -179.260000      0.220000    -185.170000   126.064000      3.684000  \n",
       "25%         6.600000    304.687500    1440.827500   132.364839      6.634000  \n",
       "50%        36.260000   1176.425000    2727.135000   182.764003      7.806000  \n",
       "75%       163.150000   3310.007500    4832.555000   213.932412      8.567000  \n",
       "max    149483.310000  67474.850000  771448.100000   228.976456     14.313000  "
      ]
     },
     "execution_count": 5,
     "metadata": {},
     "output_type": "execute_result"
    }
   ],
   "source": [
    "features.describe()"
   ]
  },
  {
   "cell_type": "code",
   "execution_count": 6,
   "metadata": {
    "colab": {
     "base_uri": "https://localhost:8080/"
    },
    "executionInfo": {
     "elapsed": 865,
     "status": "ok",
     "timestamp": 1606543841602,
     "user": {
      "displayName": "electrical eng500",
      "photoUrl": "https://lh3.googleusercontent.com/a-/AOh14Gg31t8c8rGSFUqxo-7d1o83HPYEpCIpohXJEYlQ=s64",
      "userId": "06113119512919385150"
     },
     "user_tz": -180
    },
    "id": "wIjFUXSUjjg3",
    "outputId": "dc5fc75f-50b4-4df5-ec0e-27321411dae3"
   },
   "outputs": [
    {
     "name": "stdout",
     "output_type": "stream",
     "text": [
      "<class 'pandas.core.frame.DataFrame'>\n",
      "RangeIndex: 421570 entries, 0 to 421569\n",
      "Data columns (total 5 columns):\n",
      " #   Column        Non-Null Count   Dtype  \n",
      "---  ------        --------------   -----  \n",
      " 0   Store         421570 non-null  int64  \n",
      " 1   Dept          421570 non-null  int64  \n",
      " 2   Date          421570 non-null  object \n",
      " 3   Weekly_Sales  421570 non-null  float64\n",
      " 4   IsHoliday     421570 non-null  bool   \n",
      "dtypes: bool(1), float64(1), int64(2), object(1)\n",
      "memory usage: 11.7+ MB\n",
      "<class 'pandas.core.frame.DataFrame'>\n",
      "RangeIndex: 115064 entries, 0 to 115063\n",
      "Data columns (total 4 columns):\n",
      " #   Column     Non-Null Count   Dtype \n",
      "---  ------     --------------   ----- \n",
      " 0   Store      115064 non-null  int64 \n",
      " 1   Dept       115064 non-null  int64 \n",
      " 2   Date       115064 non-null  object\n",
      " 3   IsHoliday  115064 non-null  bool  \n",
      "dtypes: bool(1), int64(2), object(1)\n",
      "memory usage: 2.3+ MB\n"
     ]
    }
   ],
   "source": [
    "train.info()\n",
    "test.info()"
   ]
  },
  {
   "cell_type": "code",
   "execution_count": 7,
   "metadata": {
    "colab": {
     "base_uri": "https://localhost:8080/"
    },
    "executionInfo": {
     "elapsed": 798,
     "status": "ok",
     "timestamp": 1606543860714,
     "user": {
      "displayName": "electrical eng500",
      "photoUrl": "https://lh3.googleusercontent.com/a-/AOh14Gg31t8c8rGSFUqxo-7d1o83HPYEpCIpohXJEYlQ=s64",
      "userId": "06113119512919385150"
     },
     "user_tz": -180
    },
    "id": "jY5PpN5Bjjg3",
    "outputId": "495332fe-45a2-4127-c756-3dfab49937c6"
   },
   "outputs": [
    {
     "name": "stdout",
     "output_type": "stream",
     "text": [
      "<class 'pandas.core.frame.DataFrame'>\n",
      "RangeIndex: 8190 entries, 0 to 8189\n",
      "Data columns (total 12 columns):\n",
      " #   Column        Non-Null Count  Dtype  \n",
      "---  ------        --------------  -----  \n",
      " 0   Store         8190 non-null   int64  \n",
      " 1   Date          8190 non-null   object \n",
      " 2   Temperature   8190 non-null   float64\n",
      " 3   Fuel_Price    8190 non-null   float64\n",
      " 4   MarkDown1     4032 non-null   float64\n",
      " 5   MarkDown2     2921 non-null   float64\n",
      " 6   MarkDown3     3613 non-null   float64\n",
      " 7   MarkDown4     3464 non-null   float64\n",
      " 8   MarkDown5     4050 non-null   float64\n",
      " 9   CPI           7605 non-null   float64\n",
      " 10  Unemployment  7605 non-null   float64\n",
      " 11  IsHoliday     8190 non-null   bool   \n",
      "dtypes: bool(1), float64(9), int64(1), object(1)\n",
      "memory usage: 679.9+ KB\n"
     ]
    }
   ],
   "source": [
    "# Descriptive Analytics\n",
    "# features.columns.tolist()\n",
    "# features.describe().keys().tolist #described columns to list\n",
    "# features.count() # total number of values per column\n",
    "features.info()"
   ]
  },
  {
   "cell_type": "code",
   "execution_count": 8,
   "metadata": {
    "colab": {
     "base_uri": "https://localhost:8080/"
    },
    "executionInfo": {
     "elapsed": 865,
     "status": "ok",
     "timestamp": 1606543869673,
     "user": {
      "displayName": "electrical eng500",
      "photoUrl": "https://lh3.googleusercontent.com/a-/AOh14Gg31t8c8rGSFUqxo-7d1o83HPYEpCIpohXJEYlQ=s64",
      "userId": "06113119512919385150"
     },
     "user_tz": -180
    },
    "id": "9QDytIcQjjg3",
    "outputId": "13e94212-5b8f-4cd7-dc3c-65bccc861928"
   },
   "outputs": [
    {
     "data": {
      "text/plain": [
       "8185    45\n",
       "8186    45\n",
       "8187    45\n",
       "8188    45\n",
       "8189    45\n",
       "Name: Store, dtype: int64"
      ]
     },
     "execution_count": 8,
     "metadata": {},
     "output_type": "execute_result"
    }
   ],
   "source": [
    "features.iloc[-5:].Store #Accessing the last five stores\n",
    "#features[\"IsHoliday\"].replace([True,False],[1,0]) # replacing multiple elements\n",
    "#features.rename(columns={\"A\" : \"a\", \"B\": \"b\"}) # renaming of columns"
   ]
  },
  {
   "cell_type": "code",
   "execution_count": 9,
   "metadata": {
    "colab": {
     "base_uri": "https://localhost:8080/"
    },
    "executionInfo": {
     "elapsed": 1161,
     "status": "ok",
     "timestamp": 1606543872764,
     "user": {
      "displayName": "electrical eng500",
      "photoUrl": "https://lh3.googleusercontent.com/a-/AOh14Gg31t8c8rGSFUqxo-7d1o83HPYEpCIpohXJEYlQ=s64",
      "userId": "06113119512919385150"
     },
     "user_tz": -180
    },
    "id": "Py8bKaYQjjg4",
    "outputId": "74acc0da-3bcb-409f-9691-14b55980a6bf"
   },
   "outputs": [
    {
     "data": {
      "text/plain": [
       "45"
      ]
     },
     "execution_count": 9,
     "metadata": {},
     "output_type": "execute_result"
    }
   ],
   "source": [
    "features.Store.nunique() # obtaining number of unique values"
   ]
  },
  {
   "cell_type": "code",
   "execution_count": 10,
   "metadata": {
    "executionInfo": {
     "elapsed": 1835,
     "status": "ok",
     "timestamp": 1606543885122,
     "user": {
      "displayName": "electrical eng500",
      "photoUrl": "https://lh3.googleusercontent.com/a-/AOh14Gg31t8c8rGSFUqxo-7d1o83HPYEpCIpohXJEYlQ=s64",
      "userId": "06113119512919385150"
     },
     "user_tz": -180
    },
    "id": "KX1GwC3QEbLf"
   },
   "outputs": [],
   "source": [
    "# We need to concatenate the train, test and features dataset for uniformity in categorical conversions and feature engineering\n",
    "features_len = len(features)\n",
    "train_len = len(train)\n",
    "test_len = len(test)\n",
    "dataset =  pd.concat(objs=[features,train,test], axis=0).reset_index(drop=True)\n"
   ]
  },
  {
   "cell_type": "code",
   "execution_count": 11,
   "metadata": {
    "colab": {
     "base_uri": "https://localhost:8080/"
    },
    "executionInfo": {
     "elapsed": 1294,
     "status": "ok",
     "timestamp": 1606543888784,
     "user": {
      "displayName": "electrical eng500",
      "photoUrl": "https://lh3.googleusercontent.com/a-/AOh14Gg31t8c8rGSFUqxo-7d1o83HPYEpCIpohXJEYlQ=s64",
      "userId": "06113119512919385150"
     },
     "user_tz": -180
    },
    "id": "0nclszolItSS",
    "outputId": "cfda3f7c-e861-40aa-bb73-acc2af0564ec"
   },
   "outputs": [
    {
     "name": "stdout",
     "output_type": "stream",
     "text": [
      "<class 'pandas.core.frame.DataFrame'>\n",
      "RangeIndex: 544824 entries, 0 to 544823\n",
      "Data columns (total 14 columns):\n",
      " #   Column        Non-Null Count   Dtype  \n",
      "---  ------        --------------   -----  \n",
      " 0   Store         544824 non-null  int64  \n",
      " 1   Date          544824 non-null  object \n",
      " 2   Temperature   8190 non-null    float64\n",
      " 3   Fuel_Price    8190 non-null    float64\n",
      " 4   MarkDown1     4032 non-null    float64\n",
      " 5   MarkDown2     2921 non-null    float64\n",
      " 6   MarkDown3     3613 non-null    float64\n",
      " 7   MarkDown4     3464 non-null    float64\n",
      " 8   MarkDown5     4050 non-null    float64\n",
      " 9   CPI           7605 non-null    float64\n",
      " 10  Unemployment  7605 non-null    float64\n",
      " 11  IsHoliday     544824 non-null  bool   \n",
      " 12  Dept          536634 non-null  float64\n",
      " 13  Weekly_Sales  421570 non-null  float64\n",
      "dtypes: bool(1), float64(11), int64(1), object(1)\n",
      "memory usage: 52.5+ MB\n"
     ]
    }
   ],
   "source": [
    "dataset.info()"
   ]
  },
  {
   "cell_type": "code",
   "execution_count": 12,
   "metadata": {
    "colab": {
     "base_uri": "https://localhost:8080/"
    },
    "executionInfo": {
     "elapsed": 1475,
     "status": "ok",
     "timestamp": 1606543899110,
     "user": {
      "displayName": "electrical eng500",
      "photoUrl": "https://lh3.googleusercontent.com/a-/AOh14Gg31t8c8rGSFUqxo-7d1o83HPYEpCIpohXJEYlQ=s64",
      "userId": "06113119512919385150"
     },
     "user_tz": -180
    },
    "id": "jTw5kz-XJBII",
    "outputId": "7dba52da-6b0a-4291-9c41-77b312e9a42a"
   },
   "outputs": [
    {
     "data": {
      "text/plain": [
       "Store                0\n",
       "Date                 0\n",
       "Temperature     536634\n",
       "Fuel_Price      536634\n",
       "MarkDown1       540792\n",
       "MarkDown2       541903\n",
       "MarkDown3       541211\n",
       "MarkDown4       541360\n",
       "MarkDown5       540774\n",
       "CPI             537219\n",
       "Unemployment    537219\n",
       "IsHoliday            0\n",
       "Dept              8190\n",
       "Weekly_Sales    123254\n",
       "dtype: int64"
      ]
     },
     "execution_count": 12,
     "metadata": {},
     "output_type": "execute_result"
    }
   ],
   "source": [
    "dataset.isnull().sum()"
   ]
  },
  {
   "cell_type": "code",
   "execution_count": 13,
   "metadata": {
    "executionInfo": {
     "elapsed": 915,
     "status": "ok",
     "timestamp": 1606543901202,
     "user": {
      "displayName": "electrical eng500",
      "photoUrl": "https://lh3.googleusercontent.com/a-/AOh14Gg31t8c8rGSFUqxo-7d1o83HPYEpCIpohXJEYlQ=s64",
      "userId": "06113119512919385150"
     },
     "user_tz": -180
    },
    "id": "t-Xc_VoHKgKX"
   },
   "outputs": [],
   "source": [
    "# Droping Columns that have little importance on the overall model perfomance\n",
    "# We drop Markdowns since data contained is anonymized and hence not useful\n",
    "dataset.drop(['MarkDown1','MarkDown2','MarkDown3','MarkDown4','MarkDown5'], axis=1, inplace =True)"
   ]
  },
  {
   "cell_type": "code",
   "execution_count": 14,
   "metadata": {
    "colab": {
     "base_uri": "https://localhost:8080/"
    },
    "executionInfo": {
     "elapsed": 818,
     "status": "ok",
     "timestamp": 1606543903528,
     "user": {
      "displayName": "electrical eng500",
      "photoUrl": "https://lh3.googleusercontent.com/a-/AOh14Gg31t8c8rGSFUqxo-7d1o83HPYEpCIpohXJEYlQ=s64",
      "userId": "06113119512919385150"
     },
     "user_tz": -180
    },
    "id": "AnuqhMOFLNfy",
    "outputId": "45a9eedd-fa06-4134-ed45-3fa5e38d250f"
   },
   "outputs": [
    {
     "data": {
      "text/plain": [
       "Store                0\n",
       "Date                 0\n",
       "Temperature     536634\n",
       "Fuel_Price      536634\n",
       "CPI             537219\n",
       "Unemployment    537219\n",
       "IsHoliday            0\n",
       "Dept              8190\n",
       "Weekly_Sales    123254\n",
       "dtype: int64"
      ]
     },
     "execution_count": 14,
     "metadata": {},
     "output_type": "execute_result"
    }
   ],
   "source": [
    "dataset.isnull().sum()"
   ]
  },
  {
   "cell_type": "code",
   "execution_count": 15,
   "metadata": {
    "colab": {
     "base_uri": "https://localhost:8080/"
    },
    "executionInfo": {
     "elapsed": 912,
     "status": "ok",
     "timestamp": 1606543910888,
     "user": {
      "displayName": "electrical eng500",
      "photoUrl": "https://lh3.googleusercontent.com/a-/AOh14Gg31t8c8rGSFUqxo-7d1o83HPYEpCIpohXJEYlQ=s64",
      "userId": "06113119512919385150"
     },
     "user_tz": -180
    },
    "id": "k5unzH9wjjg4",
    "outputId": "d4a53e84-28e5-493d-8b4d-5a4c954175ff"
   },
   "outputs": [
    {
     "data": {
      "text/plain": [
       "Store           9030\n",
       "Date            9030\n",
       "Temperature      135\n",
       "Fuel_Price       135\n",
       "CPI              135\n",
       "Unemployment     135\n",
       "IsHoliday       9030\n",
       "Dept            8895\n",
       "Weekly_Sales    8895\n",
       "dtype: int64"
      ]
     },
     "execution_count": 15,
     "metadata": {},
     "output_type": "execute_result"
    }
   ],
   "source": [
    "# lets try find out which rows have Superbowl holidays .\n",
    "dataset[(dataset.Date == '2010-02-12' ) | (dataset.Date == '2011-02-11') | (dataset.Date == '2012-02-10') | (dataset.Date == '2013-2-08')].count()"
   ]
  },
  {
   "cell_type": "code",
   "execution_count": 16,
   "metadata": {
    "executionInfo": {
     "elapsed": 871,
     "status": "ok",
     "timestamp": 1606543915663,
     "user": {
      "displayName": "electrical eng500",
      "photoUrl": "https://lh3.googleusercontent.com/a-/AOh14Gg31t8c8rGSFUqxo-7d1o83HPYEpCIpohXJEYlQ=s64",
      "userId": "06113119512919385150"
     },
     "user_tz": -180
    },
    "id": "ph0BDgVEjjg4"
   },
   "outputs": [],
   "source": [
    "# Replace the SuperBowl holidays with an S.Dates defined in Kaggle \n",
    "dataset.Date.replace(['2010-02-12','2011-02-11','2012-02-10','2013-2-08'],'S',inplace=True) # 2012-02-10 made S by mistake"
   ]
  },
  {
   "cell_type": "code",
   "execution_count": 17,
   "metadata": {
    "colab": {
     "base_uri": "https://localhost:8080/"
    },
    "executionInfo": {
     "elapsed": 618,
     "status": "ok",
     "timestamp": 1606543917193,
     "user": {
      "displayName": "electrical eng500",
      "photoUrl": "https://lh3.googleusercontent.com/a-/AOh14Gg31t8c8rGSFUqxo-7d1o83HPYEpCIpohXJEYlQ=s64",
      "userId": "06113119512919385150"
     },
     "user_tz": -180
    },
    "id": "KczJJt0Njjg4",
    "outputId": "5b83e5e4-cea6-4445-d9be-ec6526e21109"
   },
   "outputs": [
    {
     "data": {
      "text/plain": [
       "Store           9030\n",
       "Date            9030\n",
       "Temperature      135\n",
       "Fuel_Price       135\n",
       "CPI              135\n",
       "Unemployment     135\n",
       "IsHoliday       9030\n",
       "Dept            8895\n",
       "Weekly_Sales    8895\n",
       "dtype: int64"
      ]
     },
     "execution_count": 17,
     "metadata": {},
     "output_type": "execute_result"
    }
   ],
   "source": [
    "dataset[dataset.Date=='S'].count()\n"
   ]
  },
  {
   "cell_type": "code",
   "execution_count": 18,
   "metadata": {
    "executionInfo": {
     "elapsed": 1100,
     "status": "ok",
     "timestamp": 1606543919725,
     "user": {
      "displayName": "electrical eng500",
      "photoUrl": "https://lh3.googleusercontent.com/a-/AOh14Gg31t8c8rGSFUqxo-7d1o83HPYEpCIpohXJEYlQ=s64",
      "userId": "06113119512919385150"
     },
     "user_tz": -180
    },
    "id": "edxSDNKr8bfr"
   },
   "outputs": [],
   "source": [
    "# Replace the Labour holidays with an L .Dates defined in Kaggle \n",
    "dataset.Date.replace(['2010-09-10','2011-09-09','2012-09-07','2013-09-06'],'L',inplace=True) "
   ]
  },
  {
   "cell_type": "code",
   "execution_count": 19,
   "metadata": {
    "colab": {
     "base_uri": "https://localhost:8080/"
    },
    "executionInfo": {
     "elapsed": 837,
     "status": "ok",
     "timestamp": 1606543930072,
     "user": {
      "displayName": "electrical eng500",
      "photoUrl": "https://lh3.googleusercontent.com/a-/AOh14Gg31t8c8rGSFUqxo-7d1o83HPYEpCIpohXJEYlQ=s64",
      "userId": "06113119512919385150"
     },
     "user_tz": -180
    },
    "id": "4QCTOW0s9inC",
    "outputId": "8e648cac-9c55-449a-c406-5bb6c85bb6fa"
   },
   "outputs": [
    {
     "data": {
      "text/plain": [
       "Store           8996\n",
       "Date            8996\n",
       "Temperature      135\n",
       "Fuel_Price       135\n",
       "CPI              135\n",
       "Unemployment     135\n",
       "IsHoliday       8996\n",
       "Dept            8861\n",
       "Weekly_Sales    8861\n",
       "dtype: int64"
      ]
     },
     "execution_count": 19,
     "metadata": {},
     "output_type": "execute_result"
    }
   ],
   "source": [
    "dataset[dataset.Date=='L'].count()"
   ]
  },
  {
   "cell_type": "code",
   "execution_count": 20,
   "metadata": {
    "executionInfo": {
     "elapsed": 912,
     "status": "ok",
     "timestamp": 1606543933281,
     "user": {
      "displayName": "electrical eng500",
      "photoUrl": "https://lh3.googleusercontent.com/a-/AOh14Gg31t8c8rGSFUqxo-7d1o83HPYEpCIpohXJEYlQ=s64",
      "userId": "06113119512919385150"
     },
     "user_tz": -180
    },
    "id": "WByxZhbo9tXy"
   },
   "outputs": [],
   "source": [
    "# Replace the Thanksgiving holidays with a T .Dates defined in Kaggle \n",
    "dataset.Date.replace(['2010-11-26','2011-11-25','2012-11-23','2013-11-29'],'T',inplace=True) "
   ]
  },
  {
   "cell_type": "code",
   "execution_count": 21,
   "metadata": {
    "colab": {
     "base_uri": "https://localhost:8080/"
    },
    "executionInfo": {
     "elapsed": 827,
     "status": "ok",
     "timestamp": 1606543936882,
     "user": {
      "displayName": "electrical eng500",
      "photoUrl": "https://lh3.googleusercontent.com/a-/AOh14Gg31t8c8rGSFUqxo-7d1o83HPYEpCIpohXJEYlQ=s64",
      "userId": "06113119512919385150"
     },
     "user_tz": -180
    },
    "id": "fEcAkngf-T-h",
    "outputId": "372e7d24-fa7e-45fe-929e-17462b76aa9b"
   },
   "outputs": [
    {
     "data": {
      "text/plain": [
       "Store           9070\n",
       "Date            9070\n",
       "Temperature      135\n",
       "Fuel_Price       135\n",
       "CPI              135\n",
       "Unemployment     135\n",
       "IsHoliday       9070\n",
       "Dept            8935\n",
       "Weekly_Sales    5959\n",
       "dtype: int64"
      ]
     },
     "execution_count": 21,
     "metadata": {},
     "output_type": "execute_result"
    }
   ],
   "source": [
    "dataset[dataset.Date=='T'].count()"
   ]
  },
  {
   "cell_type": "code",
   "execution_count": 22,
   "metadata": {
    "executionInfo": {
     "elapsed": 899,
     "status": "ok",
     "timestamp": 1606543940112,
     "user": {
      "displayName": "electrical eng500",
      "photoUrl": "https://lh3.googleusercontent.com/a-/AOh14Gg31t8c8rGSFUqxo-7d1o83HPYEpCIpohXJEYlQ=s64",
      "userId": "06113119512919385150"
     },
     "user_tz": -180
    },
    "id": "-4kitxah-id7"
   },
   "outputs": [],
   "source": [
    "# Replace the Christmass holidays with a C .Dates defined in Kaggle \n",
    "dataset.Date.replace(['2010-12-31','2011-12-30','2012-12-28','2013-12-27'],'C',inplace=True) "
   ]
  },
  {
   "cell_type": "code",
   "execution_count": 23,
   "metadata": {
    "colab": {
     "base_uri": "https://localhost:8080/"
    },
    "executionInfo": {
     "elapsed": 853,
     "status": "ok",
     "timestamp": 1606543943248,
     "user": {
      "displayName": "electrical eng500",
      "photoUrl": "https://lh3.googleusercontent.com/a-/AOh14Gg31t8c8rGSFUqxo-7d1o83HPYEpCIpohXJEYlQ=s64",
      "userId": "06113119512919385150"
     },
     "user_tz": -180
    },
    "id": "hpR-ENjM_HUQ",
    "outputId": "4c0b2f2f-822b-4bad-cd1c-f8701a950d67"
   },
   "outputs": [
    {
     "data": {
      "text/plain": [
       "Store           9069\n",
       "Date            9069\n",
       "Temperature      135\n",
       "Fuel_Price       135\n",
       "CPI              135\n",
       "Unemployment     135\n",
       "IsHoliday       9069\n",
       "Dept            8934\n",
       "Weekly_Sales    5946\n",
       "dtype: int64"
      ]
     },
     "execution_count": 23,
     "metadata": {},
     "output_type": "execute_result"
    }
   ],
   "source": [
    "dataset[dataset.Date=='C'].count()"
   ]
  },
  {
   "cell_type": "code",
   "execution_count": 24,
   "metadata": {
    "executionInfo": {
     "elapsed": 854,
     "status": "ok",
     "timestamp": 1606543945768,
     "user": {
      "displayName": "electrical eng500",
      "photoUrl": "https://lh3.googleusercontent.com/a-/AOh14Gg31t8c8rGSFUqxo-7d1o83HPYEpCIpohXJEYlQ=s64",
      "userId": "06113119512919385150"
     },
     "user_tz": -180
    },
    "id": "EyKsALB-_Qcy"
   },
   "outputs": [],
   "source": [
    "# Replace the other date values with N for normal day\n",
    "dataset.loc[dataset.Date.str.len() > 1,'Date'] = 'N'"
   ]
  },
  {
   "cell_type": "code",
   "execution_count": 25,
   "metadata": {
    "colab": {
     "base_uri": "https://localhost:8080/"
    },
    "executionInfo": {
     "elapsed": 877,
     "status": "ok",
     "timestamp": 1606543948452,
     "user": {
      "displayName": "electrical eng500",
      "photoUrl": "https://lh3.googleusercontent.com/a-/AOh14Gg31t8c8rGSFUqxo-7d1o83HPYEpCIpohXJEYlQ=s64",
      "userId": "06113119512919385150"
     },
     "user_tz": -180
    },
    "id": "sBSKWySgMnFE",
    "outputId": "d62babee-82f3-4aba-dc4b-15cccb44e50f"
   },
   "outputs": [
    {
     "data": {
      "text/plain": [
       "0         N\n",
       "1         S\n",
       "2         N\n",
       "3         N\n",
       "4         N\n",
       "         ..\n",
       "544819    N\n",
       "544820    N\n",
       "544821    N\n",
       "544822    N\n",
       "544823    N\n",
       "Name: Date, Length: 544824, dtype: object"
      ]
     },
     "execution_count": 25,
     "metadata": {},
     "output_type": "execute_result"
    }
   ],
   "source": [
    "dataset.Date.loc[-50:]"
   ]
  },
  {
   "cell_type": "markdown",
   "metadata": {
    "id": "0TdEsetoLRn3"
   },
   "source": [
    "## Our Date is now in terms of S,L,C,T,N. We can normalize this values into 1 and zeros"
   ]
  },
  {
   "cell_type": "code",
   "execution_count": 26,
   "metadata": {
    "executionInfo": {
     "elapsed": 828,
     "status": "ok",
     "timestamp": 1606543960023,
     "user": {
      "displayName": "electrical eng500",
      "photoUrl": "https://lh3.googleusercontent.com/a-/AOh14Gg31t8c8rGSFUqxo-7d1o83HPYEpCIpohXJEYlQ=s64",
      "userId": "06113119512919385150"
     },
     "user_tz": -180
    },
    "id": "W36u4C-ejjg4"
   },
   "outputs": [],
   "source": [
    "# Replacinng Column names to lower case. Not essential\n",
    "#dataset.rename(columns={\"IsHoliday\":\"is_holiday\",\"Fuel_Price\":\"fuel_price\",\"Temperature\":\"temperature\",\"CPI\":\"cpi\",\"Unemployment\":\"unemployment\",\"Date\":\"date\",\"Store\":\"store\",\"Dept\":\"dept\",\"Weekly_Sales\":\"weekly_sales\"}, inplace=True)\n"
   ]
  },
  {
   "cell_type": "code",
   "execution_count": 27,
   "metadata": {
    "colab": {
     "base_uri": "https://localhost:8080/"
    },
    "executionInfo": {
     "elapsed": 1048,
     "status": "ok",
     "timestamp": 1606543963902,
     "user": {
      "displayName": "electrical eng500",
      "photoUrl": "https://lh3.googleusercontent.com/a-/AOh14Gg31t8c8rGSFUqxo-7d1o83HPYEpCIpohXJEYlQ=s64",
      "userId": "06113119512919385150"
     },
     "user_tz": -180
    },
    "id": "8TskUVD7O_V7",
    "outputId": "126d6c66-79a6-424f-f546-e874178daeb2"
   },
   "outputs": [
    {
     "data": {
      "text/plain": [
       "0"
      ]
     },
     "execution_count": 27,
     "metadata": {},
     "output_type": "execute_result"
    }
   ],
   "source": [
    "dataset.IsHoliday.isnull().sum()"
   ]
  },
  {
   "cell_type": "code",
   "execution_count": 28,
   "metadata": {
    "executionInfo": {
     "elapsed": 835,
     "status": "ok",
     "timestamp": 1606543985422,
     "user": {
      "displayName": "electrical eng500",
      "photoUrl": "https://lh3.googleusercontent.com/a-/AOh14Gg31t8c8rGSFUqxo-7d1o83HPYEpCIpohXJEYlQ=s64",
      "userId": "06113119512919385150"
     },
     "user_tz": -180
    },
    "id": "n_Yx-_UrOLEl"
   },
   "outputs": [],
   "source": [
    "# fill the missing Is_Holiday value with False, since it is the most prevalent value\n",
    "dataset.IsHoliday= dataset.IsHoliday.fillna(False)"
   ]
  },
  {
   "cell_type": "code",
   "execution_count": 29,
   "metadata": {
    "executionInfo": {
     "elapsed": 912,
     "status": "ok",
     "timestamp": 1606543990486,
     "user": {
      "displayName": "electrical eng500",
      "photoUrl": "https://lh3.googleusercontent.com/a-/AOh14Gg31t8c8rGSFUqxo-7d1o83HPYEpCIpohXJEYlQ=s64",
      "userId": "06113119512919385150"
     },
     "user_tz": -180
    },
    "id": "HNU4LyVUjjg4"
   },
   "outputs": [],
   "source": [
    "# Converting from boolean to int\n",
    "dataset[\"IsHoliday\"] = dataset[\"IsHoliday\"].astype('int64')"
   ]
  },
  {
   "cell_type": "code",
   "execution_count": 30,
   "metadata": {
    "colab": {
     "base_uri": "https://localhost:8080/"
    },
    "executionInfo": {
     "elapsed": 646,
     "status": "ok",
     "timestamp": 1606543992547,
     "user": {
      "displayName": "electrical eng500",
      "photoUrl": "https://lh3.googleusercontent.com/a-/AOh14Gg31t8c8rGSFUqxo-7d1o83HPYEpCIpohXJEYlQ=s64",
      "userId": "06113119512919385150"
     },
     "user_tz": -180
    },
    "id": "_Tslgsg4jjg4",
    "outputId": "7d4c3ae7-d35b-47a6-d6fb-8ad3c8cf17a2"
   },
   "outputs": [
    {
     "data": {
      "text/plain": [
       "Store             int64\n",
       "Date             object\n",
       "Temperature     float64\n",
       "Fuel_Price      float64\n",
       "CPI             float64\n",
       "Unemployment    float64\n",
       "IsHoliday         int64\n",
       "Dept            float64\n",
       "Weekly_Sales    float64\n",
       "dtype: object"
      ]
     },
     "execution_count": 30,
     "metadata": {},
     "output_type": "execute_result"
    }
   ],
   "source": [
    "dataset.dtypes"
   ]
  },
  {
   "cell_type": "code",
   "execution_count": 31,
   "metadata": {
    "colab": {
     "base_uri": "https://localhost:8080/"
    },
    "executionInfo": {
     "elapsed": 880,
     "status": "ok",
     "timestamp": 1606544004671,
     "user": {
      "displayName": "electrical eng500",
      "photoUrl": "https://lh3.googleusercontent.com/a-/AOh14Gg31t8c8rGSFUqxo-7d1o83HPYEpCIpohXJEYlQ=s64",
      "userId": "06113119512919385150"
     },
     "user_tz": -180
    },
    "id": "ZqhZu76o8lKd",
    "outputId": "fca40c2d-fe13-47c5-cfbe-0bd1092007df"
   },
   "outputs": [
    {
     "data": {
      "text/plain": [
       "Store                0\n",
       "Date                 0\n",
       "Temperature     536634\n",
       "Fuel_Price      536634\n",
       "CPI             537219\n",
       "Unemployment    537219\n",
       "IsHoliday            0\n",
       "Dept              8190\n",
       "Weekly_Sales    123254\n",
       "dtype: int64"
      ]
     },
     "execution_count": 31,
     "metadata": {},
     "output_type": "execute_result"
    }
   ],
   "source": [
    "dataset.isnull().sum()"
   ]
  },
  {
   "cell_type": "code",
   "execution_count": 32,
   "metadata": {
    "colab": {
     "base_uri": "https://localhost:8080/"
    },
    "executionInfo": {
     "elapsed": 793,
     "status": "ok",
     "timestamp": 1606544006988,
     "user": {
      "displayName": "electrical eng500",
      "photoUrl": "https://lh3.googleusercontent.com/a-/AOh14Gg31t8c8rGSFUqxo-7d1o83HPYEpCIpohXJEYlQ=s64",
      "userId": "06113119512919385150"
     },
     "user_tz": -180
    },
    "id": "jbf6CxxvR-6U",
    "outputId": "ccb70f65-6edd-4768-b2fe-5b1d9f4b46d2"
   },
   "outputs": [
    {
     "data": {
      "text/plain": [
       "0    1\n",
       "1    1\n",
       "2    1\n",
       "3    1\n",
       "4    1\n",
       "Name: Dept, dtype: int64"
      ]
     },
     "execution_count": 32,
     "metadata": {},
     "output_type": "execute_result"
    }
   ],
   "source": [
    "train.Dept.head()"
   ]
  },
  {
   "cell_type": "code",
   "execution_count": 33,
   "metadata": {
    "colab": {
     "base_uri": "https://localhost:8080/",
     "height": 297
    },
    "executionInfo": {
     "elapsed": 925,
     "status": "ok",
     "timestamp": 1606544014316,
     "user": {
      "displayName": "electrical eng500",
      "photoUrl": "https://lh3.googleusercontent.com/a-/AOh14Gg31t8c8rGSFUqxo-7d1o83HPYEpCIpohXJEYlQ=s64",
      "userId": "06113119512919385150"
     },
     "user_tz": -180
    },
    "id": "phdVgFI0UHdg",
    "outputId": "46d1875f-5f2e-4358-ee5d-63e4db41cabe"
   },
   "outputs": [
    {
     "data": {
      "text/html": [
       "<div>\n",
       "<style scoped>\n",
       "    .dataframe tbody tr th:only-of-type {\n",
       "        vertical-align: middle;\n",
       "    }\n",
       "\n",
       "    .dataframe tbody tr th {\n",
       "        vertical-align: top;\n",
       "    }\n",
       "\n",
       "    .dataframe thead th {\n",
       "        text-align: right;\n",
       "    }\n",
       "</style>\n",
       "<table border=\"1\" class=\"dataframe\">\n",
       "  <thead>\n",
       "    <tr style=\"text-align: right;\">\n",
       "      <th></th>\n",
       "      <th>Store</th>\n",
       "      <th>Temperature</th>\n",
       "      <th>Fuel_Price</th>\n",
       "      <th>CPI</th>\n",
       "      <th>Unemployment</th>\n",
       "      <th>IsHoliday</th>\n",
       "      <th>Dept</th>\n",
       "      <th>Weekly_Sales</th>\n",
       "    </tr>\n",
       "  </thead>\n",
       "  <tbody>\n",
       "    <tr>\n",
       "      <th>count</th>\n",
       "      <td>544824.000000</td>\n",
       "      <td>8190.000000</td>\n",
       "      <td>8190.000000</td>\n",
       "      <td>7605.000000</td>\n",
       "      <td>7605.000000</td>\n",
       "      <td>544824.000000</td>\n",
       "      <td>536634.000000</td>\n",
       "      <td>421570.000000</td>\n",
       "    </tr>\n",
       "    <tr>\n",
       "      <th>mean</th>\n",
       "      <td>22.220517</td>\n",
       "      <td>59.356198</td>\n",
       "      <td>3.405992</td>\n",
       "      <td>172.460809</td>\n",
       "      <td>7.826821</td>\n",
       "      <td>0.071902</td>\n",
       "      <td>44.277301</td>\n",
       "      <td>15981.258123</td>\n",
       "    </tr>\n",
       "    <tr>\n",
       "      <th>std</th>\n",
       "      <td>12.793920</td>\n",
       "      <td>18.678607</td>\n",
       "      <td>0.431337</td>\n",
       "      <td>39.738346</td>\n",
       "      <td>1.877259</td>\n",
       "      <td>0.258326</td>\n",
       "      <td>30.527358</td>\n",
       "      <td>22711.183519</td>\n",
       "    </tr>\n",
       "    <tr>\n",
       "      <th>min</th>\n",
       "      <td>1.000000</td>\n",
       "      <td>-7.290000</td>\n",
       "      <td>2.472000</td>\n",
       "      <td>126.064000</td>\n",
       "      <td>3.684000</td>\n",
       "      <td>0.000000</td>\n",
       "      <td>1.000000</td>\n",
       "      <td>-4988.940000</td>\n",
       "    </tr>\n",
       "    <tr>\n",
       "      <th>25%</th>\n",
       "      <td>11.000000</td>\n",
       "      <td>45.902500</td>\n",
       "      <td>3.041000</td>\n",
       "      <td>132.364839</td>\n",
       "      <td>6.634000</td>\n",
       "      <td>0.000000</td>\n",
       "      <td>18.000000</td>\n",
       "      <td>2079.650000</td>\n",
       "    </tr>\n",
       "    <tr>\n",
       "      <th>50%</th>\n",
       "      <td>22.000000</td>\n",
       "      <td>60.710000</td>\n",
       "      <td>3.513000</td>\n",
       "      <td>182.764003</td>\n",
       "      <td>7.806000</td>\n",
       "      <td>0.000000</td>\n",
       "      <td>37.000000</td>\n",
       "      <td>7612.030000</td>\n",
       "    </tr>\n",
       "    <tr>\n",
       "      <th>75%</th>\n",
       "      <td>33.000000</td>\n",
       "      <td>73.880000</td>\n",
       "      <td>3.743000</td>\n",
       "      <td>213.932412</td>\n",
       "      <td>8.567000</td>\n",
       "      <td>0.000000</td>\n",
       "      <td>74.000000</td>\n",
       "      <td>20205.852500</td>\n",
       "    </tr>\n",
       "    <tr>\n",
       "      <th>max</th>\n",
       "      <td>45.000000</td>\n",
       "      <td>101.950000</td>\n",
       "      <td>4.468000</td>\n",
       "      <td>228.976456</td>\n",
       "      <td>14.313000</td>\n",
       "      <td>1.000000</td>\n",
       "      <td>99.000000</td>\n",
       "      <td>693099.360000</td>\n",
       "    </tr>\n",
       "  </tbody>\n",
       "</table>\n",
       "</div>"
      ],
      "text/plain": [
       "               Store  Temperature   Fuel_Price          CPI  Unemployment  \\\n",
       "count  544824.000000  8190.000000  8190.000000  7605.000000   7605.000000   \n",
       "mean       22.220517    59.356198     3.405992   172.460809      7.826821   \n",
       "std        12.793920    18.678607     0.431337    39.738346      1.877259   \n",
       "min         1.000000    -7.290000     2.472000   126.064000      3.684000   \n",
       "25%        11.000000    45.902500     3.041000   132.364839      6.634000   \n",
       "50%        22.000000    60.710000     3.513000   182.764003      7.806000   \n",
       "75%        33.000000    73.880000     3.743000   213.932412      8.567000   \n",
       "max        45.000000   101.950000     4.468000   228.976456     14.313000   \n",
       "\n",
       "           IsHoliday           Dept   Weekly_Sales  \n",
       "count  544824.000000  536634.000000  421570.000000  \n",
       "mean        0.071902      44.277301   15981.258123  \n",
       "std         0.258326      30.527358   22711.183519  \n",
       "min         0.000000       1.000000   -4988.940000  \n",
       "25%         0.000000      18.000000    2079.650000  \n",
       "50%         0.000000      37.000000    7612.030000  \n",
       "75%         0.000000      74.000000   20205.852500  \n",
       "max         1.000000      99.000000  693099.360000  "
      ]
     },
     "execution_count": 33,
     "metadata": {},
     "output_type": "execute_result"
    }
   ],
   "source": [
    "dataset.describe()"
   ]
  },
  {
   "cell_type": "code",
   "execution_count": 34,
   "metadata": {
    "executionInfo": {
     "elapsed": 871,
     "status": "ok",
     "timestamp": 1606544021306,
     "user": {
      "displayName": "electrical eng500",
      "photoUrl": "https://lh3.googleusercontent.com/a-/AOh14Gg31t8c8rGSFUqxo-7d1o83HPYEpCIpohXJEYlQ=s64",
      "userId": "06113119512919385150"
     },
     "user_tz": -180
    },
    "id": "BvCg5JgXYjB6"
   },
   "outputs": [],
   "source": [
    "# Getting dummies...One Hot Encoding\n",
    "dataset = pd.get_dummies(dataset, columns = [\"Date\"], prefix=\"D\")"
   ]
  },
  {
   "cell_type": "markdown",
   "metadata": {
    "id": "DkxHAAPJU0OL"
   },
   "source": [
    "Caveats of workdone so far. \n",
    " Since test and train set is provided , we wont strife to further engineer the volumnious missing values, but might as well later split our own test and train set from features and see how well our modell generalise when provided with additional data.\n",
    "\n",
    " For now we work with the provided test and train set.\n",
    " "
   ]
  },
  {
   "cell_type": "code",
   "execution_count": 35,
   "metadata": {
    "executionInfo": {
     "elapsed": 999,
     "status": "ok",
     "timestamp": 1606544037256,
     "user": {
      "displayName": "electrical eng500",
      "photoUrl": "https://lh3.googleusercontent.com/a-/AOh14Gg31t8c8rGSFUqxo-7d1o83HPYEpCIpohXJEYlQ=s64",
      "userId": "06113119512919385150"
     },
     "user_tz": -180
    },
    "id": "-3t70L6iUwYE"
   },
   "outputs": [],
   "source": [
    "\n",
    "# Splitting the train and test set from our dataset.\n",
    "featuresf = dataset[:features_len]\n",
    "trainf = dataset[features_len:(features_len+train_len)]\n",
    "testf = dataset[(features_len+train_len):]\n",
    "#testf.drop(labels=[\"Survived\"],axis = 1,inplace=True)"
   ]
  },
  {
   "cell_type": "code",
   "execution_count": 36,
   "metadata": {
    "colab": {
     "base_uri": "https://localhost:8080/"
    },
    "executionInfo": {
     "elapsed": 1058,
     "status": "ok",
     "timestamp": 1606544048034,
     "user": {
      "displayName": "electrical eng500",
      "photoUrl": "https://lh3.googleusercontent.com/a-/AOh14Gg31t8c8rGSFUqxo-7d1o83HPYEpCIpohXJEYlQ=s64",
      "userId": "06113119512919385150"
     },
     "user_tz": -180
    },
    "id": "hykCx6EvXZe3",
    "outputId": "b56893da-0fab-4703-8d5b-f97957836851"
   },
   "outputs": [
    {
     "name": "stdout",
     "output_type": "stream",
     "text": [
      "<class 'pandas.core.frame.DataFrame'>\n",
      "RangeIndex: 421570 entries, 8190 to 429759\n",
      "Data columns (total 13 columns):\n",
      " #   Column        Non-Null Count   Dtype  \n",
      "---  ------        --------------   -----  \n",
      " 0   Store         421570 non-null  int64  \n",
      " 1   Temperature   0 non-null       float64\n",
      " 2   Fuel_Price    0 non-null       float64\n",
      " 3   CPI           0 non-null       float64\n",
      " 4   Unemployment  0 non-null       float64\n",
      " 5   IsHoliday     421570 non-null  int64  \n",
      " 6   Dept          421570 non-null  float64\n",
      " 7   Weekly_Sales  421570 non-null  float64\n",
      " 8   D_C           421570 non-null  uint8  \n",
      " 9   D_L           421570 non-null  uint8  \n",
      " 10  D_N           421570 non-null  uint8  \n",
      " 11  D_S           421570 non-null  uint8  \n",
      " 12  D_T           421570 non-null  uint8  \n",
      "dtypes: float64(6), int64(2), uint8(5)\n",
      "memory usage: 27.7 MB\n",
      "<class 'pandas.core.frame.DataFrame'>\n",
      "RangeIndex: 115064 entries, 429760 to 544823\n",
      "Data columns (total 13 columns):\n",
      " #   Column        Non-Null Count   Dtype  \n",
      "---  ------        --------------   -----  \n",
      " 0   Store         115064 non-null  int64  \n",
      " 1   Temperature   0 non-null       float64\n",
      " 2   Fuel_Price    0 non-null       float64\n",
      " 3   CPI           0 non-null       float64\n",
      " 4   Unemployment  0 non-null       float64\n",
      " 5   IsHoliday     115064 non-null  int64  \n",
      " 6   Dept          115064 non-null  float64\n",
      " 7   Weekly_Sales  0 non-null       float64\n",
      " 8   D_C           115064 non-null  uint8  \n",
      " 9   D_L           115064 non-null  uint8  \n",
      " 10  D_N           115064 non-null  uint8  \n",
      " 11  D_S           115064 non-null  uint8  \n",
      " 12  D_T           115064 non-null  uint8  \n",
      "dtypes: float64(6), int64(2), uint8(5)\n",
      "memory usage: 7.6 MB\n"
     ]
    }
   ],
   "source": [
    "#\n",
    "trainf.info()\n",
    "testf.info()"
   ]
  },
  {
   "cell_type": "code",
   "execution_count": 37,
   "metadata": {
    "colab": {
     "base_uri": "https://localhost:8080/",
     "height": 204
    },
    "executionInfo": {
     "elapsed": 1138,
     "status": "ok",
     "timestamp": 1606544192740,
     "user": {
      "displayName": "electrical eng500",
      "photoUrl": "https://lh3.googleusercontent.com/a-/AOh14Gg31t8c8rGSFUqxo-7d1o83HPYEpCIpohXJEYlQ=s64",
      "userId": "06113119512919385150"
     },
     "user_tz": -180
    },
    "id": "SZRbp48_fsLV",
    "outputId": "44c0a2ca-cdb7-4711-9630-e305f18e679c"
   },
   "outputs": [
    {
     "data": {
      "text/html": [
       "<div>\n",
       "<style scoped>\n",
       "    .dataframe tbody tr th:only-of-type {\n",
       "        vertical-align: middle;\n",
       "    }\n",
       "\n",
       "    .dataframe tbody tr th {\n",
       "        vertical-align: top;\n",
       "    }\n",
       "\n",
       "    .dataframe thead th {\n",
       "        text-align: right;\n",
       "    }\n",
       "</style>\n",
       "<table border=\"1\" class=\"dataframe\">\n",
       "  <thead>\n",
       "    <tr style=\"text-align: right;\">\n",
       "      <th></th>\n",
       "      <th>Store</th>\n",
       "      <th>Temperature</th>\n",
       "      <th>Fuel_Price</th>\n",
       "      <th>CPI</th>\n",
       "      <th>Unemployment</th>\n",
       "      <th>IsHoliday</th>\n",
       "      <th>Dept</th>\n",
       "      <th>Weekly_Sales</th>\n",
       "      <th>D_C</th>\n",
       "      <th>D_L</th>\n",
       "      <th>D_N</th>\n",
       "      <th>D_S</th>\n",
       "      <th>D_T</th>\n",
       "    </tr>\n",
       "  </thead>\n",
       "  <tbody>\n",
       "    <tr>\n",
       "      <th>8190</th>\n",
       "      <td>1</td>\n",
       "      <td>NaN</td>\n",
       "      <td>NaN</td>\n",
       "      <td>NaN</td>\n",
       "      <td>NaN</td>\n",
       "      <td>0</td>\n",
       "      <td>1.0</td>\n",
       "      <td>24924.50</td>\n",
       "      <td>0</td>\n",
       "      <td>0</td>\n",
       "      <td>1</td>\n",
       "      <td>0</td>\n",
       "      <td>0</td>\n",
       "    </tr>\n",
       "    <tr>\n",
       "      <th>8191</th>\n",
       "      <td>1</td>\n",
       "      <td>NaN</td>\n",
       "      <td>NaN</td>\n",
       "      <td>NaN</td>\n",
       "      <td>NaN</td>\n",
       "      <td>1</td>\n",
       "      <td>1.0</td>\n",
       "      <td>46039.49</td>\n",
       "      <td>0</td>\n",
       "      <td>0</td>\n",
       "      <td>0</td>\n",
       "      <td>1</td>\n",
       "      <td>0</td>\n",
       "    </tr>\n",
       "    <tr>\n",
       "      <th>8192</th>\n",
       "      <td>1</td>\n",
       "      <td>NaN</td>\n",
       "      <td>NaN</td>\n",
       "      <td>NaN</td>\n",
       "      <td>NaN</td>\n",
       "      <td>0</td>\n",
       "      <td>1.0</td>\n",
       "      <td>41595.55</td>\n",
       "      <td>0</td>\n",
       "      <td>0</td>\n",
       "      <td>1</td>\n",
       "      <td>0</td>\n",
       "      <td>0</td>\n",
       "    </tr>\n",
       "    <tr>\n",
       "      <th>8193</th>\n",
       "      <td>1</td>\n",
       "      <td>NaN</td>\n",
       "      <td>NaN</td>\n",
       "      <td>NaN</td>\n",
       "      <td>NaN</td>\n",
       "      <td>0</td>\n",
       "      <td>1.0</td>\n",
       "      <td>19403.54</td>\n",
       "      <td>0</td>\n",
       "      <td>0</td>\n",
       "      <td>1</td>\n",
       "      <td>0</td>\n",
       "      <td>0</td>\n",
       "    </tr>\n",
       "    <tr>\n",
       "      <th>8194</th>\n",
       "      <td>1</td>\n",
       "      <td>NaN</td>\n",
       "      <td>NaN</td>\n",
       "      <td>NaN</td>\n",
       "      <td>NaN</td>\n",
       "      <td>0</td>\n",
       "      <td>1.0</td>\n",
       "      <td>21827.90</td>\n",
       "      <td>0</td>\n",
       "      <td>0</td>\n",
       "      <td>1</td>\n",
       "      <td>0</td>\n",
       "      <td>0</td>\n",
       "    </tr>\n",
       "  </tbody>\n",
       "</table>\n",
       "</div>"
      ],
      "text/plain": [
       "      Store  Temperature  Fuel_Price  CPI  Unemployment  IsHoliday  Dept  \\\n",
       "8190      1          NaN         NaN  NaN           NaN          0   1.0   \n",
       "8191      1          NaN         NaN  NaN           NaN          1   1.0   \n",
       "8192      1          NaN         NaN  NaN           NaN          0   1.0   \n",
       "8193      1          NaN         NaN  NaN           NaN          0   1.0   \n",
       "8194      1          NaN         NaN  NaN           NaN          0   1.0   \n",
       "\n",
       "      Weekly_Sales  D_C  D_L  D_N  D_S  D_T  \n",
       "8190      24924.50    0    0    1    0    0  \n",
       "8191      46039.49    0    0    0    1    0  \n",
       "8192      41595.55    0    0    1    0    0  \n",
       "8193      19403.54    0    0    1    0    0  \n",
       "8194      21827.90    0    0    1    0    0  "
      ]
     },
     "execution_count": 37,
     "metadata": {},
     "output_type": "execute_result"
    }
   ],
   "source": [
    "trainf.head()"
   ]
  },
  {
   "cell_type": "markdown",
   "metadata": {
    "id": "njROsytqf5vK"
   },
   "source": [
    "Our date is now one hot encoded .\n",
    "We now need to drop the Tempereture,Fuel_Price,CPI,Unemployment and index then train our model on the data.\n",
    "\n",
    "Later we can train a different model version with more data from featues and see how it generalises to the test case with more data\n",
    "\n"
   ]
  },
  {
   "cell_type": "code",
   "execution_count": 38,
   "metadata": {
    "colab": {
     "base_uri": "https://localhost:8080/"
    },
    "executionInfo": {
     "elapsed": 849,
     "status": "ok",
     "timestamp": 1606545843708,
     "user": {
      "displayName": "electrical eng500",
      "photoUrl": "https://lh3.googleusercontent.com/a-/AOh14Gg31t8c8rGSFUqxo-7d1o83HPYEpCIpohXJEYlQ=s64",
      "userId": "06113119512919385150"
     },
     "user_tz": -180
    },
    "id": "ylwFe-_aghwr",
    "outputId": "3fef5351-b2ac-4606-9b1d-b5d36edaa04b"
   },
   "outputs": [
    {
     "name": "stderr",
     "output_type": "stream",
     "text": [
      "c:\\users\\boniface\\appdata\\local\\programs\\python\\python38-32\\lib\\site-packages\\pandas\\core\\frame.py:4160: SettingWithCopyWarning: \n",
      "A value is trying to be set on a copy of a slice from a DataFrame\n",
      "\n",
      "See the caveats in the documentation: https://pandas.pydata.org/pandas-docs/stable/user_guide/indexing.html#returning-a-view-versus-a-copy\n",
      "  return super().drop(\n"
     ]
    }
   ],
   "source": [
    "# Droping unnecessary columns in trainf\n",
    "trainf.drop(['Temperature','Fuel_Price','CPI','Unemployment'], axis=1, inplace =True)"
   ]
  },
  {
   "cell_type": "code",
   "execution_count": 39,
   "metadata": {
    "colab": {
     "base_uri": "https://localhost:8080/"
    },
    "executionInfo": {
     "elapsed": 811,
     "status": "ok",
     "timestamp": 1606545888563,
     "user": {
      "displayName": "electrical eng500",
      "photoUrl": "https://lh3.googleusercontent.com/a-/AOh14Gg31t8c8rGSFUqxo-7d1o83HPYEpCIpohXJEYlQ=s64",
      "userId": "06113119512919385150"
     },
     "user_tz": -180
    },
    "id": "cWxzyzLKldQX",
    "outputId": "c3d2c1b1-02af-4520-9a2a-ba9a0c1682fe"
   },
   "outputs": [],
   "source": [
    "# Droping unnecessary columns in testf\n",
    "testf.drop(['Temperature','Fuel_Price','CPI','Unemployment','Weekly_Sales'], axis=1, inplace =True)"
   ]
  },
  {
   "cell_type": "code",
   "execution_count": 40,
   "metadata": {
    "colab": {
     "base_uri": "https://localhost:8080/"
    },
    "executionInfo": {
     "elapsed": 819,
     "status": "ok",
     "timestamp": 1606546752370,
     "user": {
      "displayName": "electrical eng500",
      "photoUrl": "https://lh3.googleusercontent.com/a-/AOh14Gg31t8c8rGSFUqxo-7d1o83HPYEpCIpohXJEYlQ=s64",
      "userId": "06113119512919385150"
     },
     "user_tz": -180
    },
    "id": "8CWUW_ywmPJN",
    "outputId": "7f89895e-1678-4972-fbd9-8cbe8257e650"
   },
   "outputs": [
    {
     "name": "stdout",
     "output_type": "stream",
     "text": [
      "<class 'pandas.core.frame.DataFrame'>\n",
      "RangeIndex: 421570 entries, 8190 to 429759\n",
      "Data columns (total 9 columns):\n",
      " #   Column        Non-Null Count   Dtype  \n",
      "---  ------        --------------   -----  \n",
      " 0   Store         421570 non-null  int64  \n",
      " 1   IsHoliday     421570 non-null  int64  \n",
      " 2   Dept          421570 non-null  float64\n",
      " 3   Weekly_Sales  421570 non-null  float64\n",
      " 4   D_C           421570 non-null  uint8  \n",
      " 5   D_L           421570 non-null  uint8  \n",
      " 6   D_N           421570 non-null  uint8  \n",
      " 7   D_S           421570 non-null  uint8  \n",
      " 8   D_T           421570 non-null  uint8  \n",
      "dtypes: float64(2), int64(2), uint8(5)\n",
      "memory usage: 14.9 MB\n"
     ]
    }
   ],
   "source": [
    "trainf.info()"
   ]
  },
  {
   "cell_type": "markdown",
   "metadata": {},
   "source": [
    "### The above info is evident that we have insufficient features, but for the sake of sanity, lets explore how our model will perform with almost to nothing information"
   ]
  },
  {
   "cell_type": "markdown",
   "metadata": {},
   "source": [
    "#### Data Visualisation"
   ]
  },
  {
   "cell_type": "code",
   "execution_count": 41,
   "metadata": {
    "colab": {
     "base_uri": "https://localhost:8080/",
     "height": 344
    },
    "executionInfo": {
     "elapsed": 1672,
     "status": "ok",
     "timestamp": 1606546893487,
     "user": {
      "displayName": "electrical eng500",
      "photoUrl": "https://lh3.googleusercontent.com/a-/AOh14Gg31t8c8rGSFUqxo-7d1o83HPYEpCIpohXJEYlQ=s64",
      "userId": "06113119512919385150"
     },
     "user_tz": -180
    },
    "id": "n_Dja7dqltH5",
    "outputId": "6ba8236e-0c22-4bdb-f4eb-59e18c708dc9"
   },
   "outputs": [
    {
     "data": {
      "text/plain": [
       "<AxesSubplot:>"
      ]
     },
     "execution_count": 41,
     "metadata": {},
     "output_type": "execute_result"
    },
    {
     "data": {
      "image/png": "[encoded data removed]",
      "text/plain": [
       "<Figure size 432x288 with 2 Axes>"
      ]
     },
     "metadata": {
      "needs_background": "light"
     },
     "output_type": "display_data"
    }
   ],
   "source": [
    "# Correlation map to ascertain features that have most correlation with each other.\n",
    "sns.heatmap(trainf.corr(),annot =True,fmt=\".2f\",cmap=\"BrBG\")"
   ]
  },
  {
   "cell_type": "markdown",
   "metadata": {
    "id": "4ZZdyWVrqlbb"
   },
   "source": [
    "From the above map, it is evident that Dept has a strong correlation with weekly sales making it a very good feature to have"
   ]
  },
  {
   "cell_type": "code",
   "execution_count": 42,
   "metadata": {
    "colab": {
     "base_uri": "https://localhost:8080/",
     "height": 455
    },
    "executionInfo": {
     "elapsed": 4876,
     "status": "ok",
     "timestamp": 1606547947618,
     "user": {
      "displayName": "electrical eng500",
      "photoUrl": "https://lh3.googleusercontent.com/a-/AOh14Gg31t8c8rGSFUqxo-7d1o83HPYEpCIpohXJEYlQ=s64",
      "userId": "06113119512919385150"
     },
     "user_tz": -180
    },
    "id": "sk_z2gaNQB18",
    "outputId": "6e5e2413-4d92-472f-ed0d-efe5842aaafa"
   },
   "outputs": [
    {
     "data": {
      "image/png": "[encoded data removed]",
      "text/plain": [
       "<Figure size 432x432 with 1 Axes>"
      ]
     },
     "metadata": {
      "needs_background": "light"
     },
     "output_type": "display_data"
    }
   ],
   "source": [
    "# Explore SibSp feature vs Survived\n",
    "g = sns.catplot(x=\"Dept\",y=\"Weekly_Sales\",data=trainf,kind=\"strip\", height = 6 , palette = \"muted\")\n",
    "g.despine(left=True)\n",
    "g = g.set_ylabels(\"Weekly Sales\")"
   ]
  },
  {
   "cell_type": "code",
   "execution_count": 43,
   "metadata": {
    "colab": {
     "base_uri": "https://localhost:8080/"
    },
    "executionInfo": {
     "elapsed": 771,
     "status": "ok",
     "timestamp": 1606547785263,
     "user": {
      "displayName": "electrical eng500",
      "photoUrl": "https://lh3.googleusercontent.com/a-/AOh14Gg31t8c8rGSFUqxo-7d1o83HPYEpCIpohXJEYlQ=s64",
      "userId": "06113119512919385150"
     },
     "user_tz": -180
    },
    "id": "gTRtLE39BNlr",
    "outputId": "a3467815-3324-4631-a03a-10fdd109d799"
   },
   "outputs": [
    {
     "data": {
      "text/plain": [
       "array([ 1.,  2.,  3.,  4.,  5.,  6.,  7.,  8.,  9., 10., 11., 12., 13.,\n",
       "       14., 16., 17., 18., 19., 20., 21., 22., 23., 24., 25., 26., 27.,\n",
       "       28., 29., 30., 31., 32., 33., 34., 35., 36., 37., 38., 40., 41.,\n",
       "       42., 44., 45., 46., 47., 48., 49., 51., 52., 54., 55., 56., 58.,\n",
       "       59., 60., 67., 71., 72., 74., 77., 78., 79., 80., 81., 82., 83.,\n",
       "       85., 87., 90., 91., 92., 93., 94., 95., 96., 97., 98., 99., 39.,\n",
       "       50., 43., 65.])"
      ]
     },
     "execution_count": 43,
     "metadata": {},
     "output_type": "execute_result"
    }
   ],
   "source": [
    "trainf.Dept.unique()\n",
    "# We have a total of 80 dept, Thus The congestion in the x-axis. This still proves how this is feature holds much weight"
   ]
  },
  {
   "cell_type": "code",
   "execution_count": 44,
   "metadata": {
    "colab": {
     "base_uri": "https://localhost:8080/",
     "height": 1000
    },
    "executionInfo": {
     "elapsed": 6228,
     "status": "ok",
     "timestamp": 1606549041416,
     "user": {
      "displayName": "electrical eng500",
      "photoUrl": "https://lh3.googleusercontent.com/a-/AOh14Gg31t8c8rGSFUqxo-7d1o83HPYEpCIpohXJEYlQ=s64",
      "userId": "06113119512919385150"
     },
     "user_tz": -180
    },
    "id": "3XAWAahGB4_m",
    "outputId": "cd5e7c2c-2446-480a-b82d-c63c4f5890b3"
   },
   "outputs": [
    {
     "data": {
      "text/plain": [
       "array([[<AxesSubplot:title={'center':'Store'}>,\n",
       "        <AxesSubplot:title={'center':'IsHoliday'}>,\n",
       "        <AxesSubplot:title={'center':'Dept'}>],\n",
       "       [<AxesSubplot:title={'center':'Weekly_Sales'}>,\n",
       "        <AxesSubplot:title={'center':'D_C'}>,\n",
       "        <AxesSubplot:title={'center':'D_L'}>],\n",
       "       [<AxesSubplot:title={'center':'D_N'}>,\n",
       "        <AxesSubplot:title={'center':'D_S'}>,\n",
       "        <AxesSubplot:title={'center':'D_T'}>]], dtype=object)"
      ]
     },
     "execution_count": 44,
     "metadata": {},
     "output_type": "execute_result"
    },
    {
     "data": {
      "image/png": "[encoded data removed]",
      "text/plain": [
       "<Figure size 1440x1080 with 9 Axes>"
      ]
     },
     "metadata": {
      "needs_background": "light"
     },
     "output_type": "display_data"
    }
   ],
   "source": [
    "# Lets plot a hist and see the correlation of each attribute more closely\n",
    "#%matplotlib inline not specified\n",
    "trainf.hist(bins=50, figsize=(20,15))"
   ]
  },
  {
   "cell_type": "code",
   "execution_count": 45,
   "metadata": {
    "executionInfo": {
     "elapsed": 1113,
     "status": "ok",
     "timestamp": 1606549592163,
     "user": {
      "displayName": "electrical eng500",
      "photoUrl": "https://lh3.googleusercontent.com/a-/AOh14Gg31t8c8rGSFUqxo-7d1o83HPYEpCIpohXJEYlQ=s64",
      "userId": "06113119512919385150"
     },
     "user_tz": -180
    },
    "id": "Ko-zL-66ytKc"
   },
   "outputs": [],
   "source": [
    "# Lets now chose a model.\n",
    "from sklearn.linear_model import LinearRegression\n",
    "from sklearn.metrics import mean_squared_error\n",
    "from sklearn.tree import DecisionTreeRegressor\n",
    "from sklearn.model_selection import cross_val_score\n",
    "from sklearn.ensemble import RandomForestRegressor\n",
    "from sklearn.model_selection import GridSearchCV\n"
   ]
  },
  {
   "cell_type": "markdown",
   "metadata": {},
   "source": [
    "#### The Linear Regression Model"
   ]
  },
  {
   "cell_type": "markdown",
   "metadata": {},
   "source": [
    "## Lets split our training set into sample train test and validation test.\n",
    "#### Later after we are satisfied that our model is upto the task, we can now use the test set."
   ]
  },
  {
   "cell_type": "code",
   "execution_count": 46,
   "metadata": {},
   "outputs": [],
   "source": [
    "## We can define our own function, but since sklearn comes loaded, lets use its already defined method\n",
    "from sklearn.model_selection import train_test_split\n",
    "\n",
    "train_set, test_set = train_test_split(trainf, test_size=0.2, random_state=42)"
   ]
  },
  {
   "cell_type": "code",
   "execution_count": 47,
   "metadata": {},
   "outputs": [],
   "source": [
    "# data our model will be trained and validated with prior to testing it on the actual test set\n",
    "train_1 = train_set.drop(\"Weekly_Sales\", axis=1)\n",
    "train_labels = train_set[\"Weekly_Sales\"].copy()"
   ]
  },
  {
   "cell_type": "markdown",
   "metadata": {},
   "source": [
    "## Model Selection"
   ]
  },
  {
   "cell_type": "code",
   "execution_count": 48,
   "metadata": {
    "id": "vRZJNjvV0WaC"
   },
   "outputs": [
    {
     "data": {
      "text/plain": [
       "LinearRegression()"
      ]
     },
     "execution_count": 48,
     "metadata": {},
     "output_type": "execute_result"
    }
   ],
   "source": [
    "# Instantiate our model and train it on the validation set\n",
    "lin_reg = LinearRegression()\n",
    "lin_reg.fit(train_1, train_labels)"
   ]
  },
  {
   "cell_type": "code",
   "execution_count": 49,
   "metadata": {},
   "outputs": [],
   "source": [
    "#  Let’s try it out on a few instances from the validation set:\n",
    "some_data = train_1.iloc[:5]\n",
    "some_labels = train_labels.iloc[:5]"
   ]
  },
  {
   "cell_type": "code",
   "execution_count": 50,
   "metadata": {},
   "outputs": [
    {
     "name": "stdout",
     "output_type": "stream",
     "text": [
      "Predictions: [12420.       12528.       16512.015625 16620.015625 16820.390625]\n",
      "Labels: [7490.24, 48.25, 1262.75, 8722.34, 15247.36]\n"
     ]
    }
   ],
   "source": [
    "# Lets get some predictions\n",
    "print(\"Predictions:\", lin_reg.predict(some_data))\n",
    "print(\"Labels:\", list(some_labels))"
   ]
  },
  {
   "cell_type": "markdown",
   "metadata": {},
   "source": [
    "### Our Linear Regression Model seem to perfom worse, it might be underfitting the data and additional features need to be included"
   ]
  },
  {
   "cell_type": "code",
   "execution_count": 51,
   "metadata": {},
   "outputs": [],
   "source": [
    "# prepare the validation test set\n",
    "test_1 = test_set.drop(\"Weekly_Sales\", axis=1)\n",
    "# this is to ensure train label is of same size as the test set\n",
    "train_labels_custom = train_labels[:84314]"
   ]
  },
  {
   "cell_type": "code",
   "execution_count": 52,
   "metadata": {},
   "outputs": [
    {
     "data": {
      "text/plain": [
       "22910.9840574324"
      ]
     },
     "execution_count": 52,
     "metadata": {},
     "output_type": "execute_result"
    }
   ],
   "source": [
    "### Let’s measure this regression model’s RMSE on the whole validation set using Scikit-Learn’s mean_squared_error function:\n",
    "sales_predictions = lin_reg.predict(test_1)\n",
    "lin_mse = mean_squared_error(train_labels_custom, sales_predictions)\n",
    "lin_rmse = np.sqrt(lin_mse)\n",
    "lin_rmse\n"
   ]
  },
  {
   "cell_type": "code",
   "execution_count": 53,
   "metadata": {},
   "outputs": [
    {
     "data": {
      "text/plain": [
       "15981.25812346704"
      ]
     },
     "execution_count": 53,
     "metadata": {},
     "output_type": "execute_result"
    }
   ],
   "source": [
    "trainf.Weekly_Sales.mean()"
   ]
  },
  {
   "cell_type": "markdown",
   "metadata": {},
   "source": [
    "#### Considering the mean to be 15,981, a prediction error of 22910 is not very satisfying"
   ]
  },
  {
   "cell_type": "markdown",
   "metadata": {},
   "source": [
    "### Decision Tree Regressor"
   ]
  },
  {
   "cell_type": "code",
   "execution_count": 54,
   "metadata": {},
   "outputs": [
    {
     "data": {
      "text/plain": [
       "DecisionTreeRegressor()"
      ]
     },
     "execution_count": 54,
     "metadata": {},
     "output_type": "execute_result"
    }
   ],
   "source": [
    "tree_reg = DecisionTreeRegressor()\n",
    "tree_reg.fit(train_1, train_labels)"
   ]
  },
  {
   "cell_type": "code",
   "execution_count": 55,
   "metadata": {},
   "outputs": [
    {
     "data": {
      "text/plain": [
       "31556.82199021385"
      ]
     },
     "execution_count": 55,
     "metadata": {},
     "output_type": "execute_result"
    }
   ],
   "source": [
    " ### Since the modelis trained, lets evaluate it on the validation test\n",
    "sales_predictions = tree_reg.predict(test_1)\n",
    "tree_mse = mean_squared_error(train_labels_custom, sales_predictions)\n",
    "tree_rmse = np.sqrt(tree_mse)\n",
    "tree_rmse\n"
   ]
  },
  {
   "cell_type": "markdown",
   "metadata": {},
   "source": [
    "## This Decision Tree perfomes worse than our linear regression model"
   ]
  },
  {
   "cell_type": "markdown",
   "metadata": {},
   "source": [
    "#### Lets use cross validation and see what effect this has on the model"
   ]
  },
  {
   "cell_type": "code",
   "execution_count": 56,
   "metadata": {},
   "outputs": [
    {
     "data": {
      "text/plain": [
       "array([24036.50333301, 24499.29896775, 24354.28661575, 23357.74768677,\n",
       "       23993.34564605, 23945.09856103, 24254.29690243, 23517.96297922,\n",
       "       22817.56935685, 23998.44992546])"
      ]
     },
     "execution_count": 56,
     "metadata": {},
     "output_type": "execute_result"
    }
   ],
   "source": [
    "scores = cross_val_score(tree_reg, test_1, train_labels_custom,scoring=\"neg_mean_squared_error\", cv=10)\n",
    "tree_rmse_scores = np.sqrt(-scores)\n",
    "tree_rmse_scores"
   ]
  },
  {
   "cell_type": "code",
   "execution_count": 57,
   "metadata": {},
   "outputs": [],
   "source": [
    "# Results\n",
    "def display_scores(scores):\n",
    "    print(\"Scores:\", scores)\n",
    "    print(\"Mean:\", scores.mean())\n",
    "    print(\"Standard deviation:\", scores.std())"
   ]
  },
  {
   "cell_type": "code",
   "execution_count": 58,
   "metadata": {},
   "outputs": [
    {
     "name": "stdout",
     "output_type": "stream",
     "text": [
      "Scores: [24036.50333301 24499.29896775 24354.28661575 23357.74768677\n",
      " 23993.34564605 23945.09856103 24254.29690243 23517.96297922\n",
      " 22817.56935685 23998.44992546]\n",
      "Mean: 23877.455997430316\n",
      "Standard deviation: 483.3940781409989\n"
     ]
    }
   ],
   "source": [
    "display_scores(tree_rmse_scores)"
   ]
  },
  {
   "cell_type": "code",
   "execution_count": 59,
   "metadata": {},
   "outputs": [],
   "source": [
    "scores = cross_val_score(lin_reg, test_1, train_labels_custom,scoring=\"neg_mean_squared_error\", cv=10)\n",
    "lin_rmse_scores = np.sqrt(-scores)"
   ]
  },
  {
   "cell_type": "code",
   "execution_count": 60,
   "metadata": {},
   "outputs": [
    {
     "name": "stdout",
     "output_type": "stream",
     "text": [
      "Scores: [22349.26073207 23713.85960536 22774.61097579 22131.08134406\n",
      " 22593.41977435 22875.28793011 22892.19672463 22251.68686519\n",
      " 21246.04407265 22809.26223992]\n",
      "Mean: 22563.671026413493\n",
      "Standard deviation: 608.2963261691955\n"
     ]
    }
   ],
   "source": [
    "display_scores(lin_rmse_scores)"
   ]
  },
  {
   "cell_type": "markdown",
   "metadata": {},
   "source": [
    "# Its evident the DecisionTree is overfitting hence its bad perfomance"
   ]
  },
  {
   "cell_type": "code",
   "execution_count": 61,
   "metadata": {},
   "outputs": [
    {
     "data": {
      "text/plain": [
       "RandomForestRegressor()"
      ]
     },
     "execution_count": 61,
     "metadata": {},
     "output_type": "execute_result"
    }
   ],
   "source": [
    "## RandomForest\n",
    "forest_reg = RandomForestRegressor()\n",
    "forest_reg.fit(train_1, train_labels)"
   ]
  },
  {
   "cell_type": "code",
   "execution_count": 62,
   "metadata": {},
   "outputs": [
    {
     "data": {
      "text/plain": [
       "31542.80152191642"
      ]
     },
     "execution_count": 62,
     "metadata": {},
     "output_type": "execute_result"
    }
   ],
   "source": [
    "sales_predictions = forest_reg.predict(test_1)\n",
    "forest_mse = mean_squared_error(train_labels_custom, sales_predictions)\n",
    "forest_rmse = np.sqrt(forest_mse)\n",
    "forest_rmse"
   ]
  },
  {
   "cell_type": "code",
   "execution_count": 63,
   "metadata": {},
   "outputs": [],
   "source": [
    "scores = cross_val_score(forest_reg, test_1, train_labels_custom,scoring=\"neg_mean_squared_error\", cv=10)\n",
    "forest_rmse_scores = np.sqrt(-scores)"
   ]
  },
  {
   "cell_type": "code",
   "execution_count": 64,
   "metadata": {},
   "outputs": [
    {
     "name": "stdout",
     "output_type": "stream",
     "text": [
      "Scores: [23136.2917506  24246.31585341 23452.18014833 22786.21065654\n",
      " 23304.2097064  23505.39234624 23671.57944663 22979.7604456\n",
      " 21989.57362419 23460.69384701]\n",
      "Mean: 23253.220782496286\n",
      "Standard deviation: 566.8719091814557\n"
     ]
    }
   ],
   "source": [
    "display_scores(forest_rmse_scores)"
   ]
  },
  {
   "cell_type": "markdown",
   "metadata": {},
   "source": [
    "### It is evident that features we are working with are fewer and thus our models are overfitting, we therefore need more features for our models to perform better."
   ]
  },
  {
   "cell_type": "markdown",
   "metadata": {},
   "source": [
    "### From the results above we can confidently chose the Linear Regression Model since its perfomance is better by a small margin."
   ]
  },
  {
   "cell_type": "markdown",
   "metadata": {},
   "source": [
    "#### However our training set ought to have more features for our model to generalise well and thus perform better."
   ]
  },
  {
   "cell_type": "code",
   "execution_count": 65,
   "metadata": {},
   "outputs": [],
   "source": [
    "# We choose the Linear Regression Model and test it against the actual test set ()\n",
    "train_final = trainf.drop(\"Weekly_Sales\", axis=1)\n",
    "train_labels = trainf[\"Weekly_Sales\"].copy()\n",
    "scores_final = cross_val_score(lin_reg, train_final, train_labels,scoring=\"neg_mean_squared_error\", cv=10)"
   ]
  },
  {
   "cell_type": "code",
   "execution_count": 66,
   "metadata": {},
   "outputs": [
    {
     "name": "stdout",
     "output_type": "stream",
     "text": [
      "Scores: [29006.70718393 18765.07344436 25064.58063514 26367.94614224\n",
      " 24926.30793067 19801.82425585 21822.88482758 19134.78907837\n",
      " 18236.13980737 18620.01814828]\n",
      "Mean: 22174.627145379585\n",
      "Standard deviation: 3673.5723204827445\n"
     ]
    }
   ],
   "source": [
    "# Lets Check its perfomance.\n",
    "rmse_scores = np.sqrt(-scores_final)\n",
    "display_scores(rmse_scores)"
   ]
  },
  {
   "cell_type": "markdown",
   "metadata": {},
   "source": [
    "### Without Inclusion of enough features our conclusion on which model perfomes better might be biased due to overfitting or underfitting cases , our 'best' model is doomed to perform poorly"
   ]
  },
  {
   "cell_type": "code",
   "execution_count": 67,
   "metadata": {},
   "outputs": [],
   "source": [
    "# Lets Predict Sales in the test set\n",
    "predictions = lin_reg.predict(testf)"
   ]
  },
  {
   "cell_type": "code",
   "execution_count": 68,
   "metadata": {},
   "outputs": [
    {
     "data": {
      "text/html": [
       "<div>\n",
       "<style scoped>\n",
       "    .dataframe tbody tr th:only-of-type {\n",
       "        vertical-align: middle;\n",
       "    }\n",
       "\n",
       "    .dataframe tbody tr th {\n",
       "        vertical-align: top;\n",
       "    }\n",
       "\n",
       "    .dataframe thead th {\n",
       "        text-align: right;\n",
       "    }\n",
       "</style>\n",
       "<table border=\"1\" class=\"dataframe\">\n",
       "  <thead>\n",
       "    <tr style=\"text-align: right;\">\n",
       "      <th></th>\n",
       "      <th>Id</th>\n",
       "      <th>Weekly_Sales</th>\n",
       "    </tr>\n",
       "  </thead>\n",
       "  <tbody>\n",
       "    <tr>\n",
       "      <th>0</th>\n",
       "      <td>1_1_2012-11-02</td>\n",
       "      <td>0</td>\n",
       "    </tr>\n",
       "    <tr>\n",
       "      <th>1</th>\n",
       "      <td>1_1_2012-11-09</td>\n",
       "      <td>0</td>\n",
       "    </tr>\n",
       "    <tr>\n",
       "      <th>2</th>\n",
       "      <td>1_1_2012-11-16</td>\n",
       "      <td>0</td>\n",
       "    </tr>\n",
       "    <tr>\n",
       "      <th>3</th>\n",
       "      <td>1_1_2012-11-23</td>\n",
       "      <td>0</td>\n",
       "    </tr>\n",
       "    <tr>\n",
       "      <th>4</th>\n",
       "      <td>1_1_2012-11-30</td>\n",
       "      <td>0</td>\n",
       "    </tr>\n",
       "  </tbody>\n",
       "</table>\n",
       "</div>"
      ],
      "text/plain": [
       "               Id  Weekly_Sales\n",
       "0  1_1_2012-11-02             0\n",
       "1  1_1_2012-11-09             0\n",
       "2  1_1_2012-11-16             0\n",
       "3  1_1_2012-11-23             0\n",
       "4  1_1_2012-11-30             0"
      ]
     },
     "execution_count": 68,
     "metadata": {},
     "output_type": "execute_result"
    }
   ],
   "source": [
    "sampleSubmission.head()"
   ]
  },
  {
   "cell_type": "code",
   "execution_count": 69,
   "metadata": {},
   "outputs": [],
   "source": [
    "# We now need to reconvert our hashed date formats to their original value for submission purposes.\n",
    "sampleSubmission['Weekly_Sales'] = predictions\n",
    "column_date = test.Date\n",
    "sampleSubmission['Date'] = column_date\n",
    "#hashed_date = testf.Date\n",
    "#sampleSubmission['H_Date'] = hashed_date\n",
    "sampleSubmission['Id'] = test['Store'].astype(str) + '_' +  test['Dept'].astype(str) + '_' +  sampleSubmission['Date'].astype(str)\n",
    "sampleSubmission = sampleSubmission[['Id','Weekly_Sales']]"
   ]
  },
  {
   "cell_type": "code",
   "execution_count": 70,
   "metadata": {},
   "outputs": [
    {
     "data": {
      "text/html": [
       "<div>\n",
       "<style scoped>\n",
       "    .dataframe tbody tr th:only-of-type {\n",
       "        vertical-align: middle;\n",
       "    }\n",
       "\n",
       "    .dataframe tbody tr th {\n",
       "        vertical-align: top;\n",
       "    }\n",
       "\n",
       "    .dataframe thead th {\n",
       "        text-align: right;\n",
       "    }\n",
       "</style>\n",
       "<table border=\"1\" class=\"dataframe\">\n",
       "  <thead>\n",
       "    <tr style=\"text-align: right;\">\n",
       "      <th></th>\n",
       "      <th>Id</th>\n",
       "      <th>Weekly_Sales</th>\n",
       "    </tr>\n",
       "  </thead>\n",
       "  <tbody>\n",
       "    <tr>\n",
       "      <th>0</th>\n",
       "      <td>1_1_2012-11-02</td>\n",
       "      <td>14390.15625</td>\n",
       "    </tr>\n",
       "    <tr>\n",
       "      <th>1</th>\n",
       "      <td>1_1_2012-11-09</td>\n",
       "      <td>14390.15625</td>\n",
       "    </tr>\n",
       "    <tr>\n",
       "      <th>2</th>\n",
       "      <td>1_1_2012-11-16</td>\n",
       "      <td>14390.15625</td>\n",
       "    </tr>\n",
       "    <tr>\n",
       "      <th>3</th>\n",
       "      <td>1_1_2012-11-23</td>\n",
       "      <td>20250.68750</td>\n",
       "    </tr>\n",
       "    <tr>\n",
       "      <th>4</th>\n",
       "      <td>1_1_2012-11-30</td>\n",
       "      <td>14390.15625</td>\n",
       "    </tr>\n",
       "  </tbody>\n",
       "</table>\n",
       "</div>"
      ],
      "text/plain": [
       "               Id  Weekly_Sales\n",
       "0  1_1_2012-11-02   14390.15625\n",
       "1  1_1_2012-11-09   14390.15625\n",
       "2  1_1_2012-11-16   14390.15625\n",
       "3  1_1_2012-11-23   20250.68750\n",
       "4  1_1_2012-11-30   14390.15625"
      ]
     },
     "execution_count": 70,
     "metadata": {},
     "output_type": "execute_result"
    }
   ],
   "source": [
    "sampleSubmission.head()"
   ]
  },
  {
   "cell_type": "code",
   "execution_count": 71,
   "metadata": {},
   "outputs": [],
   "source": [
    "sampleSubmission.to_csv('output.csv', index=False)"
   ]
  },
  {
   "cell_type": "markdown",
   "metadata": {},
   "source": [
    "### Later I intend to equip all the models with sufficient features and see the difference in model perfomances"
   ]
  }
 ],
 "metadata": {
  "colab": {
   "collapsed_sections": [],
   "name": "walmart-recruiting.ipynb",
   "provenance": []
  },
  "kernelspec": {
   "display_name": "Python 3",
   "language": "python",
   "name": "python3"
  },
  "language_info": {
   "codemirror_mode": {
    "name": "ipython",
    "version": 3
   },
   "file_extension": ".py",
   "mimetype": "text/x-python",
   "name": "python",
   "nbconvert_exporter": "python",
   "pygments_lexer": "ipython3",
   "version": "3.8.3"
  }
 },
 "nbformat": 4,
 "nbformat_minor": 1
}
